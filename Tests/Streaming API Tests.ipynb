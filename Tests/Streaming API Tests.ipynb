{
 "cells": [
  {
   "cell_type": "markdown",
   "metadata": {},
   "source": [
    "## Mambu Streaming API - Tests"
   ]
  },
  {
   "cell_type": "code",
   "execution_count": 1,
   "metadata": {},
   "outputs": [],
   "source": [
    "%run ../API.py\n",
    "%run ../ENV.py\n",
    "from IPython.core.display import HTML\n",
    "setENV(ENV)"
   ]
  },
  {
   "cell_type": "code",
   "execution_count": 2,
   "metadata": {},
   "outputs": [
    {
     "name": "stdout",
     "output_type": "stream",
     "text": [
      "Overwriting JSONBODY\n"
     ]
    }
   ],
   "source": [
    "%%writefile JSONBODY\n",
    "{\n",
    "    \"owning_application\": \"streaming-api-\",\n",
    "    \"event_types\": [\"mrn.event.michaelgbp.streamingapi.client_activity\"]\n",
    "}"
   ]
  },
  {
   "cell_type": "code",
   "execution_count": 3,
   "metadata": {},
   "outputs": [
    {
     "name": "stdout",
     "output_type": "stream",
     "text": [
      "API status:\n",
      "200\n",
      "Now the JSON:\n",
      "{'owning_application': 'streaming-api-', 'event_types': ['mrn.event.michaelgbp.streamingapi.client_activity'], 'consumer_group': 'default', 'read_from': 'end', 'initial_cursors': [], 'authorization': None, 'id': 'd38a66b9-b9c7-41d3-98cc-0221792813f2', 'created_at': '2020-05-01T13:01:34.515Z', 'updated_at': '2020-05-01T13:01:34.515Z'}\n"
     ]
    }
   ],
   "source": [
    "HEADERS = {'Content-Type': 'application/json', 'apikey': '{{mnenv_apikey2}}'}\n",
    "PARAMS = {}\n",
    "r = POST('{{envMN}}/v1/subscriptions', headers=HEADERS, params=PARAMS, body=\"JSONBODY\", headerparts=APIKEYS)\n",
    "print (\"API status:\")\n",
    "print(r.status_code)\n",
    "print(\"Now the JSON:\")\n",
    "print(r.json())"
   ]
  },
  {
   "cell_type": "markdown",
   "metadata": {},
   "source": [
    "## Subscription ID = d38a66b9-b9c7-41d3-98cc-0221792813f2"
   ]
  },
  {
   "cell_type": "code",
   "execution_count": 6,
   "metadata": {},
   "outputs": [
    {
     "name": "stdout",
     "output_type": "stream",
     "text": [
      "API status: 504\n",
      "JSON Response:\n",
      "NO Content\n"
     ]
    }
   ],
   "source": [
    "HEADERS = {'apikey': '{{mnenv_apikey2}}'}\n",
    "PARAMS = {'size': \"10\"}\n",
    "r = GET('{{envMN}}/v1/subscriptions/d38a66b9-b9c7-41d3-98cc-0221792813f2/events', stream=True, headers=HEADERS, params=PARAMS, headerparts=APIKEYS)\n",
    "PRINT(r)"
   ]
  },
  {
   "cell_type": "code",
   "execution_count": null,
   "metadata": {},
   "outputs": [],
   "source": [
    "from sseclient import SSEClient\n",
    "#HEADERS = {'apikey': 'yQ0JTZT4Q62vm7vX5rtdg2LRf8LFyqP1', 'content-type': 'application/x-json-stream'}\n",
    "#HEADERS = {'apikey': 'yQ0JTZT4Q62vm7vX5rtdg2LRf8LFyqP1', 'Accept': '*/*' }\n",
    "HEADERS = {'apikey': 'yQ0JTZT4Q62vm7vX5rtdg2LRf8LFyqP1', 'content-type': 'application/json' }\n",
    "\n",
    "\n",
    "url = '{{envMN}}/v1/subscriptions/d38a66b9-b9c7-41d3-98cc-0221792813f2/events?batch_flush_timeout=10&batch_limit=1'\n",
    "url = pystache.render(url, ENV)\n",
    "print(url)\n",
    "\n",
    "print(\"Start\")\n",
    "messages = SSEClient(url, headers=HEADERS)\n",
    "print(\"Finished\")\n",
    "# messages = SSEClient(\"http://blah.com/\")\n",
    "\n",
    "# messages = SSEClient(url)\n",
    "\n",
    "print(messages)\n",
    "\n",
    "#for msg in messages:\n",
    "#    do_something_useful(msg)"
   ]
  },
  {
   "cell_type": "code",
   "execution_count": null,
   "metadata": {},
   "outputs": [],
   "source": []
  },
  {
   "cell_type": "code",
   "execution_count": null,
   "metadata": {},
   "outputs": [],
   "source": []
  },
  {
   "cell_type": "code",
   "execution_count": null,
   "metadata": {},
   "outputs": [],
   "source": []
  },
  {
   "cell_type": "code",
   "execution_count": null,
   "metadata": {},
   "outputs": [],
   "source": []
  },
  {
   "cell_type": "code",
   "execution_count": null,
   "metadata": {},
   "outputs": [],
   "source": []
  },
  {
   "cell_type": "code",
   "execution_count": 85,
   "metadata": {},
   "outputs": [
    {
     "name": "stdout",
     "output_type": "stream",
     "text": [
      "API status: 200\n",
      "JSON Response:\n",
      "{\n",
      "    \"events\": [\n",
      "        {\n",
      "            \"client_ip\": \"212.159.109.162\",\n",
      "            \"event_source\": \"UI\",\n",
      "            \"occurred_at\": \"2020-05-01T12:54:08.422Z\",\n",
      "            \"request_method\": \"POST\",\n",
      "            \"request_payload\": \"{\\\"encryptedKey\\\":\\\"Mve+coU1je2UAZ6FynWLvTMUr1TGneyQl1Xq/L5GM3HPlxYi9SdmTxC2NXW/9j/b\\\"}\",\n",
      "            \"request_uri\": \"/desktop/dispatch/DecryptApiKey\",\n",
      "            \"resource\": \"apiconsumerkeys\",\n",
      "            \"resource_fragment\": \"apiconsumerkeys.id=8a193db771bfd66a0171cf93238a4550\",\n",
      "            \"response_code\": 200.0,\n",
      "            \"user_agent\": \"Mozilla/5.0 (Macintosh; Intel Mac OS X 10_15_4) AppleWebKit/537.36 (KHTML, like Gecko) Chrome/81.0.4044.129 Safari/537.36\",\n",
      "            \"username\": \"mark\"\n",
      "        },\n",
      "        {\n",
      "            \"client_ip\": \"212.159.109.162\",\n",
      "            \"event_source\": \"UI\",\n",
      "            \"occurred_at\": \"2020-05-01T12:54:06.083Z\",\n",
      "            \"request_method\": \"POST\",\n",
      "            \"request_payload\": \"{\\\"consumerEncodedKey\\\":\\\"8a193db771bfd66a0171cf93238a4550\\\"}\",\n",
      "            \"request_uri\": \"/desktop/dispatch/GetApiConsumerKeys\",\n",
      "            \"resource\": \"apiconsumerkeys\",\n",
      "            \"resource_fragment\": \"apiconsumerkeys.id=8a193db771bfd66a0171cf93238a4550\",\n",
      "            \"response_code\": 200.0,\n",
      "            \"user_agent\": \"Mozilla/5.0 (Macintosh; Intel Mac OS X 10_15_4) AppleWebKit/537.36 (KHTML, like Gecko) Chrome/81.0.4044.129 Safari/537.36\",\n",
      "            \"username\": \"mark\"\n",
      "        },\n",
      "        {\n",
      "            \"client_ip\": \"212.159.109.162\",\n",
      "            \"event_source\": \"UI\",\n",
      "            \"occurred_at\": \"2020-05-01T12:54:05.574Z\",\n",
      "            \"request_method\": \"POST\",\n",
      "            \"request_payload\": \"{\\\"consumerName\\\":\\\"mkStreamApiKey\\\",\\\"consumerType\\\":\\\"streaming-api\\\"}\",\n",
      "            \"request_uri\": \"/desktop/dispatch/GenerateApiConsumerKey\",\n",
      "            \"resource\": \"apiconsumerkeys\",\n",
      "            \"resource_fragment\": \"apiconsumerkeys.id=8a193db771bfd66a0171cf93238a4550\",\n",
      "            \"response_code\": 200.0,\n",
      "            \"user_agent\": \"Mozilla/5.0 (Macintosh; Intel Mac OS X 10_15_4) AppleWebKit/537.36 (KHTML, like Gecko) Chrome/81.0.4044.129 Safari/537.36\",\n",
      "            \"username\": \"mark\"\n",
      "        },\n",
      "        {\n",
      "            \"client_ip\": \"212.159.109.162\",\n",
      "            \"event_source\": \"UI\",\n",
      "            \"occurred_at\": \"2020-05-01T12:54:02.537Z\",\n",
      "            \"request_method\": \"POST\",\n",
      "            \"request_payload\": \"{\\\"consumerEncodedKey\\\":\\\"8a193db771bfd66a0171cf93238a4550\\\"}\",\n",
      "            \"request_uri\": \"/desktop/dispatch/GetApiConsumerKeys\",\n",
      "            \"resource\": \"apiconsumerkeys\",\n",
      "            \"resource_fragment\": \"apiconsumerkeys.id=8a193db771bfd66a0171cf93238a4550\",\n",
      "            \"response_code\": 200.0,\n",
      "            \"user_agent\": \"Mozilla/5.0 (Macintosh; Intel Mac OS X 10_15_4) AppleWebKit/537.36 (KHTML, like Gecko) Chrome/81.0.4044.129 Safari/537.36\",\n",
      "            \"username\": \"mark\"\n",
      "        },\n",
      "        {\n",
      "            \"client_ip\": \"212.159.109.162\",\n",
      "            \"event_source\": \"UI\",\n",
      "            \"occurred_at\": \"2020-05-01T12:53:59.187Z\",\n",
      "            \"request_method\": \"POST\",\n",
      "            \"request_payload\": \"{}\",\n",
      "            \"request_uri\": \"/desktop/dispatch/GetApiConsumers\",\n",
      "            \"resource\": \"api_consumers_admin\",\n",
      "            \"resource_fragment\": \"admin.tab=api_consumers_admin\",\n",
      "            \"response_code\": 200.0,\n",
      "            \"user_agent\": \"Mozilla/5.0 (Macintosh; Intel Mac OS X 10_15_4) AppleWebKit/537.36 (KHTML, like Gecko) Chrome/81.0.4044.129 Safari/537.36\",\n",
      "            \"username\": \"mark\"\n",
      "        },\n",
      "        {\n",
      "            \"client_ip\": \"212.159.109.162\",\n",
      "            \"event_source\": \"UI\",\n",
      "            \"occurred_at\": \"2020-05-01T12:53:59.173Z\",\n",
      "            \"request_method\": \"POST\",\n",
      "            \"request_payload\": \"{\\\"subscriberId\\\":\\\"8a193db771bfd66a0171c6423cc32832\\\"}\",\n",
      "            \"request_uri\": \"/desktop/dispatch/GetNotificationEventsSummary\",\n",
      "            \"resource\": \"api_consumers_admin\",\n",
      "            \"resource_fragment\": \"admin.tab=api_consumers_admin\",\n",
      "            \"response_code\": 200.0,\n",
      "            \"user_agent\": \"Mozilla/5.0 (Macintosh; Intel Mac OS X 10_15_4) AppleWebKit/537.36 (KHTML, like Gecko) Chrome/81.0.4044.129 Safari/537.36\",\n",
      "            \"username\": \"mark\"\n",
      "        },\n",
      "        {\n",
      "            \"client_ip\": \"212.159.109.162\",\n",
      "            \"event_source\": \"UI\",\n",
      "            \"occurred_at\": \"2020-05-01T12:53:58.913Z\",\n",
      "            \"request_method\": \"POST\",\n",
      "            \"request_payload\": \"{}\",\n",
      "            \"request_uri\": \"/desktop/dispatch/GetApiConsumers\",\n",
      "            \"resource\": \"api_consumers_admin\",\n",
      "            \"resource_fragment\": \"admin.tab=api_consumers_admin\",\n",
      "            \"response_code\": 200.0,\n",
      "            \"user_agent\": \"Mozilla/5.0 (Macintosh; Intel Mac OS X 10_15_4) AppleWebKit/537.36 (KHTML, like Gecko) Chrome/81.0.4044.129 Safari/537.36\",\n",
      "            \"username\": \"mark\"\n",
      "        },\n",
      "        {\n",
      "            \"client_ip\": \"212.159.109.162\",\n",
      "            \"event_source\": \"UI\",\n",
      "            \"occurred_at\": \"2020-05-01T12:53:58.724Z\",\n",
      "            \"request_method\": \"POST\",\n",
      "            \"request_payload\": \"{\\\"apiConsumer\\\":{\\\"permissions\\\":{\\\"permissions\\\":[],\\\"canManageAllBranches\\\":true,\\\"canManageEntitiesAssignedToOtherOfficers\\\":true},\\\"transactionLimits\\\":{},\\\"username\\\":\\\"mkStreamApiKey\\\",\\\"language\\\":\\\"ENGLISH\\\",\\\"userState\\\":\\\"ACTIVE\\\",\\\"twoFactorAuthentication\\\":false,\\\"isAdministrator\\\":false,\\\"isTeller\\\":false,\\\"isCreditOfficer\\\":false,\\\"isSupport\\\":false,\\\"accessRights\\\":[\\\"APIS\\\"],\\\"managedBranches\\\":[],\\\"apiConsumerType\\\":\\\"STREAMING_API\\\",\\\"failedLoginsCount\\\":0,\\\"provisionedThroughFederation\\\":false}}\",\n",
      "            \"request_uri\": \"/desktop/dispatch/StoreApiConsumer\",\n",
      "            \"resource\": \"createapiconsumer\",\n",
      "            \"resource_fragment\": \"createapiconsumer\",\n",
      "            \"response_code\": 200.0,\n",
      "            \"user_agent\": \"Mozilla/5.0 (Macintosh; Intel Mac OS X 10_15_4) AppleWebKit/537.36 (KHTML, like Gecko) Chrome/81.0.4044.129 Safari/537.36\",\n",
      "            \"username\": \"mark\"\n",
      "        },\n",
      "        {\n",
      "            \"client_ip\": \"212.159.109.162\",\n",
      "            \"event_source\": \"UI\",\n",
      "            \"occurred_at\": \"2020-05-01T12:53:34.600Z\",\n",
      "            \"request_method\": \"POST\",\n",
      "            \"request_payload\": \"{}\",\n",
      "            \"request_uri\": \"/desktop/dispatch/GetApiConsumers\",\n",
      "            \"resource\": \"api_consumers_admin\",\n",
      "            \"resource_fragment\": \"admin.tab=api_consumers_admin\",\n",
      "            \"response_code\": 200.0,\n",
      "            \"user_agent\": \"Mozilla/5.0 (Macintosh; Intel Mac OS X 10_15_4) AppleWebKit/537.36 (KHTML, like Gecko) Chrome/81.0.4044.129 Safari/537.36\",\n",
      "            \"username\": \"mark\"\n",
      "        },\n",
      "        {\n",
      "            \"client_ip\": \"212.159.109.162\",\n",
      "            \"event_source\": \"UI\",\n",
      "            \"occurred_at\": \"2020-05-01T12:52:44.502Z\",\n",
      "            \"request_method\": \"POST\",\n",
      "            \"request_payload\": \"{\\\"sanitizeDescriptions\\\":true}\",\n",
      "            \"request_uri\": \"/desktop/dispatch/GetNotificationTemplatesList\",\n",
      "            \"resource\": \"templates\",\n",
      "            \"resource_fragment\": \"admin.tab=events_streaming_admin.subtab=templates\",\n",
      "            \"response_code\": 200.0,\n",
      "            \"user_agent\": \"Mozilla/5.0 (Macintosh; Intel Mac OS X 10_15_4) AppleWebKit/537.36 (KHTML, like Gecko) Chrome/81.0.4044.129 Safari/537.36\",\n",
      "            \"username\": \"mark\"\n",
      "        }\n",
      "    ],\n",
      "    \"from\": 0,\n",
      "    \"size\": 10,\n",
      "    \"totalItemsCount\": 13066\n",
      "}\n"
     ]
    }
   ],
   "source": [
    "\n",
    "HEADERS = {'apikey': '{{mnenv_apikey}}'}\n",
    "PARAMS = {'size': \"10\"}\n",
    "r = GET('{{envMN}}/v1/events', headers=HEADERS, params=PARAMS, headerparts=APIKEYS)\n",
    "PRINT(r)"
   ]
  },
  {
   "cell_type": "code",
   "execution_count": null,
   "metadata": {},
   "outputs": [],
   "source": []
  },
  {
   "cell_type": "code",
   "execution_count": 33,
   "metadata": {},
   "outputs": [
    {
     "name": "stdout",
     "output_type": "stream",
     "text": [
      "{\"count\":0, \"message\":\"Random number 185\"}\n",
      "{\"count\":1, \"message\":\"Random number 351\"}\n",
      "{\"count\":2, \"message\":\"Random number 664\"}\n",
      "{\"count\":3, \"message\":\"Random number 169\"}\n",
      "{\"count\":4, \"message\":\"Random number 861\"}\n",
      "{\"count\":5, \"message\":\"Random number 235\"}\n",
      "{\"count\":6, \"message\":\"Random number 249\"}\n",
      "{\"count\":7, \"message\":\"Random number 37\"}\n",
      "{\"count\":8, \"message\":\"Random number 365\"}\n",
      "{\"count\":9, \"message\":\"Random number 495\"}\n"
     ]
    },
    {
     "ename": "AttributeError",
     "evalue": "'SSEClient' object has no attribute 'close'",
     "output_type": "error",
     "traceback": [
      "\u001b[0;31m---------------------------------------------------------------------------\u001b[0m",
      "\u001b[0;31mAttributeError\u001b[0m                            Traceback (most recent call last)",
      "\u001b[0;32m<ipython-input-33-795c392b286d>\u001b[0m in \u001b[0;36m<module>\u001b[0;34m\u001b[0m\n\u001b[1;32m     10\u001b[0m     \u001b[0mcount\u001b[0m \u001b[0;34m+=\u001b[0m \u001b[0;36m1\u001b[0m\u001b[0;34m\u001b[0m\u001b[0;34m\u001b[0m\u001b[0m\n\u001b[1;32m     11\u001b[0m     \u001b[0;32mif\u001b[0m \u001b[0mcount\u001b[0m \u001b[0;34m==\u001b[0m \u001b[0;36m10\u001b[0m\u001b[0;34m:\u001b[0m\u001b[0;34m\u001b[0m\u001b[0;34m\u001b[0m\u001b[0m\n\u001b[0;32m---> 12\u001b[0;31m         \u001b[0mmessages\u001b[0m\u001b[0;34m.\u001b[0m\u001b[0mclose\u001b[0m\u001b[0;34m(\u001b[0m\u001b[0;34m)\u001b[0m\u001b[0;34m\u001b[0m\u001b[0;34m\u001b[0m\u001b[0m\n\u001b[0m",
      "\u001b[0;31mAttributeError\u001b[0m: 'SSEClient' object has no attribute 'close'"
     ]
    }
   ],
   "source": [
    "from sseclient import SSEClient\n",
    "\n",
    "url = \"http://127.0.0.1:5000/stream\"\n",
    "\n",
    "messages = SSEClient(url)\n",
    "count = 0\n",
    "\n",
    "for msg in messages:\n",
    "    print(msg)\n",
    "    count += 1\n",
    "    if count == 10:\n",
    "        messages.close()"
   ]
  },
  {
   "cell_type": "code",
   "execution_count": null,
   "metadata": {},
   "outputs": [],
   "source": []
  },
  {
   "cell_type": "code",
   "execution_count": null,
   "metadata": {},
   "outputs": [],
   "source": []
  },
  {
   "cell_type": "code",
   "execution_count": null,
   "metadata": {},
   "outputs": [],
   "source": []
  },
  {
   "cell_type": "code",
   "execution_count": null,
   "metadata": {},
   "outputs": [],
   "source": []
  },
  {
   "cell_type": "code",
   "execution_count": null,
   "metadata": {},
   "outputs": [],
   "source": []
  },
  {
   "cell_type": "code",
   "execution_count": null,
   "metadata": {},
   "outputs": [],
   "source": []
  },
  {
   "cell_type": "code",
   "execution_count": null,
   "metadata": {},
   "outputs": [],
   "source": []
  },
  {
   "cell_type": "code",
   "execution_count": null,
   "metadata": {},
   "outputs": [],
   "source": []
  },
  {
   "cell_type": "code",
   "execution_count": null,
   "metadata": {},
   "outputs": [],
   "source": []
  },
  {
   "cell_type": "code",
   "execution_count": null,
   "metadata": {},
   "outputs": [],
   "source": []
  }
 ],
 "metadata": {
  "kernelspec": {
   "display_name": "Python 3",
   "language": "python",
   "name": "python3"
  },
  "language_info": {
   "codemirror_mode": {
    "name": "ipython",
    "version": 3
   },
   "file_extension": ".py",
   "mimetype": "text/x-python",
   "name": "python",
   "nbconvert_exporter": "python",
   "pygments_lexer": "ipython3",
   "version": "3.7.8"
  }
 },
 "nbformat": 4,
 "nbformat_minor": 2
}
