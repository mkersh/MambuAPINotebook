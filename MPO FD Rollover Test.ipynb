{
 "cells": [
  {
   "cell_type": "markdown",
   "metadata": {},
   "source": [
    "<a id=\"sectionx\"></a>\n",
    "# MPO FD Rollover Testing - Notebook\n",
    "* [Get FDs Maturing today](#section1)\n",
    "* [Create new Rollover Term Deposit - Monthly (manual)](#section2)\n",
    "* [Create new Rollover Term Deposit - Monthly (in one step)](#section2b)\n",
    "\n",
    "\n",
    "\n",
    "GitHub: https://github.com/MkershMambu/MambuAPINotebook/blob/master/MPO%20FD%20Rollover%20Test.ipynb\n",
    "\n",
    "Viewer: [https://nbviewer.jupyter.org/github/MkershMambu/MambuAPINotebook/blob/master/MPO%20FD%20Rollover%20Test.ipynb](https://nbviewer.jupyter.org/github/MkershMambu/MambuAPINotebook/blob/master/MPO%20FD%20Rollover%20Test.ipynb?flush_cache=true)\n",
    "\n"
   ]
  },
  {
   "cell_type": "code",
   "execution_count": 1,
   "metadata": {},
   "outputs": [],
   "source": [
    "%run API.py\n",
    "%run ENV.py\n",
    "from IPython.core.display import HTML\n",
    "setENV(ENV)"
   ]
  },
  {
   "cell_type": "markdown",
   "metadata": {},
   "source": [
    "<a id=\"section1\"></a>\n",
    "[back](#sectionx)\n",
    "### API call to determine FD's maturing today\n",
    "* This was in the original spec doc but isn't the call that is being made\n",
    "* For demo purposes though it may make sense to use this filter"
   ]
  },
  {
   "cell_type": "code",
   "execution_count": 2,
   "metadata": {},
   "outputs": [
    {
     "name": "stdout",
     "output_type": "stream",
     "text": [
      "Overwriting FDJSONBODY\n"
     ]
    }
   ],
   "source": [
    "%%writefile FDJSONBODY\n",
    "{\n",
    "  \"filterConstraints\": [\n",
    "      {\n",
    "          \"filterSelection\": \"MATURITY_DATE\",\n",
    "          \"filterElement\": \"TODAY\"\n",
    "      },\n",
    "        {\n",
    "            \"filterElement\": \"IN\",\n",
    "            \"filterSelection\": \"ACCOUNT_STATE\",\n",
    "            \"values\": [\n",
    "                \"ACTIVE\"\n",
    "            ]\n",
    "        }\n",
    "  ]\n",
    "}"
   ]
  },
  {
   "cell_type": "code",
   "execution_count": 32,
   "metadata": {},
   "outputs": [
    {
     "name": "stdout",
     "output_type": "stream",
     "text": [
      "0\n",
      "API status: 200\n",
      "JSON Response:\n",
      "[]\n"
     ]
    }
   ],
   "source": [
    "HEADERS = {'Content-Type': 'application/json'}\n",
    "PARAMS = {}\n",
    "r = POST('{{env1}}/savings/search', headers=HEADERS, params=PARAMS, body=\"FDJSONBODY\")\n",
    "print(len(r.json()))\n",
    "PRINT(r)"
   ]
  },
  {
   "cell_type": "markdown",
   "metadata": {},
   "source": [
    "### The API that the Rollover App was using\n",
    "* NOTE: Need EOD to run before FD(s) moved into MATURED state\n",
    "    * So not great for demos\n",
    "* Best option in a live PROD enviornment though"
   ]
  },
  {
   "cell_type": "code",
   "execution_count": 4,
   "metadata": {},
   "outputs": [
    {
     "name": "stdout",
     "output_type": "stream",
     "text": [
      "Overwriting FDJSONBODY1\n"
     ]
    }
   ],
   "source": [
    "%%writefile FDJSONBODY1\n",
    "{\n",
    "  \"filterConstraints\": [\n",
    "      {\n",
    "          \"filterElement\": \"IN\",\n",
    "          \"filterSelection\": \"ACCOUNT_STATE\",\n",
    "          \"values\": [\n",
    "              \"MATURED\"\n",
    "          ]\n",
    "          \n",
    "      }\n",
    "  ]\n",
    "}"
   ]
  },
  {
   "cell_type": "code",
   "execution_count": 53,
   "metadata": {},
   "outputs": [
    {
     "name": "stdout",
     "output_type": "stream",
     "text": [
      "2\n",
      "API status: 200\n",
      "JSON Response:\n",
      "[\n",
      "    {\n",
      "        \"accountHolderKey\": \"8a8186ac692678910169288509c606bc\",\n",
      "        \"accountHolderType\": \"CLIENT\",\n",
      "        \"accountState\": \"MATURED\",\n",
      "        \"accountType\": \"FIXED_DEPOSIT\",\n",
      "        \"accruedInterest\": \"0\",\n",
      "        \"activationDate\": \"2019-02-26T07:54:45+0000\",\n",
      "        \"allowOverdraft\": false,\n",
      "        \"approvedDate\": \"2019-02-26T07:54:34+0000\",\n",
      "        \"assignedBranchKey\": \"8a8186ac692678910169287cf43606af\",\n",
      "        \"availableBalance\": \"52727.4\",\n",
      "        \"balance\": \"102727.4\",\n",
      "        \"creationDate\": \"2019-02-26T06:54:24+0000\",\n",
      "        \"currency\": {\n",
      "            \"code\": \"EUR\",\n",
      "            \"creationDate\": \"2018-12-05T14:25:48+0000\",\n",
      "            \"currencySymbolPosition\": \"BEFORE_NUMBER\",\n",
      "            \"digitsAfterDecimal\": 2,\n",
      "            \"isBaseCurrency\": true,\n",
      "            \"lastModifiedDate\": \"2018-12-05T14:25:48+0000\",\n",
      "            \"name\": \"Euro\",\n",
      "            \"symbol\": \"\\u20ac\"\n",
      "        },\n",
      "        \"currencyCode\": \"EUR\",\n",
      "        \"encodedKey\": \"8a8186ac6926789101692894a2c9070f\",\n",
      "        \"feesDue\": \"0\",\n",
      "        \"holdBalance\": \"0\",\n",
      "        \"id\": \"TNXG401\",\n",
      "        \"interestDue\": \"0\",\n",
      "        \"interestPaymentPoint\": \"ON_ACCOUNT_MATURITY\",\n",
      "        \"interestSettings\": {\n",
      "            \"accrueInterestAfterMaturity\": false,\n",
      "            \"encodedKey\": \"8a8186ac6926789101692894a2c90710\",\n",
      "            \"interestChargeFrequency\": \"ANNUALIZED\",\n",
      "            \"interestChargeFrequencyCount\": 1,\n",
      "            \"interestRate\": \"5.5\",\n",
      "            \"interestRateSource\": \"FIXED_INTEREST_RATE\",\n",
      "            \"interestRateTerms\": \"FIXED\",\n",
      "            \"interestRateTiers\": []\n",
      "        },\n",
      "        \"lastAccountAppraisalDate\": \"2019-08-26T00:13:37+0000\",\n",
      "        \"lastInterestCalculationDate\": \"2019-08-26T00:00:00+0000\",\n",
      "        \"lastInterestStoredDate\": \"2019-08-26T00:00:00+0000\",\n",
      "        \"lastModifiedDate\": \"2019-08-25T22:13:38+0000\",\n",
      "        \"lockedBalance\": \"50000\",\n",
      "        \"maturityDate\": \"2019-08-26T00:00:00+0000\",\n",
      "        \"name\": \"6 Months Fixed Deposit\",\n",
      "        \"notes\": \"\",\n",
      "        \"overdraftAmount\": \"0\",\n",
      "        \"overdraftInterestAccrued\": \"0\",\n",
      "        \"overdraftLimit\": \"0\",\n",
      "        \"productTypeKey\": \"8a8187bf67c21cd60167c253b0050038\",\n",
      "        \"technicalInterestDue\": \"0\",\n",
      "        \"technicalOverdraftAmount\": \"0\",\n",
      "        \"technicalOverdraftInterestAccrued\": \"0\"\n",
      "    },\n",
      "    {\n",
      "        \"accountHolderKey\": \"8a81866d67cfe3f20167cffd9fc50024\",\n",
      "        \"accountHolderType\": \"CLIENT\",\n",
      "        \"accountState\": \"MATURED\",\n",
      "        \"accountType\": \"FIXED_DEPOSIT\",\n",
      "        \"accruedInterest\": \"0\",\n",
      "        \"activationDate\": \"2018-12-21T10:02:48+0000\",\n",
      "        \"allowOverdraft\": false,\n",
      "        \"approvedDate\": \"2018-12-21T10:02:00+0000\",\n",
      "        \"assignedBranchKey\": \"8a81872d6787e9f30167a344a74e4e1c\",\n",
      "        \"availableBalance\": \"10274.25\",\n",
      "        \"balance\": \"10274.25\",\n",
      "        \"creationDate\": \"2018-12-21T09:01:54+0000\",\n",
      "        \"currency\": {\n",
      "            \"code\": \"EUR\",\n",
      "            \"creationDate\": \"2018-12-05T14:25:48+0000\",\n",
      "            \"currencySymbolPosition\": \"BEFORE_NUMBER\",\n",
      "            \"digitsAfterDecimal\": 2,\n",
      "            \"isBaseCurrency\": true,\n",
      "            \"lastModifiedDate\": \"2018-12-05T14:25:48+0000\",\n",
      "            \"name\": \"Euro\",\n",
      "            \"symbol\": \"\\u20ac\"\n",
      "        },\n",
      "        \"currencyCode\": \"EUR\",\n",
      "        \"encodedKey\": \"8a81866d67cfe3f20167cffd9fc50027\",\n",
      "        \"feesDue\": \"0\",\n",
      "        \"holdBalance\": \"0\",\n",
      "        \"id\": \"PRND607\",\n",
      "        \"interestDue\": \"0\",\n",
      "        \"interestPaymentPoint\": \"ON_ACCOUNT_MATURITY\",\n",
      "        \"interestSettings\": {\n",
      "            \"accrueInterestAfterMaturity\": false,\n",
      "            \"encodedKey\": \"8a81866d67cfe3f20167cfffe8370028\",\n",
      "            \"interestChargeFrequency\": \"ANNUALIZED\",\n",
      "            \"interestChargeFrequencyCount\": 1,\n",
      "            \"interestRate\": \"5.5\",\n",
      "            \"interestRateSource\": \"FIXED_INTEREST_RATE\",\n",
      "            \"interestRateTerms\": \"FIXED\",\n",
      "            \"interestRateTiers\": []\n",
      "        },\n",
      "        \"lastAccountAppraisalDate\": \"2019-06-21T00:14:13+0000\",\n",
      "        \"lastInterestCalculationDate\": \"2019-06-21T00:00:00+0000\",\n",
      "        \"lastInterestStoredDate\": \"2019-06-21T00:00:00+0000\",\n",
      "        \"lastModifiedDate\": \"2019-06-20T22:14:13+0000\",\n",
      "        \"lockedBalance\": \"0\",\n",
      "        \"maturityDate\": \"2019-06-21T00:00:00+0000\",\n",
      "        \"name\": \"6 Months Fixed Deposit\",\n",
      "        \"notes\": \"\",\n",
      "        \"overdraftAmount\": \"0\",\n",
      "        \"overdraftInterestAccrued\": \"0\",\n",
      "        \"overdraftLimit\": \"0\",\n",
      "        \"productTypeKey\": \"8a8187bf67c21cd60167c253b0050038\",\n",
      "        \"technicalInterestDue\": \"0\",\n",
      "        \"technicalOverdraftAmount\": \"0\",\n",
      "        \"technicalOverdraftInterestAccrued\": \"0\"\n",
      "    }\n",
      "]\n"
     ]
    }
   ],
   "source": [
    "HEADERS = {'Content-Type': 'application/json'}\n",
    "PARAMS = {}\n",
    "r = POST('{{env1}}/savings/search', headers=HEADERS, params=PARAMS, body=\"FDJSONBODY1\")\n",
    "print(len(r.json()))\n",
    "PRINT(r)"
   ]
  },
  {
   "cell_type": "markdown",
   "metadata": {},
   "source": [
    "<a id=\"section2\"></a>\n",
    "[back](#sectionx)\n",
    "### Create new Rollover Term Deposit - Monthly (manual)\n",
    "* With maturity of today so that it triggers the Rollover App\n",
    "* This section takes you through step-by-step\n",
    "   * To perform via one function call see XXX"
   ]
  },
  {
   "cell_type": "code",
   "execution_count": 5,
   "metadata": {},
   "outputs": [
    {
     "name": "stdout",
     "output_type": "stream",
     "text": [
      "Overwriting FDJSONBODY2\n"
     ]
    }
   ],
   "source": [
    "%%writefile FDJSONBODY2\n",
    "{\n",
    "  \"accountType\": \"FIXED_DEPOSIT\",\n",
    "  \"name\": \"FD Rollover - Monthly\",\n",
    "  \"accountHolderKey\": \"8a8186016a73c831016a788d7fa32d2e\",\n",
    "  \"productTypeKey\": \"8a8186016a73c831016a7807c0bb2b2a\",\n",
    "  \"currencyCode\": \"EUR\",\n",
    "  \"accountHolderType\": \"CLIENT\",\n",
    "  \"interestSettings\": {\n",
    "      \"interestRateSettings\": {\n",
    "            \"encodedKey\": \"8a8186016a7a9872016a7e8d7e7e179e\",\n",
    "            \"interestChargeFrequency\": \"ANNUALIZED\",\n",
    "            \"interestChargeFrequencyCount\": 1,\n",
    "            \"interestRate\": 2.54,\n",
    "            \"interestRateTerms\": \"FIXED\",\n",
    "            \"interestRateTiers\": []\n",
    "        }\n",
    "    }\n",
    "}\n"
   ]
  },
  {
   "cell_type": "code",
   "execution_count": 55,
   "metadata": {},
   "outputs": [
    {
     "name": "stdout",
     "output_type": "stream",
     "text": [
      "API status:\n",
      "201\n",
      "Now the JSON:\n",
      "{\"encodedKey\":\"8a81865e6e307e8e016e314a7aff027a\",\"creationDate\":\"2019-11-03T13:46:23+01:00\",\"lastModifiedDate\":\"2019-11-03T13:46:23+01:00\",\"id\":\"NFJB374\",\"name\":\"FD Rollover - Monthly\",\"accountHolderType\":\"CLIENT\",\"accountHolderKey\":\"8a8186016a73c831016a788d7fa32d2e\",\"accountState\":\"PENDING_APPROVAL\",\"productTypeKey\":\"8a8186016a73c831016a7807c0bb2b2a\",\"accountType\":\"FIXED_DEPOSIT\",\"currencyCode\":\"EUR\",\"assignedBranchKey\":\"8a8186016a73c831016a77fe7fcf2b21\",\"internalControls\":{},\"overdraftSettings\":{\"allowOverdraft\":false,\"overdraftLimit\":0},\"interestSettings\":{\"interestRateSettings\":{\"encodedKey\":\"8a81865e6e307e8e016e314d595e027b\",\"interestRate\":2.54,\"interestChargeFrequency\":\"ANNUALIZED\",\"interestChargeFrequencyCount\":1,\"interestRateTiers\":[],\"interestRateTerms\":\"FIXED\"},\"interestPaymentSettings\":{\"interestPaymentPoint\":\"EVERY_MONTH\",\"interestPaymentDates\":[]}},\"overdraftInterestSettings\":{},\"balances\":{\"totalBalance\":0,\"overdraftAmount\":0,\"technicalOverdraftAmount\":0,\"lockedBalance\":0,\"availableBalance\":0,\"holdBalance\":0,\"overdraftInterestDue\":0,\"technicalOverdraftInterestDue\":0,\"feesDue\":0},\"accruedAmounts\":{\"interestAccrued\":0,\"overdraftInterestAccrued\":0,\"technicalOverdraftInterestAccrued\":0}}\n"
     ]
    }
   ],
   "source": [
    "HEADERS = {'Accept': 'application/vnd.mambu.v2+json','Content-Type': 'application/json'}\n",
    "PARAMS = {}\n",
    "r = POST('{{env1}}/deposits', headers=HEADERS, params=PARAMS, body=\"FDJSONBODY2\")\n",
    "print (\"API status:\")\n",
    "print(r.status_code)\n",
    "print(\"Now the JSON:\")\n",
    "print(r.text)\n",
    "encodedKey = r.json()[\"encodedKey\"]"
   ]
  },
  {
   "cell_type": "markdown",
   "metadata": {},
   "source": [
    "### Approve the account"
   ]
  },
  {
   "cell_type": "code",
   "execution_count": 6,
   "metadata": {},
   "outputs": [
    {
     "name": "stdout",
     "output_type": "stream",
     "text": [
      "Overwriting FDJSONBODY3\n"
     ]
    }
   ],
   "source": [
    "%%writefile FDJSONBODY3\n",
    "{\n",
    "  \"action\": \"APPROVE\",\n",
    "  \"notes\": \"more notes\"\n",
    "}"
   ]
  },
  {
   "cell_type": "code",
   "execution_count": 57,
   "metadata": {},
   "outputs": [
    {
     "name": "stdout",
     "output_type": "stream",
     "text": [
      "API status:\n",
      "200\n",
      "Now the JSON:\n",
      "{\"encodedKey\":\"8a81865e6e307e8e016e314a7aff027a\",\"creationDate\":\"2019-11-03T13:46:23+01:00\",\"lastModifiedDate\":\"2019-11-03T13:46:36+01:00\",\"id\":\"NFJB374\",\"name\":\"FD Rollover - Monthly\",\"accountHolderType\":\"CLIENT\",\"accountHolderKey\":\"8a8186016a73c831016a788d7fa32d2e\",\"accountState\":\"APPROVED\",\"productTypeKey\":\"8a8186016a73c831016a7807c0bb2b2a\",\"accountType\":\"FIXED_DEPOSIT\",\"approvedDate\":\"2019-11-03T13:46:36+01:00\",\"currencyCode\":\"EUR\",\"assignedBranchKey\":\"8a8186016a73c831016a77fe7fcf2b21\",\"internalControls\":{},\"overdraftSettings\":{\"allowOverdraft\":false,\"overdraftLimit\":0},\"interestSettings\":{\"interestRateSettings\":{\"encodedKey\":\"8a81865e6e307e8e016e314d595e027b\",\"interestRate\":2.54000000000000000000,\"interestChargeFrequency\":\"ANNUALIZED\",\"interestChargeFrequencyCount\":1,\"interestRateTiers\":[],\"interestRateTerms\":\"FIXED\"},\"interestPaymentSettings\":{\"interestPaymentPoint\":\"EVERY_MONTH\",\"interestPaymentDates\":[]}},\"overdraftInterestSettings\":{},\"balances\":{\"totalBalance\":0,\"overdraftAmount\":0,\"technicalOverdraftAmount\":0,\"lockedBalance\":0,\"availableBalance\":0,\"holdBalance\":0,\"overdraftInterestDue\":0,\"technicalOverdraftInterestDue\":0,\"feesDue\":0},\"accruedAmounts\":{\"interestAccrued\":0,\"overdraftInterestAccrued\":0,\"technicalOverdraftInterestAccrued\":0}}\n"
     ]
    }
   ],
   "source": [
    "HEADERS = {'Accept': 'application/vnd.mambu.v2+json','Content-Type': 'application/json'}\n",
    "PARAMS = {}\n",
    "url = \"{{env1}}\" + \"/deposits/{0}:changeState\".format(encodedKey)\n",
    "r = POST(url, headers=HEADERS, params=PARAMS, body=\"FDJSONBODY3\")\n",
    "print (\"API status:\")\n",
    "print(r.status_code)\n",
    "print(\"Now the JSON:\")\n",
    "print(r.text)"
   ]
  },
  {
   "cell_type": "markdown",
   "metadata": {},
   "source": [
    "### Deposit into account"
   ]
  },
  {
   "cell_type": "code",
   "execution_count": 12,
   "metadata": {},
   "outputs": [
    {
     "name": "stdout",
     "output_type": "stream",
     "text": [
      "Overwriting FDJSONBODY4\n"
     ]
    }
   ],
   "source": [
    "%%writefile FDJSONBODY4\n",
    "{\n",
    "  \"transactionDetails\": {\n",
    "    \"transactionChannelId\": \"8a818e74677a2e9201677ec2b4c336a6\"\n",
    "  },\n",
    "  \"amount\": 5432,\n",
    "  \"notes\": \"some notes\",\n",
    "  \"paymentOrderId\": \"{{UniqueID}}\",\n",
    "  \"externalId\": \"{{UniqueID}}\",\n",
    "  \"valueDate\": \"2019-03-17T00:00:00+01:00\"\n",
    "}"
   ]
  },
  {
   "cell_type": "code",
   "execution_count": 59,
   "metadata": {},
   "outputs": [
    {
     "name": "stdout",
     "output_type": "stream",
     "text": [
      "API status:\n",
      "201\n",
      "Now the JSON:\n",
      "{\"encodedKey\":\"8a8187b26e30ebff016e314a81ae002c\",\"id\":\"470\",\"externalId\":\"8e5c5004-6423-4bd7-b8e0-859ce6a84a51\",\"paymentOrderId\":\"8e5c5004-6423-4bd7-b8e0-859ce6a84a51\",\"creationDate\":\"2019-11-03T13:46:53+01:00\",\"valueDate\":\"2018-11-03T00:00:00+01:00\",\"notes\":\"some notes\",\"parentAccountKey\":\"8a81865e6e307e8e016e314a7aff027a\",\"type\":\"DEPOSIT\",\"amount\":5432,\"currencyCode\":\"EUR\",\"affectedAmounts\":{\"fundsAmount\":5432.0000000000,\"interestAmount\":0,\"feesAmount\":0,\"overdraftAmount\":0,\"overdraftFeesAmount\":0,\"overdraftInterestAmount\":0,\"technicalOverdraftAmount\":0,\"technicalOverdraftInterestAmount\":0,\"fractionAmount\":0},\"taxes\":{},\"accountBalances\":{\"totalBalance\":5432.0000000000},\"userKey\":\"8a8186ac69267891016928db604e0735\",\"branchKey\":\"8a8186016a73c831016a77fe7fcf2b21\",\"terms\":{\"interestSettings\":{\"interestRate\":2.54000000000000000000},\"overdraftInterestSettings\":{},\"overdraftSettings\":{}},\"transactionDetails\":{\"transactionChannelKey\":\"8a818e74677a2e9201677ec2b4c336a6\",\"transactionChannelId\":\"cash\"},\"transferDetails\":{},\"fees\":[]}\n"
     ]
    }
   ],
   "source": [
    "HEADERS = {'Accept': 'application/vnd.mambu.v2+json','Content-Type': 'application/json'}\n",
    "PARAMS = {}\n",
    "BODYPARTS = {'UniqueID': getUUID()}\n",
    "url = \"{{env1}}\" + \"/deposits/{0}/deposit-transactions\".format(encodedKey)\n",
    "r = POST(url, headers=HEADERS, params=PARAMS, body=\"FDJSONBODY4\", bodyparts=BODYPARTS)\n",
    "print (\"API status:\")\n",
    "print(r.status_code)\n",
    "print(\"Now the JSON:\")\n",
    "print(r.text)"
   ]
  },
  {
   "cell_type": "markdown",
   "metadata": {},
   "source": [
    "### Start the maturity"
   ]
  },
  {
   "cell_type": "code",
   "execution_count": 8,
   "metadata": {},
   "outputs": [
    {
     "name": "stdout",
     "output_type": "stream",
     "text": [
      "Overwriting FDJSONBODY5\n"
     ]
    }
   ],
   "source": [
    "%%writefile FDJSONBODY5\n",
    "{\n",
    "  \"type\": \"START_MATURITY\",\n",
    "  \"notes\": \"start maturity for FD\"\n",
    "}"
   ]
  },
  {
   "cell_type": "code",
   "execution_count": 61,
   "metadata": {},
   "outputs": [
    {
     "name": "stdout",
     "output_type": "stream",
     "text": [
      "API status:\n",
      "200\n",
      "Now the JSON:\n",
      "{\"encodedKey\":\"8a81865e6e307e8e016e314a7aff027a\",\"id\":\"NFJB374\",\"accountHolderKey\":\"8a8186016a73c831016a788d7fa32d2e\",\"accountHolderType\":\"CLIENT\",\"name\":\"FD Rollover - Monthly\",\"creationDate\":\"2019-11-03T12:46:23+0000\",\"approvedDate\":\"2019-11-03T13:46:36+0000\",\"activationDate\":\"2018-11-03T00:00:00+0000\",\"lastModifiedDate\":\"2019-11-03T12:47:10+0000\",\"lastInterestCalculationDate\":\"2019-11-03T00:00:00+0000\",\"lastInterestStoredDate\":\"2019-11-03T00:00:00+0000\",\"productTypeKey\":\"8a8186016a73c831016a7807c0bb2b2a\",\"accountType\":\"FIXED_DEPOSIT\",\"accountState\":\"ACTIVE\",\"maturityDate\":\"2019-11-03T00:00:00+0000\",\"balance\":\"5571.59\",\"accruedInterest\":\"0\",\"overdraftInterestAccrued\":\"0\",\"technicalOverdraftInterestAccrued\":\"0\",\"overdraftAmount\":\"0\",\"technicalOverdraftAmount\":\"0\",\"interestSettings\":{\"interestRate\":\"2.54\",\"encodedKey\":\"8a81865e6e307e8e016e314d595e027b\",\"interestChargeFrequency\":\"ANNUALIZED\",\"interestChargeFrequencyCount\":1,\"interestRateSource\":\"FIXED_INTEREST_RATE\",\"interestRateTerms\":\"FIXED\",\"accrueInterestAfterMaturity\":false},\"interestDue\":\"0\",\"technicalInterestDue\":\"0\",\"feesDue\":\"0\",\"overdraftLimit\":\"0\",\"allowOverdraft\":false,\"assignedBranchKey\":\"8a8186016a73c831016a77fe7fcf2b21\",\"lockedBalance\":\"0\",\"holdBalance\":\"0\",\"interestPaymentPoint\":\"EVERY_MONTH\",\"currencyCode\":\"EUR\",\"currency\":{\"code\":\"EUR\",\"name\":\"Euro\",\"symbol\":\"€\",\"digitsAfterDecimal\":2,\"currencySymbolPosition\":\"BEFORE_NUMBER\",\"isBaseCurrency\":true,\"creationDate\":\"2018-12-05T14:25:48+0000\",\"lastModifiedDate\":\"2018-12-05T14:25:48+0000\"},\"availableBalance\":\"5571.59\"}\n"
     ]
    }
   ],
   "source": [
    "HEADERS = {'Content-Type': 'application/json'}\n",
    "PARAMS = {}\n",
    "url = \"{{env1}}\" + \"/savings/{0}/transactions\".format(encodedKey)\n",
    "\n",
    "r = POST(url, headers=HEADERS, params=PARAMS, body=\"FDJSONBODY5\")\n",
    "print (\"API status:\")\n",
    "print(r.status_code)\n",
    "print(\"Now the JSON:\")\n",
    "print(r.text)"
   ]
  },
  {
   "cell_type": "markdown",
   "metadata": {},
   "source": [
    "<a id=\"section2b\"></a>\n",
    "[back](#sectionx)\n",
    "### Create new Rollover Term Deposit - Monthly (in one step)\n",
    "* This section will only be relevant if you have an executable version of this notebook"
   ]
  },
  {
   "cell_type": "code",
   "execution_count": 10,
   "metadata": {},
   "outputs": [],
   "source": [
    "def createFDMonthly_MaturesToday():\n",
    "    # Create a new FD\n",
    "    HEADERS = {'Accept': 'application/vnd.mambu.v2+json','Content-Type': 'application/json'}\n",
    "    PARAMS = {}\n",
    "    r = POST('{{env1}}/deposits', headers=HEADERS, params=PARAMS, body=\"FDJSONBODY2\")\n",
    "    print (\"API status:\")\n",
    "    print(r.status_code)\n",
    "    print(\"Now the JSON:\")\n",
    "    print(r.text)\n",
    "    encodedKey = r.json()[\"encodedKey\"]\n",
    "    \n",
    "    # Approve the account\n",
    "    HEADERS = {'Accept': 'application/vnd.mambu.v2+json','Content-Type': 'application/json'}\n",
    "    PARAMS = {}\n",
    "    url = \"{{env1}}\" + \"/deposits/{0}:changeState\".format(encodedKey)\n",
    "    r = POST(url, headers=HEADERS, params=PARAMS, body=\"FDJSONBODY3\")\n",
    "    \n",
    "    # Deposit into the account\n",
    "    HEADERS = {'Accept': 'application/vnd.mambu.v2+json','Content-Type': 'application/json'}\n",
    "    PARAMS = {}\n",
    "    BODYPARTS = {'UniqueID': getUUID()}\n",
    "    url = \"{{env1}}\" + \"/deposits/{0}/deposit-transactions\".format(encodedKey)\n",
    "    r = POST(url, headers=HEADERS, params=PARAMS, body=\"FDJSONBODY4\", bodyparts=BODYPARTS)\n",
    "    \n",
    "    # Start the Maturity\n",
    "    HEADERS = {'Content-Type': 'application/json'}\n",
    "    PARAMS = {}\n",
    "    url = \"{{env1}}\" + \"/savings/{0}/transactions\".format(encodedKey)\n",
    "\n",
    "    r = POST(url, headers=HEADERS, params=PARAMS, body=\"FDJSONBODY5\")"
   ]
  },
  {
   "cell_type": "code",
   "execution_count": 33,
   "metadata": {},
   "outputs": [
    {
     "name": "stdout",
     "output_type": "stream",
     "text": [
      "API status:\n",
      "201\n",
      "Now the JSON:\n",
      "{\"encodedKey\":\"8a81868670e7cc770170e86c7d3b13d7\",\"creationDate\":\"2020-03-17T13:39:15+01:00\",\"lastModifiedDate\":\"2020-03-17T13:39:15+01:00\",\"id\":\"LBZU880\",\"name\":\"FD Rollover - Monthly\",\"accountHolderType\":\"CLIENT\",\"accountHolderKey\":\"8a8186016a73c831016a788d7fa32d2e\",\"accountState\":\"PENDING_APPROVAL\",\"productTypeKey\":\"8a8186016a73c831016a7807c0bb2b2a\",\"accountType\":\"FIXED_DEPOSIT\",\"currencyCode\":\"EUR\",\"assignedBranchKey\":\"8a8186016a73c831016a77fe7fcf2b21\",\"internalControls\":{},\"overdraftSettings\":{\"allowOverdraft\":false,\"overdraftLimit\":0},\"interestSettings\":{\"interestRateSettings\":{\"encodedKey\":\"8a81868670e7cc770170e88156be1680\",\"interestRate\":2.54,\"interestChargeFrequency\":\"ANNUALIZED\",\"interestChargeFrequencyCount\":1,\"interestRateTiers\":[],\"interestRateTerms\":\"FIXED\"},\"interestPaymentSettings\":{\"interestPaymentPoint\":\"EVERY_MONTH\",\"interestPaymentDates\":[]}},\"overdraftInterestSettings\":{},\"balances\":{\"totalBalance\":0,\"overdraftAmount\":0,\"technicalOverdraftAmount\":0,\"lockedBalance\":0,\"availableBalance\":0,\"holdBalance\":0,\"overdraftInterestDue\":0,\"technicalOverdraftInterestDue\":0,\"feesDue\":0},\"accruedAmounts\":{\"interestAccrued\":0,\"overdraftInterestAccrued\":0,\"technicalOverdraftInterestAccrued\":0}}\n"
     ]
    }
   ],
   "source": [
    "createFDMonthly_MaturesToday()"
   ]
  },
  {
   "cell_type": "code",
   "execution_count": null,
   "metadata": {},
   "outputs": [],
   "source": []
  },
  {
   "cell_type": "code",
   "execution_count": null,
   "metadata": {},
   "outputs": [],
   "source": []
  },
  {
   "cell_type": "markdown",
   "metadata": {},
   "source": [
    "## Miscellaneous - Helper APIs"
   ]
  },
  {
   "cell_type": "markdown",
   "metadata": {},
   "source": [
    "### Delete Account"
   ]
  },
  {
   "cell_type": "code",
   "execution_count": 48,
   "metadata": {},
   "outputs": [
    {
     "name": "stdout",
     "output_type": "stream",
     "text": [
      "API status:\n",
      "400\n",
      "Now the JSON:\n",
      "{\"errors\":[{\"errorCode\":105,\"errorReason\":\"INVALID_ACCOUNT_STATE\"}]}\n"
     ]
    }
   ],
   "source": [
    "HEADERS = {'Accept': 'application/vnd.mambu.v2+json','Content-Type': 'application/json'}\n",
    "PARAMS = {}\n",
    "url = \"{{env1}}\" + \"/deposits/{0}\".format(encodedKey)\n",
    "r = DELETE(url, headers=HEADERS, params=PARAMS)\n",
    "print (\"API status:\")\n",
    "print(r.status_code)\n",
    "print(\"Now the JSON:\")\n",
    "print(r.text)"
   ]
  },
  {
   "cell_type": "markdown",
   "metadata": {},
   "source": [
    "### Get account details"
   ]
  },
  {
   "cell_type": "code",
   "execution_count": 49,
   "metadata": {},
   "outputs": [
    {
     "name": "stdout",
     "output_type": "stream",
     "text": [
      "API status: 200\n",
      "JSON Response:\n",
      "{\n",
      "    \"accountHolderKey\": \"8a8186016a73c831016a788d7fa32d2e\",\n",
      "    \"accountHolderType\": \"CLIENT\",\n",
      "    \"accountState\": \"CLOSED\",\n",
      "    \"accountType\": \"FIXED_DEPOSIT\",\n",
      "    \"accruedAmounts\": {\n",
      "        \"interestAccrued\": 0,\n",
      "        \"overdraftInterestAccrued\": 0,\n",
      "        \"technicalOverdraftInterestAccrued\": 0\n",
      "    },\n",
      "    \"activationDate\": \"2018-05-02T00:00:00+01:00\",\n",
      "    \"approvedDate\": \"2019-05-03T16:30:36+01:00\",\n",
      "    \"assignedBranchKey\": \"8a8186016a73c831016a77fe7fcf2b21\",\n",
      "    \"balances\": {\n",
      "        \"availableBalance\": 0,\n",
      "        \"feesDue\": 0,\n",
      "        \"holdBalance\": 0,\n",
      "        \"lockedBalance\": 0,\n",
      "        \"overdraftAmount\": 0,\n",
      "        \"overdraftInterestDue\": 0,\n",
      "        \"technicalOverdraftAmount\": 0,\n",
      "        \"technicalOverdraftInterestDue\": 0,\n",
      "        \"totalBalance\": 0\n",
      "    },\n",
      "    \"closedDate\": \"2019-05-04T11:55:52+01:00\",\n",
      "    \"creationDate\": \"2019-05-03T15:30:21+01:00\",\n",
      "    \"currencyCode\": \"EUR\",\n",
      "    \"encodedKey\": \"8a8186016a7a9872016a7e19680c0ec5\",\n",
      "    \"id\": \"APIS515\",\n",
      "    \"interestSettings\": {\n",
      "        \"interestPaymentSettings\": {\n",
      "            \"interestPaymentDates\": [],\n",
      "            \"interestPaymentPoint\": \"EVERY_MONTH\"\n",
      "        },\n",
      "        \"interestRateSettings\": {\n",
      "            \"encodedKey\": \"8a8186016a7a9872016a7e19680c0ec6\",\n",
      "            \"interestChargeFrequency\": \"ANNUALIZED\",\n",
      "            \"interestChargeFrequencyCount\": 1,\n",
      "            \"interestRate\": 2.54,\n",
      "            \"interestRateTerms\": \"FIXED\",\n",
      "            \"interestRateTiers\": []\n",
      "        }\n",
      "    },\n",
      "    \"internalControls\": {},\n",
      "    \"lastAccountAppraisalDate\": \"2019-05-04T00:09:46+01:00\",\n",
      "    \"lastInterestCalculationDate\": \"2019-05-03T00:00:00+01:00\",\n",
      "    \"lastInterestStoredDate\": \"2019-05-03T00:00:00+01:00\",\n",
      "    \"lastModifiedDate\": \"2019-05-04T09:55:52+01:00\",\n",
      "    \"maturityDate\": \"2019-05-02T00:00:00+01:00\",\n",
      "    \"name\": \"Rollover Term Deposit - Monthly\",\n",
      "    \"notes\": \"\",\n",
      "    \"overdraftInterestSettings\": {},\n",
      "    \"overdraftSettings\": {\n",
      "        \"allowOverdraft\": false,\n",
      "        \"overdraftLimit\": 0\n",
      "    },\n",
      "    \"productTypeKey\": \"8a8186016a73c831016a7807c0bb2b2a\"\n",
      "}\n"
     ]
    }
   ],
   "source": [
    "HEADERS = {'Accept': 'application/vnd.mambu.v2+json'}\n",
    "# Parameters below set up pagination and only returns max 20\n",
    "PARAMS = {'detailsLevel': 'FULL', 'paginationDetails': 'ON','limit': 20}\n",
    "r = GET('{{env1}}/deposits/APIS515', headers=HEADERS, params=PARAMS)\n",
    "PRINT(r)"
   ]
  },
  {
   "cell_type": "code",
   "execution_count": null,
   "metadata": {},
   "outputs": [],
   "source": []
  }
 ],
 "metadata": {
  "kernelspec": {
   "display_name": "Python 3",
   "language": "python",
   "name": "python3"
  },
  "language_info": {
   "codemirror_mode": {
    "name": "ipython",
    "version": 3
   },
   "file_extension": ".py",
   "mimetype": "text/x-python",
   "name": "python",
   "nbconvert_exporter": "python",
   "pygments_lexer": "ipython3",
   "version": "3.7.8"
  }
 },
 "nbformat": 4,
 "nbformat_minor": 2
}
