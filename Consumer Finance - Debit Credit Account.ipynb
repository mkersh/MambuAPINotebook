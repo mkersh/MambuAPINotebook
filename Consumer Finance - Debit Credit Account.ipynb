{
 "cells": [
  {
   "cell_type": "markdown",
   "metadata": {},
   "source": [
    "<a id=\"sectionx\"></a>\n",
    "# Consumer Finance - Demo - Helper Calls\n",
    "* [Create New Customer](#section0)\n",
    "* [Add New Card Transaction](#section1)\n",
    "* [Get Accounts](#section3)\n",
    "* [Disburse Loan](#section4)\n",
    "* [Create ALL in 1 go](#section2)\n",
    "\n",
    "\n",
    "GitHub: [https://github.com/MkershMambu/MambuAPINotebook/blob/master/Consumer%20Finance%20-%20Debit%20Credit%20Account.ipynb](https://github.com/MkershMambu/MambuAPINotebook/blob/master/Consumer%20Finance%20-%20Debit%20Credit%20Account.ipynb)\n",
    "\n",
    "Viewer: [https://nbviewer.jupyter.org/github/MkershMambu/MambuAPINotebook/](https://nbviewer.jupyter.org/github/MkershMambu/MambuAPINotebook/blob/master/Consumer%20Finance%20-%20Debit%20Credit%20Account.ipynb)\n",
    "\n",
    "\n"
   ]
  },
  {
   "cell_type": "code",
   "execution_count": 5,
   "metadata": {},
   "outputs": [],
   "source": [
    "%run API.py\n",
    "%run ENV.py\n",
    "from IPython.core.display import HTML\n",
    "setENV(ENV)"
   ]
  },
  {
   "cell_type": "markdown",
   "metadata": {},
   "source": [
    "<a id=\"section0\"></a>\n",
    "[back](#sectionx)\n",
    "## Create New Customer\n",
    "* Create a New Customer\n",
    "* Add a Credit Arrangement to the Customer"
   ]
  },
  {
   "cell_type": "code",
   "execution_count": 6,
   "metadata": {},
   "outputs": [
    {
     "name": "stdout",
     "output_type": "stream",
     "text": [
      "Overwriting NEWCUSTTEMP\n"
     ]
    }
   ],
   "source": [
    "%%writefile NEWCUSTTEMP\n",
    "{\n",
    "\"firstName\": \"{{FirstName}}\",\n",
    "\"lastName\": \"{{LastName}}\",\n",
    "\"preferredLanguage\": \"ENGLISH\",\n",
    "\"addresses\": [\n",
    "    {\n",
    "      \"country\": \"UK\",\n",
    "      \"city\": \"Liverpool\"\n",
    "    }\n",
    "],\n",
    "\"notes\": \"Some Notes on this person\",\n",
    "\"gender\": \"MALE\",\n",
    "  \n",
    "\"assignedBranchKey\": \"{{BranchID}}\"\n",
    "\n",
    "}"
   ]
  },
  {
   "cell_type": "code",
   "execution_count": 7,
   "metadata": {},
   "outputs": [],
   "source": [
    "def createNewCustomerTest(fname,lname):\n",
    "    createNewCustomer(fname,lname, \"8a818f156ccf5fb1016cd2e8e4532b09\")\n",
    "def createNewCustomerDemo(fname,lname):\n",
    "    createNewCustomer(fname,lname, \"8a818f5f6cbe6621016cbf217c9e5060\")    \n",
    "    \n",
    "def createNewCustomer(fname,lname, branchID):\n",
    "    global newCustomerID, custShortID\n",
    "    PLACEHOLDERS = {\n",
    "        \"BranchID\": branchID,\n",
    "        \"FirstName\": fname,\n",
    "        \"LastName\": lname\n",
    "    }\n",
    "    HEADERS = {'Accept': 'application/vnd.mambu.v2+json','Content-Type': 'application/json'}\n",
    "    PARAMS = {}\n",
    "    r = POST('{{env4}}/clients', headers=HEADERS, params=PARAMS, body=\"NEWCUSTTEMP\", bodyparts=PLACEHOLDERS)\n",
    "    print (\"API status:\")\n",
    "    print(r.status_code)\n",
    "    print(\"Now the JSON:\")\n",
    "    print(r.text)\n",
    "\n",
    "    # Remember the ID of the customer created we will use it below \n",
    "    newCustomerID = r.json()['encodedKey']\n",
    "    custShortID = r.json()['id']\n",
    "   "
   ]
  },
  {
   "cell_type": "code",
   "execution_count": 8,
   "metadata": {},
   "outputs": [
    {
     "name": "stdout",
     "output_type": "stream",
     "text": [
      "API status:\n",
      "201\n",
      "Now the JSON:\n",
      "{\"encodedKey\":\"8a818f517618f4f401761a1ee28d4fec\",\"id\":\"542266132\",\"state\":\"INACTIVE\",\"creationDate\":\"2020-11-30T18:06:40+01:00\",\"lastModifiedDate\":\"2020-11-30T18:06:40+01:00\",\"approvedDate\":\"2020-11-30T18:06:39+01:00\",\"firstName\":\"Harry\",\"lastName\":\"Styles\",\"preferredLanguage\":\"ENGLISH\",\"gender\":\"MALE\",\"notes\":\"Some Notes on this person\",\"assignedBranchKey\":\"8a818f156ccf5fb1016cd2e8e4532b09\",\"clientRoleKey\":\"8a818e74677a2e9201677ec2b4c336aa\",\"loanCycle\":0,\"groupLoanCycle\":0,\"addresses\":[{\"encodedKey\":\"8a818f517618f4f401761a1ee28d4fed\",\"parentKey\":\"8a818f517618f4f401761a1ee28d4fec\",\"city\":\"Liverpool\",\"country\":\"UK\",\"indexInList\":0}],\"idDocuments\":[]}\n"
     ]
    }
   ],
   "source": [
    "createNewCustomerTest(\"Harry\", \"Styles\")"
   ]
  },
  {
   "cell_type": "code",
   "execution_count": 4,
   "metadata": {},
   "outputs": [
    {
     "name": "stdout",
     "output_type": "stream",
     "text": [
      "Overwriting NEWCREDITARRANGEMENT\n"
     ]
    }
   ],
   "source": [
    "%%writefile NEWCREDITARRANGEMENT\n",
    "{\n",
    "    \"amount\": 10000.0,\n",
    "    \"availableCreditAmount\": 10000.0,\n",
    "    \"expireDate\": \"2030-08-23T00:00:00+02:00\",\n",
    "    \"exposureLimitType\": \"OUTSTANDING_AMOUNT\",\n",
    "    \"holderKey\": \"{{CustomerID}}\",\n",
    "    \"holderType\": \"CLIENT\",  \n",
    "    \"notes\": \"\",\n",
    "    \"startDate\": \"2019-08-23T00:00:00+02:00\",\n",
    "    \"state\": \"APPROVED\",\n",
    "    \"_URepayOptions\": {\n",
    "            \"AutoRepayMethod\": \"Direct-Debit\",\n",
    "            \"PaymentDueDay\": \"1\",\n",
    "            \"ShortMonthOption\": \"late\"\n",
    "        }\n",
    "}"
   ]
  },
  {
   "cell_type": "code",
   "execution_count": 5,
   "metadata": {},
   "outputs": [],
   "source": [
    "def createNewCreditArrangement():\n",
    "    global CAID\n",
    "    PLACEHOLDERS = {\n",
    "        \"CustomerID\": newCustomerID\n",
    "    }\n",
    "    HEADERS = {'Accept': 'application/vnd.mambu.v2+json','Content-Type': 'application/json'}\n",
    "    PARAMS = {}\n",
    "    r = POST('{{env4}}/creditarrangements', headers=HEADERS, params=PARAMS, body=\"NEWCREDITARRANGEMENT\", bodyparts=PLACEHOLDERS)\n",
    "    print (\"API status:\")\n",
    "    print(r.status_code)\n",
    "    print(\"Now the JSON:\")\n",
    "    print(r.text)\n",
    "    CAID = r.json()['id']"
   ]
  },
  {
   "cell_type": "code",
   "execution_count": 235,
   "metadata": {},
   "outputs": [
    {
     "name": "stdout",
     "output_type": "stream",
     "text": [
      "API status:\n",
      "201\n",
      "Now the JSON:\n",
      "{\"encodedKey\":\"8a818f796cd39234016cd3d082dd0384\",\"id\":\"ZUG055\",\"holderType\":\"CLIENT\",\"holderKey\":\"8a818f746cd2fea7016cd3ace4c74d28\",\"amount\":10000.0,\"availableCreditAmount\":10000.0,\"consumedCreditAmount\":0.0,\"state\":\"APPROVED\",\"creationDate\":\"2019-08-27T18:02:33+02:00\",\"lastModifiedDate\":\"2019-08-27T18:02:33+02:00\",\"startDate\":\"2019-08-23T00:00:00+02:00\",\"expireDate\":\"2020-08-23T00:00:00+02:00\",\"approvedDate\":\"2019-08-27T18:02:33+02:00\",\"exposureLimitType\":\"OUTSTANDING_AMOUNT\",\"notes\":\"\",\"_URepayOptions\":{\"ShortMonthOption\":\"late\",\"PaymentDueDay\":\"1\",\"AutoRepayMethod\":\"Direct-Debit\"}}\n"
     ]
    }
   ],
   "source": [
    "createNewCreditArrangement()"
   ]
  },
  {
   "cell_type": "markdown",
   "metadata": {},
   "source": [
    "### Create Accounts for the Customer"
   ]
  },
  {
   "cell_type": "code",
   "execution_count": 6,
   "metadata": {},
   "outputs": [
    {
     "name": "stdout",
     "output_type": "stream",
     "text": [
      "Overwriting CURACCTEMP\n"
     ]
    }
   ],
   "source": [
    "%%writefile CURACCTEMP\n",
    "{\n",
    "  \"overdraftInterestSettings\": {\n",
    "        \"interestRateSettings\": {\n",
    "            \"encodedKey\": \"8a818f9f6cc14d6e016cc2fcdbef4923\",\n",
    "            \"interestChargeFrequency\": \"ANNUALIZED\",\n",
    "            \"interestChargeFrequencyCount\": 1,\n",
    "            \"interestRateReviewCount\": 31,\n",
    "            \"interestRateReviewUnit\": \"DAYS\",\n",
    "            \"interestRateSource\": \"INDEX_INTEREST_RATE\",\n",
    "            \"interestRateTerms\": \"FIXED\",\n",
    "            \"interestSpread\": 0.0\n",
    "        }\n",
    "    },\n",
    "    \"overdraftSettings\": {\n",
    "        \"allowOverdraft\": true,\n",
    "        \"overdraftExpiryDate\": \"2020-05-02T00:00:00+02:00\",\n",
    "        \"overdraftLimit\": 0.0\n",
    "    },\n",
    "  \n",
    "  \"accountType\": \"CURRENT_ACCOUNT\",\n",
    "  \"name\": \"Current Account (with overdraft)\",\n",
    "  \"accountHolderKey\": \"{{CustomerID}}\",\n",
    "  \"productTypeKey\": \"{{ProductKey}}\",\n",
    "  \"currencyCode\": \"EUR\",\n",
    "  \"accountHolderType\": \"CLIENT\"\n",
    "}\n"
   ]
  },
  {
   "cell_type": "code",
   "execution_count": 7,
   "metadata": {},
   "outputs": [
    {
     "name": "stdout",
     "output_type": "stream",
     "text": [
      "Overwriting DDAACCTEMP\n"
     ]
    }
   ],
   "source": [
    "%%writefile DDAACCTEMP\n",
    "{\n",
    "  \"overdraftInterestSettings\": {\n",
    "        \"interestRateSettings\": {\n",
    "            \"encodedKey\": \"8a818f9c6cd48156016cd6ef16ec3c25\",\n",
    "            \"interestChargeFrequency\": \"ANNUALIZED\",\n",
    "            \"interestChargeFrequencyCount\": 1,\n",
    "            \"interestRate\": 0.0,\n",
    "            \"interestRateSource\": \"FIXED_INTEREST_RATE\",\n",
    "            \"interestRateTerms\": \"FIXED\",\n",
    "            \"interestRateTiers\": []\n",
    "        }\n",
    "    },\n",
    "    \"overdraftSettings\": {\n",
    "        \"allowOverdraft\": true,\n",
    "        \"overdraftExpiryDate\": \"2020-05-02T00:00:00+02:00\",\n",
    "        \"overdraftLimit\": 0.0\n",
    "    },\n",
    "  \n",
    "  \"accountType\": \"CURRENT_ACCOUNT\",\n",
    "  \"name\": \"TEMP Card Account\",\n",
    "  \"accountHolderKey\": \"{{CustomerID}}\",\n",
    "  \"productTypeKey\": \"{{ProductKey}}\",\n",
    "  \"currencyCode\": \"EUR\",\n",
    "  \"accountHolderType\": \"CLIENT\"\n",
    "}"
   ]
  },
  {
   "cell_type": "code",
   "execution_count": 8,
   "metadata": {},
   "outputs": [],
   "source": [
    "def createCurrentAccount():\n",
    "    createDepositAccount(\"8a818f5f6cbe6621016cbf4f2db95756\", \"CURACCTEMP\")\n",
    "\n",
    "def createTEMPCardDDAAccount():\n",
    "    createDepositAccount(\"8a818f5f6cbe6621016cbf7310ff6064\", \"DDAACCTEMP\")\n",
    "    \n",
    "def createDepositAccount(productKey, tempFile):\n",
    "    global CurrentAccID\n",
    "    PLACEHOLDERS = {\n",
    "        \"CustomerID\": newCustomerID,\n",
    "        \"ProductKey\": productKey\n",
    "    }\n",
    "    HEADERS = {'Accept': 'application/vnd.mambu.v2+json','Content-Type': 'application/json'}\n",
    "    PARAMS = {}\n",
    "    r = POST('{{env4}}/deposits', headers=HEADERS, params=PARAMS, body=tempFile, bodyparts=PLACEHOLDERS)\n",
    "    print (\"API status:\")\n",
    "    print(r.status_code)\n",
    "    print(\"Now the JSON:\")\n",
    "    print(r.text)\n",
    "    CurrentAccID = r.json()['id']\n"
   ]
  },
  {
   "cell_type": "code",
   "execution_count": 421,
   "metadata": {},
   "outputs": [
    {
     "name": "stdout",
     "output_type": "stream",
     "text": [
      "API status:\n",
      "201\n",
      "Now the JSON:\n",
      "{\"encodedKey\":\"8a818ea06cd4910e016cd6f80df239a6\",\"creationDate\":\"2019-08-28T08:45:43+02:00\",\"lastModifiedDate\":\"2019-08-28T08:45:43+02:00\",\"id\":\"SAUU325\",\"name\":\"Current Account (with overdraft)\",\"accountHolderType\":\"CLIENT\",\"accountHolderKey\":\"8a818efc6cd4813e016cd4ab3f3600b9\",\"accountState\":\"PENDING_APPROVAL\",\"productTypeKey\":\"8a818f5f6cbe6621016cbf4f2db95756\",\"accountType\":\"CURRENT_ACCOUNT\",\"currencyCode\":\"EUR\",\"assignedBranchKey\":\"8a818f156ccf5fb1016cd2e8e4532b09\",\"internalControls\":{},\"overdraftSettings\":{\"allowOverdraft\":true,\"overdraftLimit\":0.0,\"overdraftExpiryDate\":\"2020-05-02T00:00:00+02:00\"},\"interestSettings\":{\"interestPaymentSettings\":{\"interestPaymentDates\":[]}},\"overdraftInterestSettings\":{\"interestRateSettings\":{\"encodedKey\":\"8a818ea06cd4910e016cd6f80df239a7\",\"interestChargeFrequency\":\"ANNUALIZED\",\"interestChargeFrequencyCount\":1,\"interestRateTiers\":[],\"interestRateTerms\":\"FIXED\",\"interestSpread\":0.0,\"interestRateReviewCount\":31,\"interestRateSource\":\"INDEX_INTEREST_RATE\",\"interestRateReviewUnit\":\"DAYS\"}},\"balances\":{\"totalBalance\":0,\"overdraftAmount\":0,\"technicalOverdraftAmount\":0,\"lockedBalance\":0,\"availableBalance\":0,\"holdBalance\":0,\"overdraftInterestDue\":0,\"technicalOverdraftInterestDue\":0,\"feesDue\":0},\"accruedAmounts\":{\"interestAccrued\":0,\"overdraftInterestAccrued\":0,\"technicalOverdraftInterestAccrued\":0}}\n"
     ]
    }
   ],
   "source": [
    "#createTEMPCardDDAAccount()\n",
    "createCurrentAccount()"
   ]
  },
  {
   "cell_type": "code",
   "execution_count": 9,
   "metadata": {},
   "outputs": [],
   "source": [
    "def addCurrentAccountToCreditLine():\n",
    "    HEADERS = {'Content-Type': 'application/json'}\n",
    "    PARAMS = {}\n",
    "    r = POST('{{env4}}'+'/linesofcredit/{0}/savings/{1}'.format(CAID,CurrentAccID) , headers=HEADERS, params=PARAMS)\n",
    "    print (\"API status:\")\n",
    "    print(r.status_code)\n",
    "    print(\"Now the JSON:\")\n",
    "    print(r.text)"
   ]
  },
  {
   "cell_type": "code",
   "execution_count": 239,
   "metadata": {},
   "outputs": [
    {
     "name": "stdout",
     "output_type": "stream",
     "text": [
      "API status:\n",
      "200\n",
      "Now the JSON:\n",
      "{\"encodedKey\":\"8a818eed6cd2de01016cd3d186145cf8\",\"id\":\"RGBG661\",\"accountHolderKey\":\"8a818f746cd2fea7016cd3ace4c74d28\",\"accountHolderType\":\"CLIENT\",\"name\":\"Current Account (with overdraft)\",\"creationDate\":\"2019-08-27T16:03:39+0000\",\"lastModifiedDate\":\"2019-08-27T16:03:39+0000\",\"productTypeKey\":\"8a818f5f6cbe6621016cbf4f2db95756\",\"lineOfCreditKey\":\"8a818f796cd39234016cd3d082dd0384\",\"accountType\":\"CURRENT_ACCOUNT\",\"accountState\":\"PENDING_APPROVAL\",\"balance\":\"0\",\"accruedInterest\":\"0\",\"overdraftInterestAccrued\":\"0\",\"technicalOverdraftInterestAccrued\":\"0\",\"overdraftAmount\":\"0\",\"technicalOverdraftAmount\":\"0\",\"overdraftExpiryDate\":\"2020-05-02T00:00:00+0000\",\"overdraftInterestSettings\":{\"interestSpread\":\"0\",\"encodedKey\":\"8a818eed6cd2de01016cd3d186145cf9\",\"interestChargeFrequency\":\"ANNUALIZED\",\"interestChargeFrequencyCount\":1,\"interestRateSource\":\"INDEX_INTEREST_RATE\",\"interestRateReviewUnit\":\"DAYS\",\"interestRateReviewCount\":31,\"interestRateTerms\":\"FIXED\",\"interestRateTiers\":[],\"accrueInterestAfterMaturity\":false},\"interestDue\":\"0\",\"technicalInterestDue\":\"0\",\"feesDue\":\"0\",\"overdraftLimit\":\"0\",\"allowOverdraft\":true,\"assignedBranchKey\":\"8a818f156ccf5fb1016cd2e8e4532b09\",\"lockedBalance\":\"0\",\"holdBalance\":\"0\",\"currencyCode\":\"EUR\",\"currency\":{\"code\":\"EUR\",\"name\":\"Euro\",\"symbol\":\"€\",\"digitsAfterDecimal\":2,\"currencySymbolPosition\":\"BEFORE_NUMBER\",\"isBaseCurrency\":true,\"creationDate\":\"2018-12-05T14:25:48+0000\",\"lastModifiedDate\":\"2018-12-05T14:25:48+0000\"},\"availableBalance\":\"0\"}\n"
     ]
    }
   ],
   "source": [
    "addCurrentAccountToCreditLine()"
   ]
  },
  {
   "cell_type": "code",
   "execution_count": 10,
   "metadata": {},
   "outputs": [
    {
     "name": "stdout",
     "output_type": "stream",
     "text": [
      "Overwriting APPROVEACC\n"
     ]
    }
   ],
   "source": [
    "%%writefile APPROVEACC\n",
    "{\n",
    "  \"action\": \"APPROVE\",\n",
    "  \"notes\": \"Approved from the API\"\n",
    "}"
   ]
  },
  {
   "cell_type": "code",
   "execution_count": 11,
   "metadata": {},
   "outputs": [],
   "source": [
    "def approveDepositAccount():\n",
    "    HEADERS = {'Accept': 'application/vnd.mambu.v2+json','Content-Type': 'application/json'}\n",
    "    PARAMS = {}\n",
    "    url = \"{{env4}}\" + \"/deposits/{0}:changeState\".format(CurrentAccID)\n",
    "    r = POST(url, headers=HEADERS, params=PARAMS, body=\"APPROVEACC\")\n",
    "    print(r.text)"
   ]
  },
  {
   "cell_type": "code",
   "execution_count": 241,
   "metadata": {},
   "outputs": [
    {
     "name": "stdout",
     "output_type": "stream",
     "text": [
      "{\"encodedKey\":\"8a818eed6cd2de01016cd3d186145cf8\",\"creationDate\":\"2019-08-27T18:03:39+02:00\",\"lastModifiedDate\":\"2019-08-27T18:05:35+02:00\",\"id\":\"RGBG661\",\"name\":\"Current Account (with overdraft)\",\"accountHolderType\":\"CLIENT\",\"accountHolderKey\":\"8a818f746cd2fea7016cd3ace4c74d28\",\"accountState\":\"APPROVED\",\"productTypeKey\":\"8a818f5f6cbe6621016cbf4f2db95756\",\"accountType\":\"CURRENT_ACCOUNT\",\"creditArrangementKey\":\"8a818f796cd39234016cd3d082dd0384\",\"approvedDate\":\"2019-08-27T18:05:36+02:00\",\"currencyCode\":\"EUR\",\"assignedBranchKey\":\"8a818f156ccf5fb1016cd2e8e4532b09\",\"internalControls\":{},\"overdraftSettings\":{\"allowOverdraft\":true,\"overdraftLimit\":0E-10,\"overdraftExpiryDate\":\"2020-05-02T00:00:00+02:00\"},\"interestSettings\":{\"interestPaymentSettings\":{\"interestPaymentDates\":[]}},\"overdraftInterestSettings\":{\"interestRateSettings\":{\"encodedKey\":\"8a818eed6cd2de01016cd3d186145cf9\",\"interestChargeFrequency\":\"ANNUALIZED\",\"interestChargeFrequencyCount\":1,\"interestRateTiers\":[],\"interestRateTerms\":\"FIXED\",\"interestSpread\":0E-20,\"interestRateReviewCount\":31,\"interestRateSource\":\"INDEX_INTEREST_RATE\",\"interestRateReviewUnit\":\"DAYS\"}},\"balances\":{\"totalBalance\":0,\"overdraftAmount\":0E-10,\"technicalOverdraftAmount\":0E-10,\"lockedBalance\":0E-10,\"availableBalance\":0E-10,\"holdBalance\":0E-10,\"overdraftInterestDue\":0E-10,\"technicalOverdraftInterestDue\":0E-10,\"feesDue\":0E-10},\"accruedAmounts\":{\"interestAccrued\":0E-10,\"overdraftInterestAccrued\":0E-10,\"technicalOverdraftInterestAccrued\":0E-10}}\n"
     ]
    }
   ],
   "source": [
    "approveDepositAccount()"
   ]
  },
  {
   "cell_type": "markdown",
   "metadata": {},
   "source": [
    "## Create the CC bucket accounts\n"
   ]
  },
  {
   "cell_type": "code",
   "execution_count": 12,
   "metadata": {},
   "outputs": [
    {
     "name": "stdout",
     "output_type": "stream",
     "text": [
      "Overwriting CCACCTEMP\n"
     ]
    }
   ],
   "source": [
    "%%writefile CCACCTEMP\n",
    "{\n",
    "  \"loanAmount\": 30000.0,\n",
    "  \"loanName\": \"{{AccountName}}\",\n",
    "  \"accountHolderKey\": \"{{CustomerID}}\",\n",
    "  \"productTypeKey\": \"{{ProductKey}}\",\n",
    "  \"accountHolderType\": \"CLIENT\",\n",
    "  \"assignedBranchKey\": \"8a818f156ccf5fb1016cd2e8e4532b09\",\n",
    "  \"interestFromArrearsAccrued\": 0.0,\n",
    "    \"interestSettings\": {\n",
    "        \"accrueInterestAfterMaturity\": false,\n",
    "        \"interestApplicationMethod\": \"REPAYMENT_DUE_DATE\",\n",
    "        \"interestBalanceCalculationMethod\": \"ONLY_PRINCIPAL\",\n",
    "        \"interestCalculationMethod\": \"DECLINING_BALANCE\",\n",
    "        \"interestChargeFrequency\": \"ANNUALIZED\",\n",
    "        \"interestRateReviewCount\": 31,\n",
    "        \"interestRateReviewUnit\": \"DAYS\",\n",
    "        \"interestRateSource\": \"INDEX_INTEREST_RATE\",\n",
    "        \"interestSpread\": 0.0,\n",
    "        \"interestType\": \"SIMPLE_INTEREST\"\n",
    "    },\n",
    "  \"scheduleSettings\": {\n",
    "        \"fixedDaysOfMonth\": [\n",
    "            1\n",
    "        ],\n",
    "        \"gracePeriod\": 0,\n",
    "        \"gracePeriodType\": \"NONE\",\n",
    "        \"paymentPlan\": [],\n",
    "        \"periodicPayment\": 0.0,\n",
    "        \"principalRepaymentInterval\": 1,\n",
    "        \"repaymentPeriodUnit\": \"DAYS\",\n",
    "        \"repaymentScheduleMethod\": \"DYNAMIC\",\n",
    "        \"scheduleDueDatesMethod\": \"FIXED_DAYS_OF_MONTH\",\n",
    "        \"shortMonthHandlingMethod\": \"LAST_DAY_IN_MONTH\"\n",
    "    }\n",
    "  \n",
    "}"
   ]
  },
  {
   "cell_type": "code",
   "execution_count": 31,
   "metadata": {},
   "outputs": [],
   "source": [
    "def createCreditCardBucket(cctype):\n",
    "    global cc_account\n",
    "    if cctype == \"cash\":\n",
    "        productKey = \"8a818f5f6cbe6621016cbf3cf8675424\"\n",
    "        accName = \"CC - Cash\"\n",
    "    else:\n",
    "        productKey = \"8a818f5f6cbe6621016cbf6d66075e54\"\n",
    "        accName = \"CC - Purchases\"\n",
    "    PLACEHOLDERS = {\n",
    "        'CustomerID': newCustomerID,\n",
    "        'ProductKey': productKey,\n",
    "        'AccountName': accName\n",
    "    }\n",
    "    HEADERS = {'Accept': 'application/vnd.mambu.v2+json','Content-Type': 'application/json'}\n",
    "    PARAMS = {}\n",
    "    r = POST('{{env4}}/loans', headers=HEADERS, params=PARAMS, body=\"CCACCTEMP\", bodyparts=PLACEHOLDERS)\n",
    "    print (\"API status:\")\n",
    "    print(r.status_code)\n",
    "    print(\"Now the JSON:\")\n",
    "    print(r.text)\n",
    "    cc_account = r.json()['id']"
   ]
  },
  {
   "cell_type": "code",
   "execution_count": 246,
   "metadata": {},
   "outputs": [
    {
     "name": "stdout",
     "output_type": "stream",
     "text": [
      "API status:\n",
      "201\n",
      "Now the JSON:\n",
      "{\"encodedKey\":\"8a818fd26cd2df22016cd3995fea4c35\",\"id\":\"LVYN893\",\"accountHolderType\":\"CLIENT\",\"accountHolderKey\":\"8a818f746cd2fea7016cd3ace4c74d28\",\"creationDate\":\"2019-08-27T18:11:01+02:00\",\"lastModifiedDate\":\"2019-08-27T18:11:01+02:00\",\"accountState\":\"PENDING_APPROVAL\",\"productTypeKey\":\"8a818f5f6cbe6621016cbf6d66075e54\",\"loanName\":\"CC - Purchases\",\"loanAmount\":30000.0,\"paymentMethod\":\"HORIZONTAL\",\"assignedBranchKey\":\"8a818f156ccf5fb1016cd2e8e4532b09\",\"accruedInterest\":0,\"interestFromArrearsAccrued\":0.0,\"allowOffset\":false,\"arrearsTolerancePeriod\":0,\"accountArrearsSettings\":{\"encodedKey\":\"8a818fd26cd2df22016cd3d84276562e\",\"toleranceCalculationMethod\":\"ARREARS_TOLERANCE_PERIOD\",\"dateCalculationMethod\":\"ACCOUNT_FIRST_WENT_TO_ARREARS\",\"nonWorkingDaysMethod\":\"EXCLUDED\",\"tolerancePeriod\":0},\"latePaymentsRecalculationMethod\":\"OVERDUE_INSTALLMENTS_INCREASE\",\"balances\":{\"redrawBalance\":0,\"principalDue\":0,\"principalPaid\":0,\"principalBalance\":0,\"interestDue\":0,\"interestPaid\":0,\"interestBalance\":0,\"interestFromArrearsBalance\":0,\"interestFromArrearsDue\":0,\"interestFromArrearsPaid\":0,\"feesDue\":0,\"feesPaid\":0,\"feesBalance\":0,\"penaltyDue\":0,\"penaltyPaid\":0,\"penaltyBalance\":0,\"holdBalance\":0},\"principalPaymentSettings\":{\"encodedKey\":\"8a818fd26cd2df22016cd3d84276562c\",\"totalDuePayment\":\"TOTAL_BALANCE_PERCENTAGE\",\"includeInterestInFloorAmount\":false,\"includeFeesInFloorAmount\":false,\"percentage\":3.00000000000000000000},\"disbursementDetails\":{\"encodedKey\":\"8a818fd26cd2df22016cd3d84276562d\",\"fees\":[]},\"prepaymentSettings\":{\"prepaymentRecalculationMethod\":\"NO_RECALCULATION\",\"principalPaidInstallmentStatus\":\"PARTIALLY_PAID\",\"applyInterestOnPrepaymentMethod\":\"AUTOMATIC\"},\"penaltySettings\":{\"loanPenaltyCalculationMethod\":\"NONE\"},\"scheduleSettings\":{\"hasCustomSchedule\":false,\"principalRepaymentInterval\":1,\"gracePeriod\":0,\"gracePeriodType\":\"NONE\",\"repaymentInstallments\":0,\"shortMonthHandlingMethod\":\"LAST_DAY_IN_MONTH\",\"fixedDaysOfMonth\":[1],\"scheduleDueDatesMethod\":\"FIXED_DAYS_OF_MONTH\",\"periodicPayment\":0.0,\"repaymentScheduleMethod\":\"DYNAMIC\",\"paymentPlan\":[]},\"interestSettings\":{\"interestRateReviewCount\":31,\"interestRateReviewUnit\":\"DAYS\",\"interestRateSource\":\"INDEX_INTEREST_RATE\",\"accrueInterestAfterMaturity\":false,\"interestApplicationMethod\":\"REPAYMENT_DUE_DATE\",\"interestBalanceCalculationMethod\":\"ONLY_PRINCIPAL\",\"interestCalculationMethod\":\"DECLINING_BALANCE\",\"interestChargeFrequency\":\"ANNUALIZED\",\"interestSpread\":0.0,\"interestRate\":24.9000000000,\"interestType\":\"SIMPLE_INTEREST\",\"accrueLateInterest\":true},\"assets\":[],\"guarantors\":[],\"fundingSources\":[],\"tranches\":[],\"futurePaymentsAcceptance\":\"NO_FUTURE_PAYMENTS\"}\n"
     ]
    }
   ],
   "source": [
    "createCreditCardBucket(\"purchase\")"
   ]
  },
  {
   "cell_type": "code",
   "execution_count": 13,
   "metadata": {},
   "outputs": [],
   "source": [
    "def addCCBucketToCreditLine():\n",
    "    HEADERS = {'Content-Type': 'application/json'}\n",
    "    PARAMS = {}\n",
    "    r = POST('{{env4}}'+'/linesofcredit/{0}/loans/{1}'.format(CAID,cc_account) , headers=HEADERS, params=PARAMS)\n",
    "    print (\"API status:\")\n",
    "    print(r.status_code)\n",
    "    print(\"Now the JSON:\")\n",
    "    print(r.text)"
   ]
  },
  {
   "cell_type": "code",
   "execution_count": 248,
   "metadata": {},
   "outputs": [
    {
     "name": "stdout",
     "output_type": "stream",
     "text": [
      "API status:\n",
      "200\n",
      "Now the JSON:\n",
      "{\"encodedKey\":\"8a818fd26cd2df22016cd3995fea4c35\",\"id\":\"LVYN893\",\"accountHolderKey\":\"8a818f746cd2fea7016cd3ace4c74d28\",\"accountHolderType\":\"CLIENT\",\"creationDate\":\"2019-08-27T16:11:01+0000\",\"lastModifiedDate\":\"2019-08-27T16:11:01+0000\",\"accountState\":\"PENDING_APPROVAL\",\"productTypeKey\":\"8a818f5f6cbe6621016cbf6d66075e54\",\"lineOfCreditKey\":\"8a818f796cd39234016cd3d082dd0384\",\"loanName\":\"CC - Purchases\",\"loanAmount\":\"30000\",\"periodicPayment\":\"0\",\"tranches\":[],\"principalDue\":\"0\",\"principalPaid\":\"0\",\"principalBalance\":\"0\",\"redrawBalance\":\"0\",\"interestDue\":\"0\",\"interestPaid\":\"0\",\"interestFromArrearsBalance\":\"0\",\"interestFromArrearsDue\":\"0\",\"interestFromArrearsPaid\":\"0\",\"interestBalance\":\"0\",\"feesDue\":\"0\",\"feesPaid\":\"0\",\"feesBalance\":\"0\",\"penaltyDue\":\"0\",\"penaltyPaid\":\"0\",\"penaltyBalance\":\"0\",\"scheduleDueDatesMethod\":\"FIXED_DAYS_OF_MONTH\",\"prepaymentAcceptance\":\"ACCEPT_PREPAYMENTS\",\"futurePaymentsAcceptance\":\"NO_FUTURE_PAYMENTS\",\"hasCustomSchedule\":false,\"fixedDaysOfMonth\":[1],\"shortMonthHandlingMethod\":\"LAST_DAY_IN_MONTH\",\"repaymentInstallments\":0,\"gracePeriod\":0,\"gracePeriodType\":\"NONE\",\"interestRate\":\"24.9\",\"interestChargeFrequency\":\"ANNUALIZED\",\"interestCalculationMethod\":\"DECLINING_BALANCE\",\"interestType\":\"SIMPLE_INTEREST\",\"interestBalanceCalculationMethod\":\"PRINCIPAL_ONLY\",\"repaymentScheduleMethod\":\"DYNAMIC\",\"paymentMethod\":\"HORIZONTAL\",\"interestApplicationMethod\":\"ON_REPAYMENT\",\"accrueInterestAfterMaturity\":false,\"assignedBranchKey\":\"8a818f156ccf5fb1016cd2e8e4532b09\",\"principalRepaymentInterval\":1,\"interestRateSource\":\"INDEX_INTEREST_RATE\",\"interestRateReviewUnit\":\"DAYS\",\"interestRateReviewCount\":31,\"interestSpread\":\"0\",\"accruedInterest\":\"0\",\"interestFromArrearsAccrued\":\"0\",\"funds\":[],\"guarantees\":[],\"loanPenaltyCalculationMethod\":\"NONE\",\"principalPaymentSettings\":{\"percentage\":\"3\",\"encodedKey\":\"8a818fd26cd2df22016cd3d84276562c\",\"principalPaymentMethod\":\"TOTAL_BALANCE_PERCENTAGE\",\"includeInterestInFloorAmount\":false,\"includeFeesInFloorAmount\":false},\"disbursementDetails\":{\"encodedKey\":\"8a818fd26cd2df22016cd3d84276562d\",\"fees\":[]},\"arrearsTolerancePeriod\":0,\"accountArrearsSettings\":{\"tolerancePeriod\":0,\"encodedKey\":\"8a818fd26cd2df22016cd3d84276562e\",\"toleranceCalculationMethod\":\"ARREARS_TOLERANCE_PERIOD\",\"dateCalculationMethod\":\"DATE_ACCOUNT_FIRST_WENT_TO_ARREARS\",\"nonWorkingDaysMethod\":\"EXCLUDED\"},\"paymentPlan\":[],\"interestRoundingVersion\":\"VERSION_2\",\"prepaymentRecalculationMethod\":\"NO_RECALCULATION\",\"principalPaidInstallmentStatus\":\"PARTIALLY_PAID\",\"latePaymentsRecalculationMethod\":\"INCREASE_OVERDUE_INSTALLMENTS\",\"applyInterestOnPrepaymentMethod\":\"AUTOMATIC\",\"allowOffset\":false,\"accrueLateInterest\":true,\"holdBalance\":\"0\"}\n"
     ]
    }
   ],
   "source": [
    "addCCBucketToCreditLine()"
   ]
  },
  {
   "cell_type": "code",
   "execution_count": 14,
   "metadata": {},
   "outputs": [
    {
     "name": "stdout",
     "output_type": "stream",
     "text": [
      "Overwriting APPROVEACC\n"
     ]
    }
   ],
   "source": [
    "%%writefile APPROVEACC\n",
    "{\n",
    "  \"action\": \"APPROVE\",\n",
    "  \"notes\": \"Approved from the API\"\n",
    "}"
   ]
  },
  {
   "cell_type": "code",
   "execution_count": 15,
   "metadata": {},
   "outputs": [],
   "source": [
    "def approveLoanAccount():\n",
    "    HEADERS = {'Accept': 'application/vnd.mambu.v2+json','Content-Type': 'application/json'}\n",
    "    PARAMS = {}\n",
    "    url = \"{{env4}}\" + \"/loans/{0}:changeState\".format(cc_account)\n",
    "    r = POST(url, headers=HEADERS, params=PARAMS, body=\"APPROVEACC\")\n",
    "    print(r.text)"
   ]
  },
  {
   "cell_type": "code",
   "execution_count": 251,
   "metadata": {},
   "outputs": [
    {
     "name": "stdout",
     "output_type": "stream",
     "text": [
      "{\"encodedKey\":\"8a818fd26cd2df22016cd3995fea4c35\",\"id\":\"LVYN893\",\"accountHolderType\":\"CLIENT\",\"accountHolderKey\":\"8a818f746cd2fea7016cd3ace4c74d28\",\"creationDate\":\"2019-08-27T18:11:01+02:00\",\"approvedDate\":\"2019-08-27T18:12:29+02:00\",\"lastModifiedDate\":\"2019-08-27T18:12:28+02:00\",\"accountState\":\"APPROVED\",\"productTypeKey\":\"8a818f5f6cbe6621016cbf6d66075e54\",\"creditArrangementKey\":\"8a818f796cd39234016cd3d082dd0384\",\"loanName\":\"CC - Purchases\",\"loanAmount\":30000.0000000000,\"paymentMethod\":\"HORIZONTAL\",\"assignedBranchKey\":\"8a818f156ccf5fb1016cd2e8e4532b09\",\"accruedInterest\":0E-10,\"interestFromArrearsAccrued\":0E-10,\"allowOffset\":false,\"arrearsTolerancePeriod\":0,\"accountArrearsSettings\":{\"encodedKey\":\"8a818fd26cd2df22016cd3d84276562e\",\"toleranceCalculationMethod\":\"ARREARS_TOLERANCE_PERIOD\",\"dateCalculationMethod\":\"ACCOUNT_FIRST_WENT_TO_ARREARS\",\"nonWorkingDaysMethod\":\"EXCLUDED\",\"tolerancePeriod\":0},\"latePaymentsRecalculationMethod\":\"OVERDUE_INSTALLMENTS_INCREASE\",\"balances\":{\"redrawBalance\":0E-10,\"principalDue\":0E-10,\"principalPaid\":0E-10,\"principalBalance\":0E-10,\"interestDue\":0E-10,\"interestPaid\":0E-10,\"interestBalance\":0E-10,\"interestFromArrearsBalance\":0E-10,\"interestFromArrearsDue\":0E-10,\"interestFromArrearsPaid\":0E-10,\"feesDue\":0E-10,\"feesPaid\":0E-10,\"feesBalance\":0E-10,\"penaltyDue\":0E-10,\"penaltyPaid\":0E-10,\"penaltyBalance\":0E-10,\"holdBalance\":0E-10},\"principalPaymentSettings\":{\"encodedKey\":\"8a818fd26cd2df22016cd3d84276562c\",\"totalDuePayment\":\"TOTAL_BALANCE_PERCENTAGE\",\"includeInterestInFloorAmount\":false,\"includeFeesInFloorAmount\":false,\"percentage\":3.00000000000000000000},\"disbursementDetails\":{\"encodedKey\":\"8a818fd26cd2df22016cd3d84276562d\",\"fees\":[]},\"prepaymentSettings\":{\"prepaymentRecalculationMethod\":\"NO_RECALCULATION\",\"principalPaidInstallmentStatus\":\"PARTIALLY_PAID\",\"applyInterestOnPrepaymentMethod\":\"AUTOMATIC\"},\"penaltySettings\":{\"loanPenaltyCalculationMethod\":\"NONE\"},\"scheduleSettings\":{\"hasCustomSchedule\":false,\"principalRepaymentInterval\":1,\"gracePeriod\":0,\"gracePeriodType\":\"NONE\",\"repaymentInstallments\":0,\"shortMonthHandlingMethod\":\"LAST_DAY_IN_MONTH\",\"fixedDaysOfMonth\":[1],\"scheduleDueDatesMethod\":\"FIXED_DAYS_OF_MONTH\",\"periodicPayment\":0E-10,\"repaymentScheduleMethod\":\"DYNAMIC\"},\"interestSettings\":{\"interestRateReviewCount\":31,\"interestRateReviewUnit\":\"DAYS\",\"interestRateSource\":\"INDEX_INTEREST_RATE\",\"accrueInterestAfterMaturity\":false,\"interestApplicationMethod\":\"REPAYMENT_DUE_DATE\",\"interestBalanceCalculationMethod\":\"ONLY_PRINCIPAL\",\"interestCalculationMethod\":\"DECLINING_BALANCE\",\"interestChargeFrequency\":\"ANNUALIZED\",\"interestSpread\":0E-10,\"interestRate\":24.90000000000000000000,\"interestType\":\"SIMPLE_INTEREST\",\"accrueLateInterest\":true},\"futurePaymentsAcceptance\":\"NO_FUTURE_PAYMENTS\"}\n"
     ]
    }
   ],
   "source": [
    "approveLoanAccount()"
   ]
  },
  {
   "cell_type": "code",
   "execution_count": 16,
   "metadata": {},
   "outputs": [
    {
     "name": "stdout",
     "output_type": "stream",
     "text": [
      "Overwriting INLOANACCTEMP\n"
     ]
    }
   ],
   "source": [
    "%%writefile INLOANACCTEMP\n",
    "{\n",
    "  \"loanAmount\": {{LoanAmount}},\n",
    "  \"loanName\": \"{{AccountName}}\",\n",
    "  \"accountHolderKey\": \"{{CustomerID}}\",\n",
    "  \"productTypeKey\": \"{{ProductKey}}\",\n",
    "  \"accountHolderType\": \"CLIENT\",\n",
    "  \"assignedBranchKey\": \"8a818f156ccf5fb1016cd2e8e4532b09\",\n",
    "  \"interestFromArrearsAccrued\": 0.0,\n",
    "    \"interestSettings\": {\n",
    "        \"accrueInterestAfterMaturity\": false,\n",
    "        \"interestApplicationMethod\": \"REPAYMENT_DUE_DATE\",\n",
    "        \"interestBalanceCalculationMethod\": \"ONLY_PRINCIPAL\",\n",
    "        \"interestCalculationMethod\": \"DECLINING_BALANCE_DISCOUNTED\",\n",
    "        \"interestChargeFrequency\": \"ANNUALIZED\",\n",
    "        \"interestRateReviewCount\": 31,\n",
    "        \"interestRateReviewUnit\": \"DAYS\",\n",
    "        \"interestRateSource\": \"INDEX_INTEREST_RATE\",\n",
    "        \"interestSpread\": 0.0,\n",
    "        \"interestType\": \"SIMPLE_INTEREST\"\n",
    "    },\n",
    "  \"scheduleSettings\": {\n",
    "        \"gracePeriod\": 0,\n",
    "        \"gracePeriodType\": \"NONE\",\n",
    "        \"paymentPlan\": [],\n",
    "        \"periodicPayment\": 0.0,\n",
    "        \"principalRepaymentInterval\": 1,\n",
    "        \"repaymentInstallments\": 12,\n",
    "        \"repaymentPeriodCount\": 1,\n",
    "        \"repaymentPeriodUnit\": \"MONTHS\",\n",
    "        \"repaymentScheduleMethod\": \"DYNAMIC\",\n",
    "        \"scheduleDueDatesMethod\": \"INTERVAL\"\n",
    "    }\n",
    "  \n",
    "}"
   ]
  },
  {
   "cell_type": "code",
   "execution_count": 439,
   "metadata": {},
   "outputs": [
    {
     "name": "stdout",
     "output_type": "stream",
     "text": [
      "Overwriting MERCHANTLOANACCTEMP\n"
     ]
    }
   ],
   "source": [
    "%%writefile MERCHANTLOANACCTEMP\n",
    "{\n",
    "  \"loanAmount\": {{LoanAmount}},\n",
    "  \"loanName\": \"{{AccountName}}\",\n",
    "  \"accountHolderKey\": \"{{CustomerID}}\",\n",
    "  \"productTypeKey\": \"{{ProductKey}}\",\n",
    "  \"accountHolderType\": \"CLIENT\",\n",
    "  \"assignedBranchKey\": \"8a818f156ccf5fb1016cd2e8e4532b09\",\n",
    "  \"interestFromArrearsAccrued\": 0.0,\n",
    "    \"interestSettings\": {\n",
    "        \"accrueInterestAfterMaturity\": false,\n",
    "        \"interestApplicationMethod\": \"REPAYMENT_DUE_DATE\",\n",
    "        \"interestBalanceCalculationMethod\": \"ONLY_PRINCIPAL\",\n",
    "        \"interestCalculationMethod\": \"DECLINING_BALANCE\",\n",
    "        \"interestChargeFrequency\": \"ANNUALIZED\",\n",
    "        \"interestRate\": 5.0,\n",
    "        \"interestRateSource\": \"FIXED_INTEREST_RATE\",\n",
    "        \"interestType\": \"SIMPLE_INTEREST\"\n",
    "    },\n",
    "  \"scheduleSettings\": {\n",
    "        \"fixedDaysOfMonth\": [\n",
    "            1\n",
    "        ],\n",
    "        \"gracePeriod\": 6,\n",
    "        \"gracePeriodType\": \"INTEREST_FORGIVENESS\",\n",
    "        \"paymentPlan\": [],\n",
    "        \"periodicPayment\": 0.0,\n",
    "        \"principalRepaymentInterval\": 1,\n",
    "        \"repaymentInstallments\": 12,\n",
    "        \"repaymentPeriodCount\": 0,\n",
    "        \"repaymentPeriodUnit\": \"DAYS\",\n",
    "        \"repaymentScheduleMethod\": \"DYNAMIC\",\n",
    "        \"scheduleDueDatesMethod\": \"FIXED_DAYS_OF_MONTH\",\n",
    "        \"shortMonthHandlingMethod\": \"LAST_DAY_IN_MONTH\"\n",
    "    }\n",
    "  \n",
    "}"
   ]
  },
  {
   "cell_type": "code",
   "execution_count": 17,
   "metadata": {},
   "outputs": [],
   "source": [
    "def createInstalmentLoan(loanAmount):\n",
    "    createLoan(loanAmount,\"8a818f5f6cbe6621016cbf627bbc5af4\", \"Instalment Loan\", \"INLOANACCTEMP\")\n",
    "    \n",
    "def createMerchantPromotionLoan(loanAmount):\n",
    "    createLoan(loanAmount,\"8a818f5f6cbe6621016cbf4b45be568b\", \"Merchant Promotion Loan\", \"MERCHANTLOANACCTEMP\")\n",
    "    \n",
    "def createLoan(loanAmount, productKey, accName, tempFile):\n",
    "    global cc_account\n",
    "    \n",
    "    PLACEHOLDERS = {\n",
    "        'CustomerID': newCustomerID,\n",
    "        'ProductKey': productKey,\n",
    "        'AccountName': accName,\n",
    "        'LoanAmount': loanAmount\n",
    "    }\n",
    "    HEADERS = {'Accept': 'application/vnd.mambu.v2+json','Content-Type': 'application/json'}\n",
    "    PARAMS = {}\n",
    "    r = POST('{{env4}}/loans', headers=HEADERS, params=PARAMS, body=tempFile, bodyparts=PLACEHOLDERS)\n",
    "    print (\"API status:\")\n",
    "    print(r.status_code)\n",
    "    print(\"Now the JSON:\")\n",
    "    print(r.text)\n",
    "    cc_account = r.json()['id']\n",
    "    addCCBucketToCreditLine()\n",
    "    approveLoanAccount()\n",
    "    print(\"***FINISHED\")\n",
    "    print(cc_account)\n",
    "    return cc_account"
   ]
  },
  {
   "cell_type": "code",
   "execution_count": 443,
   "metadata": {},
   "outputs": [
    {
     "name": "stdout",
     "output_type": "stream",
     "text": [
      "API status:\n",
      "201\n",
      "Now the JSON:\n",
      "{\"encodedKey\":\"8a818f336cd48137016cd709a9583f3a\",\"id\":\"RQNY670\",\"accountHolderType\":\"CLIENT\",\"accountHolderKey\":\"8a818e4f6cd67373016cd6fb4820089d\",\"creationDate\":\"2019-08-28T09:06:18+02:00\",\"lastModifiedDate\":\"2019-08-28T09:06:18+02:00\",\"accountState\":\"PENDING_APPROVAL\",\"productTypeKey\":\"8a818f5f6cbe6621016cbf627bbc5af4\",\"loanName\":\"Instalment Loan\",\"loanAmount\":2000,\"paymentMethod\":\"HORIZONTAL\",\"assignedBranchKey\":\"8a818f156ccf5fb1016cd2e8e4532b09\",\"accruedInterest\":0,\"interestFromArrearsAccrued\":0.0,\"allowOffset\":false,\"arrearsTolerancePeriod\":0,\"accountArrearsSettings\":{\"encodedKey\":\"8a818f336cd48137016cd709a9583f3d\",\"toleranceCalculationMethod\":\"ARREARS_TOLERANCE_PERIOD\",\"dateCalculationMethod\":\"ACCOUNT_FIRST_WENT_TO_ARREARS\",\"nonWorkingDaysMethod\":\"EXCLUDED\",\"tolerancePeriod\":0},\"latePaymentsRecalculationMethod\":\"OVERDUE_INSTALLMENTS_INCREASE\",\"balances\":{\"redrawBalance\":0,\"principalDue\":0,\"principalPaid\":0,\"principalBalance\":0,\"interestDue\":0,\"interestPaid\":0,\"interestBalance\":0,\"interestFromArrearsBalance\":0,\"interestFromArrearsDue\":0,\"interestFromArrearsPaid\":0,\"feesDue\":0,\"feesPaid\":0,\"feesBalance\":0,\"penaltyDue\":0,\"penaltyPaid\":0,\"penaltyBalance\":0,\"holdBalance\":0},\"disbursementDetails\":{\"encodedKey\":\"8a818f336cd48137016cd709a9583f3b\",\"transactionDetails\":{\"encodedKey\":\"8a818f336cd48137016cd709a9583f3c\",\"transactionChannelKey\":\"8a818e74677a2e9201677ec2b4c336a6\",\"transactionChannelId\":\"cash\",\"internalTransfer\":false},\"fees\":[]},\"prepaymentSettings\":{\"prepaymentRecalculationMethod\":\"NO_RECALCULATION\",\"principalPaidInstallmentStatus\":\"PARTIALLY_PAID\",\"applyInterestOnPrepaymentMethod\":\"AUTOMATIC\"},\"penaltySettings\":{\"loanPenaltyCalculationMethod\":\"NONE\"},\"scheduleSettings\":{\"hasCustomSchedule\":false,\"principalRepaymentInterval\":1,\"gracePeriod\":0,\"gracePeriodType\":\"NONE\",\"repaymentInstallments\":12,\"repaymentPeriodCount\":1,\"scheduleDueDatesMethod\":\"INTERVAL\",\"periodicPayment\":0.0,\"repaymentPeriodUnit\":\"MONTHS\",\"repaymentScheduleMethod\":\"DYNAMIC\",\"paymentPlan\":[]},\"interestSettings\":{\"interestRateReviewCount\":31,\"interestRateReviewUnit\":\"DAYS\",\"interestRateSource\":\"INDEX_INTEREST_RATE\",\"accrueInterestAfterMaturity\":false,\"interestApplicationMethod\":\"REPAYMENT_DUE_DATE\",\"interestBalanceCalculationMethod\":\"ONLY_PRINCIPAL\",\"interestCalculationMethod\":\"DECLINING_BALANCE_DISCOUNTED\",\"interestChargeFrequency\":\"ANNUALIZED\",\"interestSpread\":0.0,\"interestRate\":24.9000000000,\"interestType\":\"SIMPLE_INTEREST\",\"accrueLateInterest\":true},\"assets\":[],\"guarantors\":[],\"fundingSources\":[],\"tranches\":[],\"futurePaymentsAcceptance\":\"NO_FUTURE_PAYMENTS\"}\n",
      "API status:\n",
      "200\n",
      "Now the JSON:\n",
      "{\"encodedKey\":\"8a818f336cd48137016cd709a9583f3a\",\"id\":\"RQNY670\",\"accountHolderKey\":\"8a818e4f6cd67373016cd6fb4820089d\",\"accountHolderType\":\"CLIENT\",\"creationDate\":\"2019-08-28T07:06:18+0000\",\"lastModifiedDate\":\"2019-08-28T07:06:18+0000\",\"accountState\":\"PENDING_APPROVAL\",\"productTypeKey\":\"8a818f5f6cbe6621016cbf627bbc5af4\",\"lineOfCreditKey\":\"8a818e6d6cd6b347016cd6eacda3022e\",\"loanName\":\"Instalment Loan\",\"loanAmount\":\"2000\",\"periodicPayment\":\"0\",\"tranches\":[],\"principalDue\":\"0\",\"principalPaid\":\"0\",\"principalBalance\":\"0\",\"redrawBalance\":\"0\",\"interestDue\":\"0\",\"interestPaid\":\"0\",\"interestFromArrearsBalance\":\"0\",\"interestFromArrearsDue\":\"0\",\"interestFromArrearsPaid\":\"0\",\"interestBalance\":\"0\",\"feesDue\":\"0\",\"feesPaid\":\"0\",\"feesBalance\":\"0\",\"penaltyDue\":\"0\",\"penaltyPaid\":\"0\",\"penaltyBalance\":\"0\",\"scheduleDueDatesMethod\":\"INTERVAL\",\"prepaymentAcceptance\":\"ACCEPT_PREPAYMENTS\",\"futurePaymentsAcceptance\":\"NO_FUTURE_PAYMENTS\",\"hasCustomSchedule\":false,\"repaymentPeriodCount\":1,\"repaymentPeriodUnit\":\"MONTHS\",\"repaymentInstallments\":12,\"gracePeriod\":0,\"gracePeriodType\":\"NONE\",\"interestRate\":\"24.9\",\"interestChargeFrequency\":\"ANNUALIZED\",\"interestCalculationMethod\":\"DECLINING_BALANCE_DISCOUNTED\",\"interestType\":\"SIMPLE_INTEREST\",\"interestBalanceCalculationMethod\":\"PRINCIPAL_ONLY\",\"repaymentScheduleMethod\":\"DYNAMIC\",\"paymentMethod\":\"HORIZONTAL\",\"interestApplicationMethod\":\"ON_REPAYMENT\",\"accrueInterestAfterMaturity\":false,\"assignedBranchKey\":\"8a818f156ccf5fb1016cd2e8e4532b09\",\"principalRepaymentInterval\":1,\"interestRateSource\":\"INDEX_INTEREST_RATE\",\"interestRateReviewUnit\":\"DAYS\",\"interestRateReviewCount\":31,\"interestSpread\":\"0\",\"accruedInterest\":\"0\",\"interestFromArrearsAccrued\":\"0\",\"funds\":[],\"guarantees\":[],\"loanPenaltyCalculationMethod\":\"NONE\",\"disbursementDetails\":{\"encodedKey\":\"8a818f336cd48137016cd709a9583f3b\",\"transactionDetails\":{\"encodedKey\":\"8a818f336cd48137016cd709a9583f3c\",\"transactionChannelKey\":\"8a818e74677a2e9201677ec2b4c336a6\",\"internalTransfer\":false,\"transactionChannel\":{\"encodedKey\":\"8a818e74677a2e9201677ec2b4c336a6\",\"id\":\"cash\",\"name\":\"Cash\",\"creationDate\":\"2018-12-05T15:25:49+0000\",\"index\":0,\"activated\":true,\"savingsConstraintsUsage\":\"UNCONSTRAINED_USAGE\",\"savingsConstraints\":{\"encodedKey\":\"8a818e74677a2e9201677ec2b4c336a8\",\"filterConstraints\":[]},\"usageRights\":{\"encodedKey\":\"8a818e74677a2e9201677ec2b4c336a7\",\"isAccessibleByAllUsers\":true,\"roles\":[]}}},\"fees\":[]},\"arrearsTolerancePeriod\":0,\"accountArrearsSettings\":{\"tolerancePeriod\":0,\"encodedKey\":\"8a818f336cd48137016cd709a9583f3d\",\"toleranceCalculationMethod\":\"ARREARS_TOLERANCE_PERIOD\",\"dateCalculationMethod\":\"DATE_ACCOUNT_FIRST_WENT_TO_ARREARS\",\"nonWorkingDaysMethod\":\"EXCLUDED\"},\"paymentPlan\":[],\"interestRoundingVersion\":\"VERSION_2\",\"prepaymentRecalculationMethod\":\"NO_RECALCULATION\",\"principalPaidInstallmentStatus\":\"PARTIALLY_PAID\",\"latePaymentsRecalculationMethod\":\"INCREASE_OVERDUE_INSTALLMENTS\",\"applyInterestOnPrepaymentMethod\":\"AUTOMATIC\",\"allowOffset\":false,\"accrueLateInterest\":true,\"holdBalance\":\"0\"}\n",
      "{\"encodedKey\":\"8a818f336cd48137016cd709a9583f3a\",\"id\":\"RQNY670\",\"accountHolderType\":\"CLIENT\",\"accountHolderKey\":\"8a818e4f6cd67373016cd6fb4820089d\",\"creationDate\":\"2019-08-28T09:06:18+02:00\",\"approvedDate\":\"2019-08-28T09:06:20+02:00\",\"lastModifiedDate\":\"2019-08-28T09:06:20+02:00\",\"accountState\":\"APPROVED\",\"productTypeKey\":\"8a818f5f6cbe6621016cbf627bbc5af4\",\"creditArrangementKey\":\"8a818e6d6cd6b347016cd6eacda3022e\",\"loanName\":\"Instalment Loan\",\"loanAmount\":2000.0000000000,\"paymentMethod\":\"HORIZONTAL\",\"assignedBranchKey\":\"8a818f156ccf5fb1016cd2e8e4532b09\",\"accruedInterest\":0E-10,\"interestFromArrearsAccrued\":0E-10,\"allowOffset\":false,\"arrearsTolerancePeriod\":0,\"accountArrearsSettings\":{\"encodedKey\":\"8a818f336cd48137016cd709a9583f3d\",\"toleranceCalculationMethod\":\"ARREARS_TOLERANCE_PERIOD\",\"dateCalculationMethod\":\"ACCOUNT_FIRST_WENT_TO_ARREARS\",\"nonWorkingDaysMethod\":\"EXCLUDED\",\"tolerancePeriod\":0},\"latePaymentsRecalculationMethod\":\"OVERDUE_INSTALLMENTS_INCREASE\",\"balances\":{\"redrawBalance\":0E-10,\"principalDue\":0E-10,\"principalPaid\":0E-10,\"principalBalance\":0E-10,\"interestDue\":0E-10,\"interestPaid\":0E-10,\"interestBalance\":0E-10,\"interestFromArrearsBalance\":0E-10,\"interestFromArrearsDue\":0E-10,\"interestFromArrearsPaid\":0E-10,\"feesDue\":0E-10,\"feesPaid\":0E-10,\"feesBalance\":0E-10,\"penaltyDue\":0E-10,\"penaltyPaid\":0E-10,\"penaltyBalance\":0E-10,\"holdBalance\":0E-10},\"disbursementDetails\":{\"encodedKey\":\"8a818f336cd48137016cd709a9583f3b\",\"transactionDetails\":{\"encodedKey\":\"8a818f336cd48137016cd709a9583f3c\",\"transactionChannelKey\":\"8a818e74677a2e9201677ec2b4c336a6\",\"internalTransfer\":false},\"fees\":[]},\"prepaymentSettings\":{\"prepaymentRecalculationMethod\":\"NO_RECALCULATION\",\"principalPaidInstallmentStatus\":\"PARTIALLY_PAID\",\"applyInterestOnPrepaymentMethod\":\"AUTOMATIC\"},\"penaltySettings\":{\"loanPenaltyCalculationMethod\":\"NONE\"},\"scheduleSettings\":{\"hasCustomSchedule\":false,\"principalRepaymentInterval\":1,\"gracePeriod\":0,\"gracePeriodType\":\"NONE\",\"repaymentInstallments\":12,\"repaymentPeriodCount\":1,\"scheduleDueDatesMethod\":\"INTERVAL\",\"periodicPayment\":0E-10,\"repaymentPeriodUnit\":\"MONTHS\",\"repaymentScheduleMethod\":\"DYNAMIC\"},\"interestSettings\":{\"interestRateReviewCount\":31,\"interestRateReviewUnit\":\"DAYS\",\"interestRateSource\":\"INDEX_INTEREST_RATE\",\"accrueInterestAfterMaturity\":false,\"interestApplicationMethod\":\"REPAYMENT_DUE_DATE\",\"interestBalanceCalculationMethod\":\"ONLY_PRINCIPAL\",\"interestCalculationMethod\":\"DECLINING_BALANCE_DISCOUNTED\",\"interestChargeFrequency\":\"ANNUALIZED\",\"interestSpread\":0E-10,\"interestRate\":24.90000000000000000000,\"interestType\":\"SIMPLE_INTEREST\",\"accrueLateInterest\":true},\"futurePaymentsAcceptance\":\"NO_FUTURE_PAYMENTS\"}\n",
      "***FINISHED\n",
      "RQNY670\n"
     ]
    }
   ],
   "source": [
    "createInstalmentLoan(2000)"
   ]
  },
  {
   "cell_type": "code",
   "execution_count": null,
   "metadata": {},
   "outputs": [],
   "source": [
    "{\n",
    "    \"accountArrearsSettings\": {\n",
    "        \"dateCalculationMethod\": \"ACCOUNT_FIRST_WENT_TO_ARREARS\",\n",
    "        \"encodedKey\": \"8a818f9c6cd48156016cd703677d3d81\",\n",
    "        \"nonWorkingDaysMethod\": \"EXCLUDED\",\n",
    "        \"toleranceCalculationMethod\": \"ARREARS_TOLERANCE_PERIOD\",\n",
    "        \"tolerancePeriod\": 0\n",
    "    },\n",
    "    \"accountHolderKey\": \"8a818e4f6cd67373016cd6fb4820089d\",\n",
    "    \"accountHolderType\": \"CLIENT\",\n",
    "    \"accountState\": \"PENDING_APPROVAL\",\n",
    "    \"accruedInterest\": 0.0,\n",
    "    \"accruedPenalty\": 0.0,\n",
    "    \"allowOffset\": false,\n",
    "    \"arrearsTolerancePeriod\": 0,\n",
    "    \"assets\": [],\n",
    "    \"assignedBranchKey\": \"8a818f156ccf5fb1016cd2e8e4532b09\",\n",
    "    \"balances\": {\n",
    "        \"feesBalance\": 0.0,\n",
    "        \"feesDue\": 0.0,\n",
    "        \"feesPaid\": 0.0,\n",
    "        \"holdBalance\": 0.0,\n",
    "        \"interestBalance\": 0.0,\n",
    "        \"interestDue\": 0.0,\n",
    "        \"interestFromArrearsBalance\": 0.0,\n",
    "        \"interestFromArrearsDue\": 0.0,\n",
    "        \"interestFromArrearsPaid\": 0.0,\n",
    "        \"interestPaid\": 0.0,\n",
    "        \"penaltyBalance\": 0.0,\n",
    "        \"penaltyDue\": 0.0,\n",
    "        \"penaltyPaid\": 0.0,\n",
    "        \"principalBalance\": 0.0,\n",
    "        \"principalDue\": 0.0,\n",
    "        \"principalPaid\": 0.0,\n",
    "        \"redrawBalance\": 0.0\n",
    "    },\n",
    "    \"creationDate\": \"2019-08-28T08:57:00+02:00\",\n",
    "    \"disbursementDetails\": {\n",
    "        \"encodedKey\": \"8a818f9c6cd48156016cd70205e23d52\",\n",
    "        \"fees\": [],\n",
    "        \"transactionDetails\": {\n",
    "            \"encodedKey\": \"8a818f9c6cd48156016cd70205e23d53\",\n",
    "            \"internalTransfer\": false,\n",
    "            \"transactionChannelId\": \"cash\",\n",
    "            \"transactionChannelKey\": \"8a818e74677a2e9201677ec2b4c336a6\"\n",
    "        }\n",
    "    },\n",
    "    \"encodedKey\": \"8a818f9c6cd48156016cd70205e23d51\",\n",
    "    \"fundingSources\": [],\n",
    "    \"futurePaymentsAcceptance\": \"NO_FUTURE_PAYMENTS\",\n",
    "    \"guarantors\": [],\n",
    "    \"id\": \"RWJI239\",\n",
    "    \"interestFromArrearsAccrued\": 0.0,\n",
    "    \"interestSettings\": {\n",
    "        \"accrueInterestAfterMaturity\": false,\n",
    "        \"accrueLateInterest\": true,\n",
    "        \"interestApplicationMethod\": \"REPAYMENT_DUE_DATE\",\n",
    "        \"interestBalanceCalculationMethod\": \"ONLY_PRINCIPAL\",\n",
    "        \"interestCalculationMethod\": \"DECLINING_BALANCE\",\n",
    "        \"interestChargeFrequency\": \"ANNUALIZED\",\n",
    "        \"interestRate\": 5.0,\n",
    "        \"interestRateSource\": \"FIXED_INTEREST_RATE\",\n",
    "        \"interestType\": \"SIMPLE_INTEREST\"\n",
    "    },\n",
    "    \"lastModifiedDate\": \"2019-08-28T08:57:00+02:00\",\n",
    "    \"latePaymentsRecalculationMethod\": \"OVERDUE_INSTALLMENTS_INCREASE\",\n",
    "    \"loanAmount\": 3000.0,\n",
    "    \"loanName\": \"Credit Card - Merchant Promotion \",\n",
    "    \"paymentMethod\": \"HORIZONTAL\",\n",
    "    \"penaltySettings\": {\n",
    "        \"loanPenaltyCalculationMethod\": \"NONE\"\n",
    "    },\n",
    "    \"prepaymentSettings\": {\n",
    "        \"applyInterestOnPrepaymentMethod\": \"AUTOMATIC\",\n",
    "        \"prepaymentRecalculationMethod\": \"NO_RECALCULATION\",\n",
    "        \"principalPaidInstallmentStatus\": \"PARTIALLY_PAID\"\n",
    "    },\n",
    "    \"productTypeKey\": \"8a818f5f6cbe6621016cbf4b45be568b\",\n",
    "    \"scheduleSettings\": {\n",
    "        \"fixedDaysOfMonth\": [\n",
    "            1\n",
    "        ],\n",
    "        \"gracePeriod\": 6,\n",
    "        \"gracePeriodType\": \"INTEREST_FORGIVENESS\",\n",
    "        \"hasCustomSchedule\": false,\n",
    "        \"paymentPlan\": [],\n",
    "        \"periodicPayment\": 0.0,\n",
    "        \"principalRepaymentInterval\": 1,\n",
    "        \"repaymentInstallments\": 12,\n",
    "        \"repaymentPeriodCount\": 0,\n",
    "        \"repaymentPeriodUnit\": \"DAYS\",\n",
    "        \"repaymentScheduleMethod\": \"DYNAMIC\",\n",
    "        \"scheduleDueDatesMethod\": \"FIXED_DAYS_OF_MONTH\",\n",
    "        \"shortMonthHandlingMethod\": \"LAST_DAY_IN_MONTH\"\n",
    "    },\n",
    "    \"tranches\": []\n",
    "}"
   ]
  },
  {
   "cell_type": "markdown",
   "metadata": {},
   "source": [
    "<a id=\"section1\"></a>\n",
    "[back](#sectionx)\n",
    "## Add New Card Transaction"
   ]
  },
  {
   "cell_type": "code",
   "execution_count": 18,
   "metadata": {},
   "outputs": [
    {
     "name": "stdout",
     "output_type": "stream",
     "text": [
      "Overwriting NEWCARDTRANS\n"
     ]
    }
   ],
   "source": [
    "%%writefile NEWCARDTRANS\n",
    "{\n",
    "    \"Amount\": \"10\",\n",
    "    \"DebitCardAvailable\": \"1000\",\n",
    "    \"DebitCardOnly\": \"F\",\n",
    "    \"Merchant\": \"Starbucks\",\n",
    "    \"POSCreditTypeChoice\": \"0\",\n",
    "    \"PurchaseCategory\": \"Food+Drink\",\n",
    "    \"transactionID\": \"{{TranID}}\"\n",
    "}"
   ]
  },
  {
   "cell_type": "code",
   "execution_count": 204,
   "metadata": {},
   "outputs": [
    {
     "name": "stdout",
     "output_type": "stream",
     "text": [
      "API status: 200\n",
      "JSON Response:\n",
      "{\n",
      "    \"ops\": {\n",
      "        \"obj\": \"task\",\n",
      "        \"obj_id\": \"5d654f0a09a8af0fc8002b63\",\n",
      "        \"proc\": \"ok\",\n",
      "        \"ref\": null\n",
      "    },\n",
      "    \"request_proc\": \"ok\"\n",
      "}\n"
     ]
    }
   ],
   "source": [
    "PLACEHOLDERS = {\n",
    "    \"TranID\": getUUID()\n",
    "}\n",
    "HEADERS = {}\n",
    "PARAMS = {}\n",
    "r = POST('https://mpo-sandbox.mambucloud.com/api/1/json/public/18614/28388948acbf477da3d99dc3999e264ab745965a', \n",
    "         headers=HEADERS, params=PARAMS, body=\"NEWCARDTRANS\", bodyparts=PLACEHOLDERS)\n",
    "PRINT(r)"
   ]
  },
  {
   "cell_type": "markdown",
   "metadata": {},
   "source": [
    "## Miscellaneous\n"
   ]
  },
  {
   "cell_type": "code",
   "execution_count": 59,
   "metadata": {},
   "outputs": [
    {
     "name": "stdout",
     "output_type": "stream",
     "text": [
      "API status: 200\n",
      "JSON Response:\n",
      "[\n",
      "    {\n",
      "        \"_URepayOptions\": {\n",
      "            \"AutoRepayMethod\": \"Direct-Debit\",\n",
      "            \"PaymentDueDay\": \"1\",\n",
      "            \"ShortMonthOption\": \"late\"\n",
      "        },\n",
      "        \"amount\": 10000.0,\n",
      "        \"approvedDate\": \"2019-08-27T14:37:27+02:00\",\n",
      "        \"availableCreditAmount\": 10000.0,\n",
      "        \"consumedCreditAmount\": 0.0,\n",
      "        \"creationDate\": \"2019-08-27T14:37:27+02:00\",\n",
      "        \"encodedKey\": \"8a818f156ccf5fb1016cd2ef00482b47\",\n",
      "        \"expireDate\": \"2020-09-10T00:00:00+02:00\",\n",
      "        \"exposureLimitType\": \"APPROVED_AMOUNT\",\n",
      "        \"holderKey\": \"8a818faf6cd2dc01016cd30cd28702e4\",\n",
      "        \"holderType\": \"CLIENT\",\n",
      "        \"id\": \"HGO606\",\n",
      "        \"lastModifiedDate\": \"2019-08-27T14:37:27+02:00\",\n",
      "        \"notes\": \"\",\n",
      "        \"startDate\": \"2019-08-27T00:00:00+02:00\",\n",
      "        \"state\": \"APPROVED\"\n",
      "    },\n",
      "    {\n",
      "        \"amount\": 10000.0,\n",
      "        \"approvedDate\": \"2019-08-23T18:00:29+02:00\",\n",
      "        \"availableCreditAmount\": 10000.0,\n",
      "        \"consumedCreditAmount\": 0.0,\n",
      "        \"creationDate\": \"2019-08-23T18:00:29+02:00\",\n",
      "        \"encodedKey\": \"8a818f5f6cbe6621016cbf352ec55343\",\n",
      "        \"expireDate\": \"2020-08-23T00:00:00+02:00\",\n",
      "        \"exposureLimitType\": \"OUTSTANDING_AMOUNT\",\n",
      "        \"holderKey\": \"8a818f5f6cbe6621016cbf30b8095261\",\n",
      "        \"holderType\": \"CLIENT\",\n",
      "        \"id\": \"XNO057\",\n",
      "        \"lastModifiedDate\": \"2019-08-23T18:01:19+02:00\",\n",
      "        \"notes\": \"\",\n",
      "        \"startDate\": \"2019-08-23T00:00:00+02:00\",\n",
      "        \"state\": \"ACTIVE\"\n",
      "    }\n",
      "]\n"
     ]
    }
   ],
   "source": [
    "HEADERS = {'Accept': 'application/vnd.mambu.v2+json'}\n",
    "PARAMS = {'detailsLevel': 'FULL', 'paginationDetails': 'ON', 'limit': 10}\n",
    "r = GET('{{env4}}/creditarrangements', headers=HEADERS, params=PARAMS)\n",
    "PRINT(r)"
   ]
  },
  {
   "cell_type": "code",
   "execution_count": 412,
   "metadata": {},
   "outputs": [
    {
     "name": "stdout",
     "output_type": "stream",
     "text": [
      "API status: 200\n",
      "JSON Response:\n",
      "{\n",
      "    \"accountHolderKey\": \"8a818f766cd3015d016cd3d8ac605e28\",\n",
      "    \"accountHolderType\": \"CLIENT\",\n",
      "    \"accountState\": \"PENDING_APPROVAL\",\n",
      "    \"accountType\": \"CURRENT_ACCOUNT\",\n",
      "    \"accruedAmounts\": {\n",
      "        \"interestAccrued\": 0.0,\n",
      "        \"overdraftInterestAccrued\": 0.0,\n",
      "        \"technicalOverdraftInterestAccrued\": 0.0\n",
      "    },\n",
      "    \"assignedBranchKey\": \"8a818f156ccf5fb1016cd2e8e4532b09\",\n",
      "    \"balances\": {\n",
      "        \"availableBalance\": 0.0,\n",
      "        \"feesDue\": 0.0,\n",
      "        \"holdBalance\": 0.0,\n",
      "        \"lockedBalance\": 0.0,\n",
      "        \"overdraftAmount\": 0.0,\n",
      "        \"overdraftInterestDue\": 0.0,\n",
      "        \"technicalOverdraftAmount\": 0.0,\n",
      "        \"technicalOverdraftInterestDue\": 0.0,\n",
      "        \"totalBalance\": 0\n",
      "    },\n",
      "    \"creationDate\": \"2019-08-28T08:39:07+02:00\",\n",
      "    \"currencyCode\": \"EUR\",\n",
      "    \"encodedKey\": \"8a818f9c6cd48156016cd6ef16ec3c24\",\n",
      "    \"id\": \"ENLI028\",\n",
      "    \"interestSettings\": {\n",
      "        \"interestPaymentSettings\": {\n",
      "            \"interestPaymentDates\": []\n",
      "        }\n",
      "    },\n",
      "    \"internalControls\": {},\n",
      "    \"lastModifiedDate\": \"2019-08-28T08:39:07+02:00\",\n",
      "    \"name\": \"TEMP Card DDA\",\n",
      "    \"notes\": \"\",\n",
      "    \"overdraftInterestSettings\": {\n",
      "        \"interestRateSettings\": {\n",
      "            \"encodedKey\": \"8a818f9c6cd48156016cd6ef16ec3c25\",\n",
      "            \"interestChargeFrequency\": \"ANNUALIZED\",\n",
      "            \"interestChargeFrequencyCount\": 1,\n",
      "            \"interestRate\": 0.0,\n",
      "            \"interestRateSource\": \"FIXED_INTEREST_RATE\",\n",
      "            \"interestRateTerms\": \"FIXED\",\n",
      "            \"interestRateTiers\": []\n",
      "        }\n",
      "    },\n",
      "    \"overdraftSettings\": {\n",
      "        \"allowOverdraft\": true,\n",
      "        \"overdraftExpiryDate\": \"2020-05-02T00:00:00+02:00\",\n",
      "        \"overdraftLimit\": 0.0\n",
      "    },\n",
      "    \"productTypeKey\": \"8a818f5f6cbe6621016cbf7310ff6064\"\n",
      "}\n"
     ]
    }
   ],
   "source": [
    "HEADERS = {'Accept': 'application/vnd.mambu.v2+json'}\n",
    "# Parameters below set up pagination and only returns max 20\n",
    "PARAMS = {'detailsLevel': 'FULL', 'paginationDetails': 'ON','limit': 20}\n",
    "r = GET('{{env4}}/deposits/ENLI028', headers=HEADERS, params=PARAMS)\n",
    "PRINT(r)"
   ]
  },
  {
   "cell_type": "code",
   "execution_count": 425,
   "metadata": {},
   "outputs": [
    {
     "name": "stdout",
     "output_type": "stream",
     "text": [
      "API status: 200\n",
      "JSON Response:\n",
      "{\n",
      "    \"accountArrearsSettings\": {\n",
      "        \"dateCalculationMethod\": \"ACCOUNT_FIRST_WENT_TO_ARREARS\",\n",
      "        \"encodedKey\": \"8a818f9c6cd48156016cd703677d3d81\",\n",
      "        \"nonWorkingDaysMethod\": \"EXCLUDED\",\n",
      "        \"toleranceCalculationMethod\": \"ARREARS_TOLERANCE_PERIOD\",\n",
      "        \"tolerancePeriod\": 0\n",
      "    },\n",
      "    \"accountHolderKey\": \"8a818e4f6cd67373016cd6fb4820089d\",\n",
      "    \"accountHolderType\": \"CLIENT\",\n",
      "    \"accountState\": \"PENDING_APPROVAL\",\n",
      "    \"accruedInterest\": 0.0,\n",
      "    \"accruedPenalty\": 0.0,\n",
      "    \"allowOffset\": false,\n",
      "    \"arrearsTolerancePeriod\": 0,\n",
      "    \"assets\": [],\n",
      "    \"assignedBranchKey\": \"8a818f156ccf5fb1016cd2e8e4532b09\",\n",
      "    \"balances\": {\n",
      "        \"feesBalance\": 0.0,\n",
      "        \"feesDue\": 0.0,\n",
      "        \"feesPaid\": 0.0,\n",
      "        \"holdBalance\": 0.0,\n",
      "        \"interestBalance\": 0.0,\n",
      "        \"interestDue\": 0.0,\n",
      "        \"interestFromArrearsBalance\": 0.0,\n",
      "        \"interestFromArrearsDue\": 0.0,\n",
      "        \"interestFromArrearsPaid\": 0.0,\n",
      "        \"interestPaid\": 0.0,\n",
      "        \"penaltyBalance\": 0.0,\n",
      "        \"penaltyDue\": 0.0,\n",
      "        \"penaltyPaid\": 0.0,\n",
      "        \"principalBalance\": 0.0,\n",
      "        \"principalDue\": 0.0,\n",
      "        \"principalPaid\": 0.0,\n",
      "        \"redrawBalance\": 0.0\n",
      "    },\n",
      "    \"creationDate\": \"2019-08-28T08:57:00+02:00\",\n",
      "    \"disbursementDetails\": {\n",
      "        \"encodedKey\": \"8a818f9c6cd48156016cd70205e23d52\",\n",
      "        \"fees\": [],\n",
      "        \"transactionDetails\": {\n",
      "            \"encodedKey\": \"8a818f9c6cd48156016cd70205e23d53\",\n",
      "            \"internalTransfer\": false,\n",
      "            \"transactionChannelId\": \"cash\",\n",
      "            \"transactionChannelKey\": \"8a818e74677a2e9201677ec2b4c336a6\"\n",
      "        }\n",
      "    },\n",
      "    \"encodedKey\": \"8a818f9c6cd48156016cd70205e23d51\",\n",
      "    \"fundingSources\": [],\n",
      "    \"futurePaymentsAcceptance\": \"NO_FUTURE_PAYMENTS\",\n",
      "    \"guarantors\": [],\n",
      "    \"id\": \"RWJI239\",\n",
      "    \"interestFromArrearsAccrued\": 0.0,\n",
      "    \"interestSettings\": {\n",
      "        \"accrueInterestAfterMaturity\": false,\n",
      "        \"accrueLateInterest\": true,\n",
      "        \"interestApplicationMethod\": \"REPAYMENT_DUE_DATE\",\n",
      "        \"interestBalanceCalculationMethod\": \"ONLY_PRINCIPAL\",\n",
      "        \"interestCalculationMethod\": \"DECLINING_BALANCE\",\n",
      "        \"interestChargeFrequency\": \"ANNUALIZED\",\n",
      "        \"interestRate\": 5.0,\n",
      "        \"interestRateSource\": \"FIXED_INTEREST_RATE\",\n",
      "        \"interestType\": \"SIMPLE_INTEREST\"\n",
      "    },\n",
      "    \"lastModifiedDate\": \"2019-08-28T08:57:00+02:00\",\n",
      "    \"latePaymentsRecalculationMethod\": \"OVERDUE_INSTALLMENTS_INCREASE\",\n",
      "    \"loanAmount\": 3000.0,\n",
      "    \"loanName\": \"Credit Card - Merchant Promotion \",\n",
      "    \"paymentMethod\": \"HORIZONTAL\",\n",
      "    \"penaltySettings\": {\n",
      "        \"loanPenaltyCalculationMethod\": \"NONE\"\n",
      "    },\n",
      "    \"prepaymentSettings\": {\n",
      "        \"applyInterestOnPrepaymentMethod\": \"AUTOMATIC\",\n",
      "        \"prepaymentRecalculationMethod\": \"NO_RECALCULATION\",\n",
      "        \"principalPaidInstallmentStatus\": \"PARTIALLY_PAID\"\n",
      "    },\n",
      "    \"productTypeKey\": \"8a818f5f6cbe6621016cbf4b45be568b\",\n",
      "    \"scheduleSettings\": {\n",
      "        \"fixedDaysOfMonth\": [\n",
      "            1\n",
      "        ],\n",
      "        \"gracePeriod\": 6,\n",
      "        \"gracePeriodType\": \"INTEREST_FORGIVENESS\",\n",
      "        \"hasCustomSchedule\": false,\n",
      "        \"paymentPlan\": [],\n",
      "        \"periodicPayment\": 0.0,\n",
      "        \"principalRepaymentInterval\": 1,\n",
      "        \"repaymentInstallments\": 12,\n",
      "        \"repaymentPeriodCount\": 0,\n",
      "        \"repaymentPeriodUnit\": \"DAYS\",\n",
      "        \"repaymentScheduleMethod\": \"DYNAMIC\",\n",
      "        \"scheduleDueDatesMethod\": \"FIXED_DAYS_OF_MONTH\",\n",
      "        \"shortMonthHandlingMethod\": \"LAST_DAY_IN_MONTH\"\n",
      "    },\n",
      "    \"tranches\": []\n",
      "}\n"
     ]
    }
   ],
   "source": [
    "\n",
    "HEADERS = {'Accept': 'application/vnd.mambu.v2+json'}\n",
    "# Parameters below set up pagination and only returns max 20\n",
    "PARAMS = {'detailsLevel': 'FULL', 'paginationDetails': 'ON','limit': 20}\n",
    "r = GET('{{env4}}/loans/RWJI239', headers=HEADERS, params=PARAMS)\n",
    "PRINT(r)"
   ]
  },
  {
   "cell_type": "markdown",
   "metadata": {},
   "source": [
    "<a id=\"section3\"></a>\n",
    "[back](#sectionx)\n",
    "## Get customer Accounts"
   ]
  },
  {
   "cell_type": "code",
   "execution_count": 19,
   "metadata": {},
   "outputs": [
    {
     "name": "stdout",
     "output_type": "stream",
     "text": [
      "Overwriting LOANSEARCH\n"
     ]
    }
   ],
   "source": [
    "%%writefile LOANSEARCH\n",
    "{\n",
    "  \"filterConstraints\":[\n",
    "      {\n",
    "        \"filterSelection\":\"ACCOUNT_HOLDER_KEY\",\n",
    "        \"filterElement\":\"EQUALS\",\n",
    "        \"value\":\"{{CustomerID}}\"\n",
    "      },\n",
    "      {\n",
    "        \"filterSelection\":\"PRODUCT_KEY\",\n",
    "        \"filterElement\":\"EQUALS\",\n",
    "        \"value\":\"{{ProductKey}}\"\n",
    "      }\n",
    "   ]\n",
    "}"
   ]
  },
  {
   "cell_type": "code",
   "execution_count": 20,
   "metadata": {},
   "outputs": [],
   "source": [
    "def getCustomerAccount(accTy, productKey):\n",
    "    if accTy == \"loan\":\n",
    "        apiStr = '{{env4}}/loans/search'\n",
    "    else:\n",
    "        apiStr = '{{env4}}/savings/search'\n",
    "    PLACEHOLDERS = {\n",
    "            \"CustomerID\": newCustomerID,\n",
    "            \"ProductKey\": productKey\n",
    "        }\n",
    "    HEADERS = {'Content-Type': 'application/json'}\n",
    "    # Parameters below set up pagination and only returns max 20\n",
    "    PARAMS = {}\n",
    "    r = POST(apiStr, headers=HEADERS, params=PARAMS, body=\"LOANSEARCH\", bodyparts=PLACEHOLDERS)\n",
    "    resList = r.json()\n",
    "    for resItem in resList:\n",
    "        print(resItem[\"id\"])\n",
    "        print(resItem[\"accountHolderKey\"])\n",
    "        return resItem[\"id\"]"
   ]
  },
  {
   "cell_type": "code",
   "execution_count": 21,
   "metadata": {},
   "outputs": [],
   "source": [
    "def getCreditLine():\n",
    "    HEADERS = {'Content-Type': 'application/json'}\n",
    "    HEADERS = {}\n",
    "    # Parameters below set up pagination and only returns max 20\n",
    "    PARAMS = {}\n",
    "    r = GET('{{env4}}'+'/clients/{0}/linesofcredit'.format(custShortID), headers=HEADERS, params=PARAMS)\n",
    "    resList = r.json()\n",
    "    for resItem in resList:\n",
    "        print(resItem[\"id\"])\n",
    "        return resItem[\"id\"]"
   ]
  },
  {
   "cell_type": "code",
   "execution_count": 461,
   "metadata": {},
   "outputs": [],
   "source": [
    "# custShortID = 339063539\n",
    "custShortID = \"8a818e4f6cd67373016cd6fb4820089d\""
   ]
  },
  {
   "cell_type": "code",
   "execution_count": 463,
   "metadata": {},
   "outputs": [
    {
     "name": "stdout",
     "output_type": "stream",
     "text": [
      "KVL288\n"
     ]
    },
    {
     "data": {
      "text/plain": [
       "'KVL288'"
      ]
     },
     "execution_count": 463,
     "metadata": {},
     "output_type": "execute_result"
    }
   ],
   "source": [
    "getCreditLine()\n"
   ]
  },
  {
   "cell_type": "code",
   "execution_count": 351,
   "metadata": {},
   "outputs": [
    {
     "data": {
      "text/plain": [
       "'{{env4}}//clients/8a818efc6cd4813e016cd4ab3f3600b9/linesofcredit?fullDetails=true'"
      ]
     },
     "execution_count": 351,
     "metadata": {},
     "output_type": "execute_result"
    }
   ],
   "source": [
    "'{{env4}}'+'//clients/{0}/linesofcredit?fullDetails=true'.format(newCustomerID)"
   ]
  },
  {
   "cell_type": "code",
   "execution_count": 309,
   "metadata": {},
   "outputs": [
    {
     "name": "stdout",
     "output_type": "stream",
     "text": [
      "CC Purchases Account\n",
      "GNNW982\n",
      "8a818f766cd3015d016cd3d8ac605e28\n",
      "CC Cash Account\n",
      "AUIN516\n",
      "8a818f766cd3015d016cd3d8ac605e28\n",
      "Current Account (with overdraft)\n",
      "YMLH036\n",
      "8a818f766cd3015d016cd3d8ac605e28\n"
     ]
    },
    {
     "data": {
      "text/plain": [
       "'YMLH036'"
      ]
     },
     "execution_count": 309,
     "metadata": {},
     "output_type": "execute_result"
    }
   ],
   "source": [
    "# CC Purchases Account\n",
    "print(\"CC Purchases Account\")\n",
    "getCustomerAccount(\"loan\",\"8a818f5f6cbe6621016cbf6d66075e54\")\n",
    "\n",
    "print(\"CC Cash Account\")\n",
    "getCustomerAccount(\"loan\", \"8a818f5f6cbe6621016cbf3cf8675424\")\n",
    "\n",
    "print(\"Current Account (with overdraft)\")\n",
    "getCustomerAccount(\"deposit\", \"8a818f5f6cbe6621016cbf4f2db95756\")\n"
   ]
  },
  {
   "cell_type": "code",
   "execution_count": 279,
   "metadata": {},
   "outputs": [
    {
     "name": "stdout",
     "output_type": "stream",
     "text": [
      "8a818f766cd3015d016cd3d8ac605e28\n"
     ]
    }
   ],
   "source": [
    "print(newCustomerID)"
   ]
  },
  {
   "cell_type": "markdown",
   "metadata": {},
   "source": [
    "<a id=\"section4\"></a>\n",
    "[back](#sectionx)\n",
    "## Disburse Loan"
   ]
  },
  {
   "cell_type": "code",
   "execution_count": 22,
   "metadata": {},
   "outputs": [
    {
     "name": "stdout",
     "output_type": "stream",
     "text": [
      "Overwriting DISBURSELOAN\n"
     ]
    }
   ],
   "source": [
    "%%writefile DISBURSELOAN\n",
    "{\n",
    "  \"type\": \"DISBURSEMENT\",\n",
    "  \"amount\": {{Amount}},\n",
    "  \"transactionChannelKey\": \"8a818f9c6cd48156016cd71cc9874322\"\n",
    "}"
   ]
  },
  {
   "cell_type": "code",
   "execution_count": 23,
   "metadata": {},
   "outputs": [],
   "source": [
    "def disburseLoan(loanID, amount):\n",
    "    \n",
    "    PLACEHOLDERS = {\n",
    "            \"CustomerID\": newCustomerID,\n",
    "            \"Amount\": amount\n",
    "        }\n",
    "    HEADERS = {'Content-Type': 'application/json'}\n",
    "    # Parameters below set up pagination and only returns max 20\n",
    "    PARAMS = {}\n",
    "    r = POST('{{env4}}'+'/loans/{0}/transactions'.format(loanID), headers=HEADERS, params=PARAMS, body=\"DISBURSELOAN\", bodyparts=PLACEHOLDERS)\n",
    "    PRINT(r)\n",
    "    print(\"***FINISH***\")\n",
    "    tranID = r.json()[\"transactionId\"]\n",
    "    print(tranID)\n",
    "    #resList = r.json()\n",
    "    #for resItem in resList:\n",
    "    #    print(resItem[\"id\"])\n",
    "    #    print(resItem[\"accountHolderKey\"])\n",
    "    #    return resItem[\"id\"]"
   ]
  },
  {
   "cell_type": "code",
   "execution_count": 453,
   "metadata": {},
   "outputs": [
    {
     "name": "stdout",
     "output_type": "stream",
     "text": [
      "API status: 201\n",
      "JSON Response:\n",
      "{\n",
      "    \"advancePosition\": \"0\",\n",
      "    \"amount\": \"55\",\n",
      "    \"arrearsPosition\": \"0\",\n",
      "    \"balance\": \"779\",\n",
      "    \"bookingDate\": \"2019-08-28T09:32:24+0000\",\n",
      "    \"branchKey\": \"8a818f156ccf5fb1016cd2e8e4532b09\",\n",
      "    \"creationDate\": \"2019-08-28T07:32:25+0000\",\n",
      "    \"deferredInterestAmount\": \"0\",\n",
      "    \"deferredTaxOnInterestAmount\": \"0\",\n",
      "    \"details\": {\n",
      "        \"encodedKey\": \"8a818e4f6cd67373016cd70befba0b65\",\n",
      "        \"internalTransfer\": false,\n",
      "        \"transactionChannel\": {\n",
      "            \"activated\": true,\n",
      "            \"creationDate\": \"2018-12-05T15:25:49+0000\",\n",
      "            \"encodedKey\": \"8a818e74677a2e9201677ec2b4c336a6\",\n",
      "            \"id\": \"cash\",\n",
      "            \"index\": 0,\n",
      "            \"name\": \"Cash\",\n",
      "            \"savingsConstraints\": {\n",
      "                \"encodedKey\": \"8a818e74677a2e9201677ec2b4c336a8\",\n",
      "                \"filterConstraints\": []\n",
      "            },\n",
      "            \"savingsConstraintsUsage\": \"UNCONSTRAINED_USAGE\",\n",
      "            \"usageRights\": {\n",
      "                \"encodedKey\": \"8a818e74677a2e9201677ec2b4c336a7\",\n",
      "                \"isAccessibleByAllUsers\": true,\n",
      "                \"roles\": []\n",
      "            }\n",
      "        },\n",
      "        \"transactionChannelKey\": \"8a818e74677a2e9201677ec2b4c336a6\"\n",
      "    },\n",
      "    \"encodedKey\": \"8a818e4f6cd67373016cd70befba0b64\",\n",
      "    \"entryDate\": \"2019-08-28T09:32:24+0000\",\n",
      "    \"expectedPrincipalRedraw\": \"0\",\n",
      "    \"feesPaid\": \"0\",\n",
      "    \"fundersInterestAmount\": \"0\",\n",
      "    \"indexInterestRate\": {\n",
      "        \"encodedKey\": \"8a818f5f6cbe6621016cbf6906835c9d\",\n",
      "        \"notes\": \"\",\n",
      "        \"rate\": \"24.9\",\n",
      "        \"rateSource\": {\n",
      "            \"encodedKey\": \"8a818f5f6cbe6621016cbf6906835c9c\",\n",
      "            \"name\": \"Tandem Standard Rate\",\n",
      "            \"notes\": \"Interest Rate charged on all credit facilities\",\n",
      "            \"type\": \"INTEREST_RATE\"\n",
      "        },\n",
      "        \"startDate\": \"2019-08-23T00:00:00+0000\",\n",
      "        \"userKey\": \"8a818e74677a2e9201677ec2ac0a3696\"\n",
      "    },\n",
      "    \"interestFromArrearsAmount\": \"0\",\n",
      "    \"interestPaid\": \"0\",\n",
      "    \"loanPredefinedFeeAmounts\": [],\n",
      "    \"organizationCommissionAmount\": \"0\",\n",
      "    \"parentAccountKey\": \"8a818f996cd66cd0016cd6fb85e10b56\",\n",
      "    \"penaltyPaid\": \"0\",\n",
      "    \"principalBalance\": \"779\",\n",
      "    \"principalPaid\": \"55\",\n",
      "    \"productTypeKey\": \"8a818f5f6cbe6621016cbf6d66075e54\",\n",
      "    \"redrawBalance\": \"0\",\n",
      "    \"taxOnFeesAmount\": \"0\",\n",
      "    \"taxOnInterestFromArrearsAmount\": \"0\",\n",
      "    \"taxOnInterestPaid\": \"0\",\n",
      "    \"taxOnPenaltyAmount\": \"0\",\n",
      "    \"transactionId\": 530,\n",
      "    \"type\": \"DISBURSMENT\",\n",
      "    \"userKey\": \"8a818efe6ccdd7d3016cce22da960bbe\",\n",
      "    \"valueDate\": \"2019-08-28T09:32:24+0000\"\n",
      "}\n",
      "***FINISH***\n",
      "530\n"
     ]
    }
   ],
   "source": [
    "disburseLoan(\"HHAE369\", 55)"
   ]
  },
  {
   "cell_type": "code",
   "execution_count": 24,
   "metadata": {},
   "outputs": [
    {
     "name": "stdout",
     "output_type": "stream",
     "text": [
      "Writing PATCHLOANCUSTOMFIELD\n"
     ]
    }
   ],
   "source": [
    "%%writefile PATCHLOANCUSTOMFIELD\n",
    "{\n",
    "  \"value\": \"{{Value}}\"\n",
    "}"
   ]
  },
  {
   "cell_type": "code",
   "execution_count": 25,
   "metadata": {},
   "outputs": [],
   "source": [
    "def patchLoanCF(loanID, transID, field, val):\n",
    "    \n",
    "    PLACEHOLDERS = {\n",
    "            \"Value\": val\n",
    "        }\n",
    "    HEADERS = {'Content-Type': 'application/json'}\n",
    "    # Parameters below set up pagination and only returns max 20\n",
    "    PARAMS = {}\n",
    "    r = PATCH('{{env4}}'+'/loans/{0}/transactions/{1}/custominformation/{3}'.format(loanID, transID, field), headers=HEADERS, params=PARAMS, body=\"PATCHLOANCUSTOMFIELD\", bodyparts=PLACEHOLDERS)\n",
    "    PRINT(r)"
   ]
  },
  {
   "cell_type": "code",
   "execution_count": null,
   "metadata": {},
   "outputs": [],
   "source": [
    "patchLoanCF(\"HHAE369\",528)"
   ]
  },
  {
   "cell_type": "code",
   "execution_count": 450,
   "metadata": {},
   "outputs": [
    {
     "name": "stdout",
     "output_type": "stream",
     "text": [
      "API status: 200\n",
      "JSON Response:\n",
      "[\n",
      "    {\n",
      "        \"advancePosition\": \"0\",\n",
      "        \"amount\": \"654\",\n",
      "        \"arrearsPosition\": \"0\",\n",
      "        \"balance\": \"724\",\n",
      "        \"bookingDate\": \"2019-08-28T09:27:57+0000\",\n",
      "        \"branchKey\": \"8a818f156ccf5fb1016cd2e8e4532b09\",\n",
      "        \"comment\": \"\",\n",
      "        \"creationDate\": \"2019-08-28T07:27:58+0000\",\n",
      "        \"customInformation\": [\n",
      "            {\n",
      "                \"customField\": {\n",
      "                    \"amounts\": {},\n",
      "                    \"creationDate\": \"2019-08-28T07:24:17+0000\",\n",
      "                    \"customFieldSelectionOptions\": [],\n",
      "                    \"customFieldSet\": {\n",
      "                        \"createdDate\": \"2019-08-28T07:22:59+0000\",\n",
      "                        \"encodedKey\": \"8a818f9c6cd48156016cd70368ef3d92\",\n",
      "                        \"id\": \"_CardTransaction\",\n",
      "                        \"indexInList\": 2,\n",
      "                        \"lastModifiedDate\": \"2019-08-28T07:22:59+0000\",\n",
      "                        \"name\": \"CardTransaction\",\n",
      "                        \"notes\": \"\",\n",
      "                        \"type\": \"TRANSACTION_CHANNEL_INFO\",\n",
      "                        \"usage\": \"SINGLE\"\n",
      "                    },\n",
      "                    \"dataType\": \"STRING\",\n",
      "                    \"description\": \"\",\n",
      "                    \"editRights\": {\n",
      "                        \"encodedKey\": \"8a818f9c6cd48156016cd71c620242f9\",\n",
      "                        \"isAccessibleByAllUsers\": false,\n",
      "                        \"roles\": []\n",
      "                    },\n",
      "                    \"encodedKey\": \"8a818f9c6cd48156016cd70368ef3d93\",\n",
      "                    \"id\": \"Merchant\",\n",
      "                    \"indexInList\": 8,\n",
      "                    \"isDefault\": false,\n",
      "                    \"isRequired\": false,\n",
      "                    \"lastModifiedDate\": \"2019-08-28T07:26:17+0000\",\n",
      "                    \"name\": \"Merchant\",\n",
      "                    \"state\": \"NORMAL\",\n",
      "                    \"type\": \"TRANSACTION_CHANNEL_INFO\",\n",
      "                    \"unique\": false,\n",
      "                    \"valueLength\": \"SHORT\",\n",
      "                    \"values\": [],\n",
      "                    \"viewRights\": {\n",
      "                        \"encodedKey\": \"8a818f9c6cd48156016cd70368ef3d94\",\n",
      "                        \"isAccessibleByAllUsers\": false,\n",
      "                        \"roles\": []\n",
      "                    }\n",
      "                },\n",
      "                \"customFieldID\": \"Merchant\",\n",
      "                \"customFieldKey\": \"8a818f9c6cd48156016cd70368ef3d93\",\n",
      "                \"customFieldSetGroupIndex\": -1,\n",
      "                \"encodedKey\": \"8a818f9c6cd48156016cd71fc0b743be\",\n",
      "                \"indexInList\": -1,\n",
      "                \"parentKey\": \"8a818f9c6cd48156016cd71e34e54378\",\n",
      "                \"value\": \"Costa\"\n",
      "            },\n",
      "            {\n",
      "                \"customField\": {\n",
      "                    \"amounts\": {},\n",
      "                    \"creationDate\": \"2019-08-28T07:24:44+0000\",\n",
      "                    \"customFieldSelectionOptions\": [],\n",
      "                    \"customFieldSet\": {\n",
      "                        \"createdDate\": \"2019-08-28T07:22:59+0000\",\n",
      "                        \"encodedKey\": \"8a818f9c6cd48156016cd70368ef3d92\",\n",
      "                        \"id\": \"_CardTransaction\",\n",
      "                        \"indexInList\": 2,\n",
      "                        \"lastModifiedDate\": \"2019-08-28T07:22:59+0000\",\n",
      "                        \"name\": \"CardTransaction\",\n",
      "                        \"notes\": \"\",\n",
      "                        \"type\": \"TRANSACTION_CHANNEL_INFO\",\n",
      "                        \"usage\": \"SINGLE\"\n",
      "                    },\n",
      "                    \"dataType\": \"STRING\",\n",
      "                    \"description\": \"\",\n",
      "                    \"editRights\": {\n",
      "                        \"encodedKey\": \"8a818f9c6cd48156016cd71c620e4302\",\n",
      "                        \"isAccessibleByAllUsers\": false,\n",
      "                        \"roles\": []\n",
      "                    },\n",
      "                    \"encodedKey\": \"8a818f9c6cd48156016cd71c620e4300\",\n",
      "                    \"id\": \"PurchaseCategory\",\n",
      "                    \"indexInList\": 9,\n",
      "                    \"isDefault\": false,\n",
      "                    \"isRequired\": false,\n",
      "                    \"lastModifiedDate\": \"2019-08-28T07:26:28+0000\",\n",
      "                    \"name\": \"Purchase Category\",\n",
      "                    \"state\": \"NORMAL\",\n",
      "                    \"type\": \"TRANSACTION_CHANNEL_INFO\",\n",
      "                    \"unique\": false,\n",
      "                    \"valueLength\": \"SHORT\",\n",
      "                    \"values\": [],\n",
      "                    \"viewRights\": {\n",
      "                        \"encodedKey\": \"8a818f9c6cd48156016cd71c620e4301\",\n",
      "                        \"isAccessibleByAllUsers\": false,\n",
      "                        \"roles\": []\n",
      "                    }\n",
      "                },\n",
      "                \"customFieldID\": \"PurchaseCategory\",\n",
      "                \"customFieldKey\": \"8a818f9c6cd48156016cd71c620e4300\",\n",
      "                \"customFieldSetGroupIndex\": -1,\n",
      "                \"encodedKey\": \"8a818f9c6cd48156016cd71fc0b743bf\",\n",
      "                \"indexInList\": -1,\n",
      "                \"parentKey\": \"8a818f9c6cd48156016cd71e34e54378\",\n",
      "                \"value\": \"Food+Drink\"\n",
      "            }\n",
      "        ],\n",
      "        \"deferredInterestAmount\": \"0\",\n",
      "        \"deferredTaxOnInterestAmount\": \"0\",\n",
      "        \"details\": {\n",
      "            \"encodedKey\": \"8a818f9c6cd48156016cd71e34e54379\",\n",
      "            \"internalTransfer\": false,\n",
      "            \"transactionChannel\": {\n",
      "                \"activated\": true,\n",
      "                \"createdByUserKey\": \"8a818e74677a2e9201677ec2ac0a3696\",\n",
      "                \"creationDate\": \"2019-08-28T07:25:50+0000\",\n",
      "                \"encodedKey\": \"8a818f9c6cd48156016cd71cc9874322\",\n",
      "                \"id\": \"CardTrans1\",\n",
      "                \"index\": 2147483647,\n",
      "                \"name\": \"Card Transaction\",\n",
      "                \"savingsConstraints\": {\n",
      "                    \"encodedKey\": \"8a818f9c6cd48156016cd71cc9874324\",\n",
      "                    \"filterConstraints\": []\n",
      "                },\n",
      "                \"savingsConstraintsUsage\": \"UNCONSTRAINED_USAGE\",\n",
      "                \"usageRights\": {\n",
      "                    \"encodedKey\": \"8a818f9c6cd48156016cd71cc9874323\",\n",
      "                    \"isAccessibleByAllUsers\": false,\n",
      "                    \"roles\": []\n",
      "                }\n",
      "            },\n",
      "            \"transactionChannelKey\": \"8a818f9c6cd48156016cd71cc9874322\"\n",
      "        },\n",
      "        \"encodedKey\": \"8a818f9c6cd48156016cd71e34e54378\",\n",
      "        \"entryDate\": \"2019-08-28T09:27:57+0000\",\n",
      "        \"expectedPrincipalRedraw\": \"0\",\n",
      "        \"feesPaid\": \"0\",\n",
      "        \"fundersInterestAmount\": \"0\",\n",
      "        \"indexInterestRate\": {\n",
      "            \"encodedKey\": \"8a818f5f6cbe6621016cbf6906835c9d\",\n",
      "            \"notes\": \"\",\n",
      "            \"rate\": \"24.9\",\n",
      "            \"startDate\": \"2019-08-23T00:00:00+0000\",\n",
      "            \"userKey\": \"8a818e74677a2e9201677ec2ac0a3696\"\n",
      "        },\n",
      "        \"interestFromArrearsAmount\": \"0\",\n",
      "        \"interestPaid\": \"0\",\n",
      "        \"organizationCommissionAmount\": \"0\",\n",
      "        \"parentAccountKey\": \"8a818f996cd66cd0016cd6fb85e10b56\",\n",
      "        \"penaltyPaid\": \"0\",\n",
      "        \"principalBalance\": \"724\",\n",
      "        \"principalPaid\": \"654\",\n",
      "        \"productTypeKey\": \"8a818f5f6cbe6621016cbf6d66075e54\",\n",
      "        \"redrawBalance\": \"0\",\n",
      "        \"taxOnFeesAmount\": \"0\",\n",
      "        \"taxOnInterestFromArrearsAmount\": \"0\",\n",
      "        \"taxOnInterestPaid\": \"0\",\n",
      "        \"taxOnPenaltyAmount\": \"0\",\n",
      "        \"transactionId\": 529,\n",
      "        \"type\": \"DISBURSMENT\",\n",
      "        \"userKey\": \"8a818e74677a2e9201677ec2ac0a3696\",\n",
      "        \"valueDate\": \"2019-08-28T09:27:57+0000\"\n",
      "    },\n",
      "    {\n",
      "        \"advancePosition\": \"0\",\n",
      "        \"amount\": \"70\",\n",
      "        \"arrearsPosition\": \"0\",\n",
      "        \"balance\": \"70\",\n",
      "        \"bookingDate\": \"2019-08-28T09:13:40+0000\",\n",
      "        \"branchKey\": \"8a818f156ccf5fb1016cd2e8e4532b09\",\n",
      "        \"creationDate\": \"2019-08-28T07:13:41+0000\",\n",
      "        \"customInformation\": [],\n",
      "        \"deferredInterestAmount\": \"0\",\n",
      "        \"deferredTaxOnInterestAmount\": \"0\",\n",
      "        \"details\": {\n",
      "            \"encodedKey\": \"8a818f336cd48137016cd712aab4411b\",\n",
      "            \"internalTransfer\": false,\n",
      "            \"transactionChannel\": {\n",
      "                \"activated\": true,\n",
      "                \"creationDate\": \"2018-12-05T15:25:49+0000\",\n",
      "                \"encodedKey\": \"8a818e74677a2e9201677ec2b4c336a6\",\n",
      "                \"id\": \"cash\",\n",
      "                \"index\": 0,\n",
      "                \"name\": \"Cash\",\n",
      "                \"savingsConstraints\": {\n",
      "                    \"encodedKey\": \"8a818e74677a2e9201677ec2b4c336a8\",\n",
      "                    \"filterConstraints\": []\n",
      "                },\n",
      "                \"savingsConstraintsUsage\": \"UNCONSTRAINED_USAGE\",\n",
      "                \"usageRights\": {\n",
      "                    \"encodedKey\": \"8a818e74677a2e9201677ec2b4c336a7\",\n",
      "                    \"isAccessibleByAllUsers\": true,\n",
      "                    \"roles\": []\n",
      "                }\n",
      "            },\n",
      "            \"transactionChannelKey\": \"8a818e74677a2e9201677ec2b4c336a6\"\n",
      "        },\n",
      "        \"encodedKey\": \"8a818f336cd48137016cd712aab44119\",\n",
      "        \"entryDate\": \"2019-08-28T09:13:40+0000\",\n",
      "        \"expectedPrincipalRedraw\": \"0\",\n",
      "        \"feesPaid\": \"0\",\n",
      "        \"fundersInterestAmount\": \"0\",\n",
      "        \"indexInterestRate\": {\n",
      "            \"encodedKey\": \"8a818f5f6cbe6621016cbf6906835c9d\",\n",
      "            \"notes\": \"\",\n",
      "            \"rate\": \"24.9\",\n",
      "            \"startDate\": \"2019-08-23T00:00:00+0000\",\n",
      "            \"userKey\": \"8a818e74677a2e9201677ec2ac0a3696\"\n",
      "        },\n",
      "        \"interestFromArrearsAmount\": \"0\",\n",
      "        \"interestPaid\": \"0\",\n",
      "        \"loanTransactionTerms\": {\n",
      "            \"encodedKey\": \"8a818f336cd48137016cd712aab4411a\",\n",
      "            \"principalPaymentPercentage\": \"3\"\n",
      "        },\n",
      "        \"organizationCommissionAmount\": \"0\",\n",
      "        \"parentAccountKey\": \"8a818f996cd66cd0016cd6fb85e10b56\",\n",
      "        \"penaltyPaid\": \"0\",\n",
      "        \"principalBalance\": \"70\",\n",
      "        \"principalPaid\": \"70\",\n",
      "        \"productTypeKey\": \"8a818f5f6cbe6621016cbf6d66075e54\",\n",
      "        \"redrawBalance\": \"0\",\n",
      "        \"taxOnFeesAmount\": \"0\",\n",
      "        \"taxOnInterestFromArrearsAmount\": \"0\",\n",
      "        \"taxOnInterestPaid\": \"0\",\n",
      "        \"taxOnPenaltyAmount\": \"0\",\n",
      "        \"transactionId\": 528,\n",
      "        \"type\": \"DISBURSMENT\",\n",
      "        \"userKey\": \"8a818efe6ccdd7d3016cce22da960bbe\",\n",
      "        \"valueDate\": \"2019-08-28T09:13:40+0000\"\n",
      "    }\n",
      "]\n"
     ]
    }
   ],
   "source": [
    "    HEADERS = {'Content-Type': 'application/json'}\n",
    "    # Parameters below set up pagination and only returns max 20\n",
    "    PARAMS = {}\n",
    "    r = GET('{{env4}}'+'/loans/HHAE369/transactions/529', headers=HEADERS, params=PARAMS)\n",
    "    PRINT(r)"
   ]
  },
  {
   "cell_type": "code",
   "execution_count": 394,
   "metadata": {},
   "outputs": [
    {
     "name": "stdout",
     "output_type": "stream",
     "text": [
      "API status: 201\n",
      "JSON Response:\n",
      "{\n",
      "    \"advancePosition\": \"0\",\n",
      "    \"amount\": \"2000\",\n",
      "    \"arrearsPosition\": \"0\",\n",
      "    \"balance\": \"2000\",\n",
      "    \"bookingDate\": \"2019-08-27T22:47:43+0000\",\n",
      "    \"branchKey\": \"8a818f156ccf5fb1016cd2e8e4532b09\",\n",
      "    \"creationDate\": \"2019-08-27T20:47:44+0000\",\n",
      "    \"deferredInterestAmount\": \"0\",\n",
      "    \"deferredTaxOnInterestAmount\": \"0\",\n",
      "    \"details\": {\n",
      "        \"encodedKey\": \"8a818efc6cd4813e016cd4d59a35031c\",\n",
      "        \"internalTransfer\": false,\n",
      "        \"transactionChannel\": {\n",
      "            \"activated\": true,\n",
      "            \"creationDate\": \"2018-12-05T15:25:49+0000\",\n",
      "            \"encodedKey\": \"8a818e74677a2e9201677ec2b4c336a6\",\n",
      "            \"id\": \"cash\",\n",
      "            \"index\": 0,\n",
      "            \"name\": \"Cash\",\n",
      "            \"savingsConstraints\": {\n",
      "                \"encodedKey\": \"8a818e74677a2e9201677ec2b4c336a8\",\n",
      "                \"filterConstraints\": []\n",
      "            },\n",
      "            \"savingsConstraintsUsage\": \"UNCONSTRAINED_USAGE\",\n",
      "            \"usageRights\": {\n",
      "                \"encodedKey\": \"8a818e74677a2e9201677ec2b4c336a7\",\n",
      "                \"isAccessibleByAllUsers\": true,\n",
      "                \"roles\": []\n",
      "            }\n",
      "        },\n",
      "        \"transactionChannelKey\": \"8a818e74677a2e9201677ec2b4c336a6\"\n",
      "    },\n",
      "    \"encodedKey\": \"8a818efc6cd4813e016cd4d59a35031b\",\n",
      "    \"entryDate\": \"2019-08-27T22:47:43+0000\",\n",
      "    \"expectedPrincipalRedraw\": \"0\",\n",
      "    \"feesPaid\": \"0\",\n",
      "    \"fundersInterestAmount\": \"0\",\n",
      "    \"indexInterestRate\": {\n",
      "        \"encodedKey\": \"8a818f5f6cbe6621016cbf6906835c9d\",\n",
      "        \"notes\": \"\",\n",
      "        \"rate\": \"24.9\",\n",
      "        \"rateSource\": {\n",
      "            \"encodedKey\": \"8a818f5f6cbe6621016cbf6906835c9c\",\n",
      "            \"name\": \"Tandem Standard Rate\",\n",
      "            \"notes\": \"Interest Rate charged on all credit facilities\",\n",
      "            \"type\": \"INTEREST_RATE\"\n",
      "        },\n",
      "        \"startDate\": \"2019-08-23T00:00:00+0000\",\n",
      "        \"userKey\": \"8a818e74677a2e9201677ec2ac0a3696\"\n",
      "    },\n",
      "    \"interestFromArrearsAmount\": \"0\",\n",
      "    \"interestPaid\": \"0\",\n",
      "    \"loanPredefinedFeeAmounts\": [],\n",
      "    \"organizationCommissionAmount\": \"0\",\n",
      "    \"parentAccountKey\": \"8a818ecb6cd41a02016cd4d4c8a408e3\",\n",
      "    \"penaltyPaid\": \"0\",\n",
      "    \"principalBalance\": \"2000\",\n",
      "    \"principalPaid\": \"2000\",\n",
      "    \"productTypeKey\": \"8a818f5f6cbe6621016cbf627bbc5af4\",\n",
      "    \"redrawBalance\": \"0\",\n",
      "    \"taxOnFeesAmount\": \"0\",\n",
      "    \"taxOnInterestFromArrearsAmount\": \"0\",\n",
      "    \"taxOnInterestPaid\": \"0\",\n",
      "    \"taxOnPenaltyAmount\": \"0\",\n",
      "    \"transactionId\": 523,\n",
      "    \"type\": \"DISBURSMENT\",\n",
      "    \"userKey\": \"8a818efe6ccdd7d3016cce22da960bbe\",\n",
      "    \"valueDate\": \"2019-08-27T22:47:43+0000\"\n",
      "}\n"
     ]
    }
   ],
   "source": [
    "disburseLoan(\"LBTW351\", 2000)\n"
   ]
  },
  {
   "cell_type": "markdown",
   "metadata": {},
   "source": [
    "<a id=\"section2\"></a>\n",
    "[back](#sectionx)\n",
    "## Create ALL in 1 go"
   ]
  },
  {
   "cell_type": "code",
   "execution_count": 26,
   "metadata": {},
   "outputs": [],
   "source": [
    "def createALL(fName, lName):\n",
    "    #createNewCustomerTest(fName, lName)\n",
    "    createNewCustomerDemo(fName, lName)\n",
    "    createNewCreditArrangement()\n",
    "    createTEMPCardDDAAccount()\n",
    "    addCurrentAccountToCreditLine()\n",
    "    approveDepositAccount()\n",
    "    createCurrentAccount()\n",
    "    addCurrentAccountToCreditLine()\n",
    "    approveDepositAccount()\n",
    "    createCreditCardBucket(\"cash\")\n",
    "    addCCBucketToCreditLine()\n",
    "    approveLoanAccount()\n",
    "    createCreditCardBucket(\"purchase\")\n",
    "    addCCBucketToCreditLine()\n",
    "    approveLoanAccount()"
   ]
  },
  {
   "cell_type": "code",
   "execution_count": 32,
   "metadata": {},
   "outputs": [
    {
     "name": "stdout",
     "output_type": "stream",
     "text": [
      "API status:\n",
      "201\n",
      "Now the JSON:\n",
      "{\"encodedKey\":\"8a818eac71361c2f017144c65e663d81\",\"id\":\"585420596\",\"state\":\"INACTIVE\",\"creationDate\":\"2020-04-04T12:39:43+02:00\",\"lastModifiedDate\":\"2020-04-04T12:39:43+02:00\",\"approvedDate\":\"2020-04-04T12:39:43+02:00\",\"firstName\":\"Test\",\"lastName\":\"Cust04043\",\"preferredLanguage\":\"ENGLISH\",\"gender\":\"MALE\",\"notes\":\"Some Notes on this person\",\"assignedBranchKey\":\"8a818f5f6cbe6621016cbf217c9e5060\",\"clientRoleKey\":\"8a818e74677a2e9201677ec2b4c336aa\",\"loanCycle\":0,\"groupLoanCycle\":0,\"addresses\":[{\"encodedKey\":\"8a818eac71361c2f017144c65e663d82\",\"parentKey\":\"8a818eac71361c2f017144c65e663d81\",\"city\":\"Liverpool\",\"country\":\"UK\",\"indexInList\":0}],\"idDocuments\":[]}\n",
      "API status:\n",
      "201\n",
      "Now the JSON:\n",
      "{\"encodedKey\":\"8a818fe371407db0017144c665ef0a25\",\"id\":\"EPN886\",\"holderType\":\"CLIENT\",\"holderKey\":\"8a818eac71361c2f017144c65e663d81\",\"amount\":10000.0,\"availableCreditAmount\":10000.0,\"consumedCreditAmount\":0,\"state\":\"APPROVED\",\"creationDate\":\"2020-04-04T12:39:45+02:00\",\"lastModifiedDate\":\"2020-04-04T12:39:45+02:00\",\"startDate\":\"2019-08-23T00:00:00+02:00\",\"expireDate\":\"2030-08-23T00:00:00+02:00\",\"approvedDate\":\"2020-04-04T12:39:45+02:00\",\"exposureLimitType\":\"OUTSTANDING_AMOUNT\",\"notes\":\"\",\"_URepayOptions\":{\"ShortMonthOption\":\"late\",\"PaymentDueDay\":\"1\",\"AutoRepayMethod\":\"Direct-Debit\"}}\n",
      "API status:\n",
      "201\n",
      "Now the JSON:\n",
      "{\"encodedKey\":\"8a818f8e714068e8017144c673e13ae0\",\"creationDate\":\"2020-04-04T12:39:48+02:00\",\"lastModifiedDate\":\"2020-04-04T12:39:48+02:00\",\"id\":\"GUWI874\",\"name\":\"TEMP Card Account\",\"accountHolderType\":\"CLIENT\",\"accountHolderKey\":\"8a818eac71361c2f017144c65e663d81\",\"accountState\":\"PENDING_APPROVAL\",\"productTypeKey\":\"8a818f5f6cbe6621016cbf7310ff6064\",\"accountType\":\"CURRENT_ACCOUNT\",\"currencyCode\":\"EUR\",\"assignedBranchKey\":\"8a818f5f6cbe6621016cbf217c9e5060\",\"internalControls\":{},\"overdraftSettings\":{\"allowOverdraft\":true,\"overdraftLimit\":0,\"overdraftExpiryDate\":\"2020-05-02T00:00:00+02:00\"},\"interestSettings\":{\"interestPaymentSettings\":{\"interestPaymentDates\":[]}},\"overdraftInterestSettings\":{\"interestRateSettings\":{\"encodedKey\":\"8a818f8e714068e8017144c673e13ae1\",\"interestRate\":0,\"interestChargeFrequency\":\"ANNUALIZED\",\"interestChargeFrequencyCount\":1,\"interestRateTiers\":[],\"interestRateTerms\":\"FIXED\",\"interestRateSource\":\"FIXED_INTEREST_RATE\"}},\"balances\":{\"totalBalance\":0,\"overdraftAmount\":0,\"technicalOverdraftAmount\":0,\"lockedBalance\":0,\"availableBalance\":0,\"holdBalance\":0,\"overdraftInterestDue\":0,\"technicalOverdraftInterestDue\":0,\"feesDue\":0},\"accruedAmounts\":{\"interestAccrued\":0,\"overdraftInterestAccrued\":0,\"technicalOverdraftInterestAccrued\":0}}\n",
      "API status:\n",
      "200\n",
      "Now the JSON:\n",
      "{\"encodedKey\":\"8a818f8e714068e8017144c673e13ae0\",\"id\":\"GUWI874\",\"accountHolderKey\":\"8a818eac71361c2f017144c65e663d81\",\"accountHolderType\":\"CLIENT\",\"name\":\"TEMP Card Account\",\"creationDate\":\"2020-04-04T10:39:48+0000\",\"lastModifiedDate\":\"2020-04-04T10:39:48+0000\",\"productTypeKey\":\"8a818f5f6cbe6621016cbf7310ff6064\",\"lineOfCreditKey\":\"8a818fe371407db0017144c665ef0a25\",\"accountType\":\"CURRENT_ACCOUNT\",\"accountState\":\"PENDING_APPROVAL\",\"balance\":\"0\",\"accruedInterest\":\"0\",\"overdraftInterestAccrued\":\"0\",\"technicalOverdraftInterestAccrued\":\"0\",\"overdraftAmount\":\"0\",\"technicalOverdraftAmount\":\"0\",\"overdraftExpiryDate\":\"2020-05-02T00:00:00+0000\",\"overdraftInterestSettings\":{\"interestRate\":\"0\",\"encodedKey\":\"8a818f8e714068e8017144c673e13ae1\",\"interestChargeFrequency\":\"ANNUALIZED\",\"interestChargeFrequencyCount\":1,\"interestRateSource\":\"FIXED_INTEREST_RATE\",\"interestRateTerms\":\"FIXED\",\"interestRateTiers\":[],\"accrueInterestAfterMaturity\":false},\"interestDue\":\"0\",\"technicalInterestDue\":\"0\",\"feesDue\":\"0\",\"overdraftLimit\":\"0\",\"allowOverdraft\":true,\"assignedBranchKey\":\"8a818f5f6cbe6621016cbf217c9e5060\",\"lockedBalance\":\"0\",\"holdBalance\":\"0\",\"currencyCode\":\"EUR\",\"currency\":{\"code\":\"EUR\",\"name\":\"Euro\",\"symbol\":\"€\",\"digitsAfterDecimal\":2,\"currencySymbolPosition\":\"BEFORE_NUMBER\",\"isBaseCurrency\":true,\"creationDate\":\"2018-12-05T14:25:48+0000\",\"lastModifiedDate\":\"2018-12-05T14:25:48+0000\"},\"availableBalance\":\"0\"}\n",
      "{\"encodedKey\":\"8a818f8e714068e8017144c673e13ae0\",\"creationDate\":\"2020-04-04T12:39:48+02:00\",\"lastModifiedDate\":\"2020-04-04T12:39:56+02:00\",\"id\":\"GUWI874\",\"name\":\"TEMP Card Account\",\"accountHolderType\":\"CLIENT\",\"accountHolderKey\":\"8a818eac71361c2f017144c65e663d81\",\"accountState\":\"APPROVED\",\"productTypeKey\":\"8a818f5f6cbe6621016cbf7310ff6064\",\"accountType\":\"CURRENT_ACCOUNT\",\"creditArrangementKey\":\"8a818fe371407db0017144c665ef0a25\",\"approvedDate\":\"2020-04-04T12:39:56+02:00\",\"currencyCode\":\"EUR\",\"assignedBranchKey\":\"8a818f5f6cbe6621016cbf217c9e5060\",\"internalControls\":{},\"overdraftSettings\":{\"allowOverdraft\":true,\"overdraftLimit\":0,\"overdraftExpiryDate\":\"2020-05-02T00:00:00+02:00\"},\"interestSettings\":{\"interestPaymentSettings\":{\"interestPaymentDates\":[]}},\"overdraftInterestSettings\":{\"interestRateSettings\":{\"encodedKey\":\"8a818f8e714068e8017144c673e13ae1\",\"interestRate\":0,\"interestChargeFrequency\":\"ANNUALIZED\",\"interestChargeFrequencyCount\":1,\"interestRateTiers\":[],\"interestRateTerms\":\"FIXED\",\"interestRateSource\":\"FIXED_INTEREST_RATE\"}},\"balances\":{\"totalBalance\":0,\"overdraftAmount\":0,\"technicalOverdraftAmount\":0,\"lockedBalance\":0,\"availableBalance\":0,\"holdBalance\":0,\"overdraftInterestDue\":0,\"technicalOverdraftInterestDue\":0,\"feesDue\":0},\"accruedAmounts\":{\"interestAccrued\":0,\"overdraftInterestAccrued\":0,\"technicalOverdraftInterestAccrued\":0}}\n",
      "API status:\n",
      "201\n",
      "Now the JSON:\n",
      "{\"encodedKey\":\"8a818ea6713625ef017144c53924183e\",\"creationDate\":\"2020-04-04T12:39:57+02:00\",\"lastModifiedDate\":\"2020-04-04T12:39:57+02:00\",\"id\":\"WNTP727\",\"name\":\"Current Account (with overdraft)\",\"accountHolderType\":\"CLIENT\",\"accountHolderKey\":\"8a818eac71361c2f017144c65e663d81\",\"accountState\":\"PENDING_APPROVAL\",\"productTypeKey\":\"8a818f5f6cbe6621016cbf4f2db95756\",\"accountType\":\"CURRENT_ACCOUNT\",\"currencyCode\":\"EUR\",\"assignedBranchKey\":\"8a818f5f6cbe6621016cbf217c9e5060\",\"internalControls\":{},\"overdraftSettings\":{\"allowOverdraft\":true,\"overdraftLimit\":0,\"overdraftExpiryDate\":\"2020-05-02T00:00:00+02:00\"},\"interestSettings\":{\"interestPaymentSettings\":{\"interestPaymentDates\":[]}},\"overdraftInterestSettings\":{\"interestRateSettings\":{\"encodedKey\":\"8a818ea6713625ef017144c53924183f\",\"interestChargeFrequency\":\"ANNUALIZED\",\"interestChargeFrequencyCount\":1,\"interestRateTiers\":[],\"interestRateTerms\":\"FIXED\",\"interestSpread\":0,\"interestRateReviewCount\":31,\"interestRateSource\":\"INDEX_INTEREST_RATE\",\"interestRateReviewUnit\":\"DAYS\"}},\"balances\":{\"totalBalance\":0,\"overdraftAmount\":0,\"technicalOverdraftAmount\":0,\"lockedBalance\":0,\"availableBalance\":0,\"holdBalance\":0,\"overdraftInterestDue\":0,\"technicalOverdraftInterestDue\":0,\"feesDue\":0},\"accruedAmounts\":{\"interestAccrued\":0,\"overdraftInterestAccrued\":0,\"technicalOverdraftInterestAccrued\":0}}\n",
      "API status:\n",
      "200\n",
      "Now the JSON:\n",
      "{\"encodedKey\":\"8a818ea6713625ef017144c53924183e\",\"id\":\"WNTP727\",\"accountHolderKey\":\"8a818eac71361c2f017144c65e663d81\",\"accountHolderType\":\"CLIENT\",\"name\":\"Current Account (with overdraft)\",\"creationDate\":\"2020-04-04T10:39:57+0000\",\"lastModifiedDate\":\"2020-04-04T10:39:57+0000\",\"productTypeKey\":\"8a818f5f6cbe6621016cbf4f2db95756\",\"lineOfCreditKey\":\"8a818fe371407db0017144c665ef0a25\",\"accountType\":\"CURRENT_ACCOUNT\",\"accountState\":\"PENDING_APPROVAL\",\"balance\":\"0\",\"accruedInterest\":\"0\",\"overdraftInterestAccrued\":\"0\",\"technicalOverdraftInterestAccrued\":\"0\",\"overdraftAmount\":\"0\",\"technicalOverdraftAmount\":\"0\",\"overdraftExpiryDate\":\"2020-05-02T00:00:00+0000\",\"overdraftInterestSettings\":{\"interestSpread\":\"0\",\"encodedKey\":\"8a818ea6713625ef017144c53924183f\",\"interestChargeFrequency\":\"ANNUALIZED\",\"interestChargeFrequencyCount\":1,\"interestRateSource\":\"INDEX_INTEREST_RATE\",\"interestRateReviewUnit\":\"DAYS\",\"interestRateReviewCount\":31,\"interestRateTerms\":\"FIXED\",\"interestRateTiers\":[],\"accrueInterestAfterMaturity\":false},\"interestDue\":\"0\",\"technicalInterestDue\":\"0\",\"feesDue\":\"0\",\"overdraftLimit\":\"0\",\"allowOverdraft\":true,\"assignedBranchKey\":\"8a818f5f6cbe6621016cbf217c9e5060\",\"lockedBalance\":\"0\",\"holdBalance\":\"0\",\"currencyCode\":\"EUR\",\"currency\":{\"code\":\"EUR\",\"name\":\"Euro\",\"symbol\":\"€\",\"digitsAfterDecimal\":2,\"currencySymbolPosition\":\"BEFORE_NUMBER\",\"isBaseCurrency\":true,\"creationDate\":\"2018-12-05T14:25:48+0000\",\"lastModifiedDate\":\"2018-12-05T14:25:48+0000\"},\"availableBalance\":\"0\"}\n"
     ]
    },
    {
     "name": "stdout",
     "output_type": "stream",
     "text": [
      "{\"encodedKey\":\"8a818ea6713625ef017144c53924183e\",\"creationDate\":\"2020-04-04T12:39:57+02:00\",\"lastModifiedDate\":\"2020-04-04T12:40:02+02:00\",\"id\":\"WNTP727\",\"name\":\"Current Account (with overdraft)\",\"accountHolderType\":\"CLIENT\",\"accountHolderKey\":\"8a818eac71361c2f017144c65e663d81\",\"accountState\":\"APPROVED\",\"productTypeKey\":\"8a818f5f6cbe6621016cbf4f2db95756\",\"accountType\":\"CURRENT_ACCOUNT\",\"creditArrangementKey\":\"8a818fe371407db0017144c665ef0a25\",\"approvedDate\":\"2020-04-04T12:40:02+02:00\",\"currencyCode\":\"EUR\",\"assignedBranchKey\":\"8a818f5f6cbe6621016cbf217c9e5060\",\"internalControls\":{},\"overdraftSettings\":{\"allowOverdraft\":true,\"overdraftLimit\":0,\"overdraftExpiryDate\":\"2020-05-02T00:00:00+02:00\"},\"interestSettings\":{\"interestPaymentSettings\":{\"interestPaymentDates\":[]}},\"overdraftInterestSettings\":{\"interestRateSettings\":{\"encodedKey\":\"8a818ea6713625ef017144c53924183f\",\"interestChargeFrequency\":\"ANNUALIZED\",\"interestChargeFrequencyCount\":1,\"interestRateTiers\":[],\"interestRateTerms\":\"FIXED\",\"interestSpread\":0,\"interestRateReviewCount\":31,\"interestRateSource\":\"INDEX_INTEREST_RATE\",\"interestRateReviewUnit\":\"DAYS\"}},\"balances\":{\"totalBalance\":0,\"overdraftAmount\":0,\"technicalOverdraftAmount\":0,\"lockedBalance\":0,\"availableBalance\":0,\"holdBalance\":0,\"overdraftInterestDue\":0,\"technicalOverdraftInterestDue\":0,\"feesDue\":0},\"accruedAmounts\":{\"interestAccrued\":0,\"overdraftInterestAccrued\":0,\"technicalOverdraftInterestAccrued\":0}}\n",
      "API status:\n",
      "201\n",
      "Now the JSON:\n",
      "{\"encodedKey\":\"8a818fbf71407daf017144c6a46d0625\",\"id\":\"HZXA780\",\"accountHolderType\":\"CLIENT\",\"accountHolderKey\":\"8a818eac71361c2f017144c65e663d81\",\"creationDate\":\"2020-04-04T12:40:04+02:00\",\"lastModifiedDate\":\"2020-04-04T12:40:04+02:00\",\"accountState\":\"PENDING_APPROVAL\",\"productTypeKey\":\"8a818f5f6cbe6621016cbf3cf8675424\",\"loanName\":\"CC - Cash\",\"loanAmount\":30000.0,\"paymentMethod\":\"HORIZONTAL\",\"assignedBranchKey\":\"8a818f156ccf5fb1016cd2e8e4532b09\",\"accruedInterest\":0,\"interestFromArrearsAccrued\":0,\"allowOffset\":false,\"arrearsTolerancePeriod\":0,\"accountArrearsSettings\":{\"encodedKey\":\"8a818fbf71407daf017144c6a46d0628\",\"toleranceCalculationMethod\":\"ARREARS_TOLERANCE_PERIOD\",\"dateCalculationMethod\":\"ACCOUNT_FIRST_WENT_TO_ARREARS\",\"nonWorkingDaysMethod\":\"EXCLUDED\",\"tolerancePeriod\":0},\"latePaymentsRecalculationMethod\":\"OVERDUE_INSTALLMENTS_INCREASE\",\"balances\":{\"redrawBalance\":0,\"principalDue\":0,\"principalPaid\":0,\"principalBalance\":0,\"interestDue\":0,\"interestPaid\":0,\"interestBalance\":0,\"interestFromArrearsBalance\":0,\"interestFromArrearsDue\":0,\"interestFromArrearsPaid\":0,\"feesDue\":0,\"feesPaid\":0,\"feesBalance\":0,\"penaltyDue\":0,\"penaltyPaid\":0,\"penaltyBalance\":0,\"holdBalance\":0},\"principalPaymentSettings\":{\"encodedKey\":\"8a818fbf71407daf017144c6a46d0626\",\"totalDuePayment\":\"TOTAL_BALANCE_PERCENTAGE\",\"includeInterestInFloorAmount\":false,\"includeFeesInFloorAmount\":false,\"percentage\":3.00000000000000000000},\"disbursementDetails\":{\"encodedKey\":\"8a818fbf71407daf017144c6a46d0627\",\"fees\":[]},\"prepaymentSettings\":{\"prepaymentRecalculationMethod\":\"NO_RECALCULATION\",\"principalPaidInstallmentStatus\":\"PARTIALLY_PAID\",\"applyInterestOnPrepaymentMethod\":\"AUTOMATIC\"},\"penaltySettings\":{\"loanPenaltyCalculationMethod\":\"NONE\"},\"scheduleSettings\":{\"hasCustomSchedule\":false,\"principalRepaymentInterval\":1,\"gracePeriod\":0,\"gracePeriodType\":\"NONE\",\"repaymentInstallments\":0,\"shortMonthHandlingMethod\":\"LAST_DAY_IN_MONTH\",\"fixedDaysOfMonth\":[1],\"scheduleDueDatesMethod\":\"FIXED_DAYS_OF_MONTH\",\"periodicPayment\":0,\"repaymentScheduleMethod\":\"DYNAMIC\",\"paymentPlan\":[]},\"interestSettings\":{\"interestRateReviewCount\":31,\"interestRateReviewUnit\":\"DAYS\",\"interestRateSource\":\"INDEX_INTEREST_RATE\",\"accrueInterestAfterMaturity\":false,\"interestApplicationMethod\":\"REPAYMENT_DUE_DATE\",\"interestBalanceCalculationMethod\":\"ONLY_PRINCIPAL\",\"interestCalculationMethod\":\"DECLINING_BALANCE\",\"interestChargeFrequency\":\"ANNUALIZED\",\"interestSpread\":0,\"interestRate\":24.9000000000,\"interestType\":\"SIMPLE_INTEREST\",\"accrueLateInterest\":true},\"assets\":[],\"guarantors\":[],\"fundingSources\":[],\"tranches\":[],\"futurePaymentsAcceptance\":\"NO_FUTURE_PAYMENTS\"}\n",
      "API status:\n",
      "200\n",
      "Now the JSON:\n",
      "{\"encodedKey\":\"8a818fbf71407daf017144c6a46d0625\",\"id\":\"HZXA780\",\"accountHolderKey\":\"8a818eac71361c2f017144c65e663d81\",\"accountHolderType\":\"CLIENT\",\"creationDate\":\"2020-04-04T10:40:04+0000\",\"lastModifiedDate\":\"2020-04-04T10:40:04+0000\",\"accountState\":\"PENDING_APPROVAL\",\"productTypeKey\":\"8a818f5f6cbe6621016cbf3cf8675424\",\"lineOfCreditKey\":\"8a818fe371407db0017144c665ef0a25\",\"loanName\":\"CC - Cash\",\"loanAmount\":\"30000\",\"periodicPayment\":\"0\",\"tranches\":[],\"principalDue\":\"0\",\"principalPaid\":\"0\",\"principalBalance\":\"0\",\"redrawBalance\":\"0\",\"interestDue\":\"0\",\"interestPaid\":\"0\",\"interestFromArrearsBalance\":\"0\",\"interestFromArrearsDue\":\"0\",\"interestFromArrearsPaid\":\"0\",\"interestBalance\":\"0\",\"feesDue\":\"0\",\"feesPaid\":\"0\",\"feesBalance\":\"0\",\"penaltyDue\":\"0\",\"penaltyPaid\":\"0\",\"penaltyBalance\":\"0\",\"scheduleDueDatesMethod\":\"FIXED_DAYS_OF_MONTH\",\"prepaymentAcceptance\":\"ACCEPT_PREPAYMENTS\",\"futurePaymentsAcceptance\":\"NO_FUTURE_PAYMENTS\",\"hasCustomSchedule\":false,\"fixedDaysOfMonth\":[1],\"shortMonthHandlingMethod\":\"LAST_DAY_IN_MONTH\",\"repaymentInstallments\":0,\"gracePeriod\":0,\"gracePeriodType\":\"NONE\",\"interestRate\":\"24.9\",\"interestChargeFrequency\":\"ANNUALIZED\",\"interestCalculationMethod\":\"DECLINING_BALANCE\",\"interestType\":\"SIMPLE_INTEREST\",\"interestBalanceCalculationMethod\":\"PRINCIPAL_ONLY\",\"repaymentScheduleMethod\":\"DYNAMIC\",\"paymentMethod\":\"HORIZONTAL\",\"interestApplicationMethod\":\"ON_REPAYMENT\",\"accrueInterestAfterMaturity\":false,\"assignedBranchKey\":\"8a818f156ccf5fb1016cd2e8e4532b09\",\"principalRepaymentInterval\":1,\"interestRateSource\":\"INDEX_INTEREST_RATE\",\"interestRateReviewUnit\":\"DAYS\",\"interestRateReviewCount\":31,\"interestSpread\":\"0\",\"accruedInterest\":\"0\",\"interestFromArrearsAccrued\":\"0\",\"funds\":[],\"guarantees\":[],\"loanPenaltyCalculationMethod\":\"NONE\",\"principalPaymentSettings\":{\"percentage\":\"3\",\"encodedKey\":\"8a818fbf71407daf017144c6a46d0626\",\"principalPaymentMethod\":\"TOTAL_BALANCE_PERCENTAGE\",\"includeInterestInFloorAmount\":false,\"includeFeesInFloorAmount\":false},\"disbursementDetails\":{\"encodedKey\":\"8a818fbf71407daf017144c6a46d0627\",\"fees\":[]},\"arrearsTolerancePeriod\":0,\"accountArrearsSettings\":{\"tolerancePeriod\":0,\"encodedKey\":\"8a818fbf71407daf017144c6a46d0628\",\"toleranceCalculationMethod\":\"ARREARS_TOLERANCE_PERIOD\",\"dateCalculationMethod\":\"DATE_ACCOUNT_FIRST_WENT_TO_ARREARS\",\"nonWorkingDaysMethod\":\"EXCLUDED\"},\"paymentPlan\":[],\"interestRoundingVersion\":\"VERSION_3\",\"prepaymentRecalculationMethod\":\"NO_RECALCULATION\",\"principalPaidInstallmentStatus\":\"PARTIALLY_PAID\",\"latePaymentsRecalculationMethod\":\"INCREASE_OVERDUE_INSTALLMENTS\",\"applyInterestOnPrepaymentMethod\":\"AUTOMATIC\",\"allowOffset\":false,\"accrueLateInterest\":true,\"holdBalance\":\"0\"}\n",
      "{\"encodedKey\":\"8a818fbf71407daf017144c6a46d0625\",\"id\":\"HZXA780\",\"accountHolderType\":\"CLIENT\",\"accountHolderKey\":\"8a818eac71361c2f017144c65e663d81\",\"creationDate\":\"2020-04-04T12:40:04+02:00\",\"approvedDate\":\"2020-04-04T12:40:09+02:00\",\"lastModifiedDate\":\"2020-04-04T12:40:09+02:00\",\"accountState\":\"APPROVED\",\"productTypeKey\":\"8a818f5f6cbe6621016cbf3cf8675424\",\"creditArrangementKey\":\"8a818fe371407db0017144c665ef0a25\",\"loanName\":\"CC - Cash\",\"loanAmount\":30000.0000000000,\"paymentMethod\":\"HORIZONTAL\",\"assignedBranchKey\":\"8a818f156ccf5fb1016cd2e8e4532b09\",\"accruedInterest\":0,\"interestFromArrearsAccrued\":0,\"allowOffset\":false,\"arrearsTolerancePeriod\":0,\"accountArrearsSettings\":{\"encodedKey\":\"8a818fbf71407daf017144c6a46d0628\",\"toleranceCalculationMethod\":\"ARREARS_TOLERANCE_PERIOD\",\"dateCalculationMethod\":\"ACCOUNT_FIRST_WENT_TO_ARREARS\",\"nonWorkingDaysMethod\":\"EXCLUDED\",\"tolerancePeriod\":0},\"latePaymentsRecalculationMethod\":\"OVERDUE_INSTALLMENTS_INCREASE\",\"balances\":{\"redrawBalance\":0,\"principalDue\":0,\"principalPaid\":0,\"principalBalance\":0,\"interestDue\":0,\"interestPaid\":0,\"interestBalance\":0,\"interestFromArrearsBalance\":0,\"interestFromArrearsDue\":0,\"interestFromArrearsPaid\":0,\"feesDue\":0,\"feesPaid\":0,\"feesBalance\":0,\"penaltyDue\":0,\"penaltyPaid\":0,\"penaltyBalance\":0,\"holdBalance\":0},\"principalPaymentSettings\":{\"encodedKey\":\"8a818fbf71407daf017144c6a46d0626\",\"totalDuePayment\":\"TOTAL_BALANCE_PERCENTAGE\",\"includeInterestInFloorAmount\":false,\"includeFeesInFloorAmount\":false,\"percentage\":3.00000000000000000000},\"disbursementDetails\":{\"encodedKey\":\"8a818fbf71407daf017144c6a46d0627\",\"fees\":[]},\"prepaymentSettings\":{\"prepaymentRecalculationMethod\":\"NO_RECALCULATION\",\"principalPaidInstallmentStatus\":\"PARTIALLY_PAID\",\"applyInterestOnPrepaymentMethod\":\"AUTOMATIC\"},\"penaltySettings\":{\"loanPenaltyCalculationMethod\":\"NONE\"},\"scheduleSettings\":{\"hasCustomSchedule\":false,\"principalRepaymentInterval\":1,\"gracePeriod\":0,\"gracePeriodType\":\"NONE\",\"repaymentInstallments\":0,\"shortMonthHandlingMethod\":\"LAST_DAY_IN_MONTH\",\"fixedDaysOfMonth\":[1],\"scheduleDueDatesMethod\":\"FIXED_DAYS_OF_MONTH\",\"periodicPayment\":0,\"repaymentScheduleMethod\":\"DYNAMIC\"},\"interestSettings\":{\"interestRateReviewCount\":31,\"interestRateReviewUnit\":\"DAYS\",\"interestRateSource\":\"INDEX_INTEREST_RATE\",\"accrueInterestAfterMaturity\":false,\"interestApplicationMethod\":\"REPAYMENT_DUE_DATE\",\"interestBalanceCalculationMethod\":\"ONLY_PRINCIPAL\",\"interestCalculationMethod\":\"DECLINING_BALANCE\",\"interestChargeFrequency\":\"ANNUALIZED\",\"interestSpread\":0,\"interestRate\":24.90000000000000000000,\"interestType\":\"SIMPLE_INTEREST\",\"accrueLateInterest\":true},\"futurePaymentsAcceptance\":\"NO_FUTURE_PAYMENTS\"}\n"
     ]
    },
    {
     "name": "stdout",
     "output_type": "stream",
     "text": [
      "API status:\n",
      "201\n",
      "Now the JSON:\n",
      "{\"encodedKey\":\"8a818fcb71362638017144c6cd102da0\",\"id\":\"FAXV867\",\"accountHolderType\":\"CLIENT\",\"accountHolderKey\":\"8a818eac71361c2f017144c65e663d81\",\"creationDate\":\"2020-04-04T12:40:11+02:00\",\"lastModifiedDate\":\"2020-04-04T12:40:11+02:00\",\"accountState\":\"PENDING_APPROVAL\",\"productTypeKey\":\"8a818f5f6cbe6621016cbf6d66075e54\",\"loanName\":\"CC - Purchases\",\"loanAmount\":30000.0,\"paymentMethod\":\"HORIZONTAL\",\"assignedBranchKey\":\"8a818f156ccf5fb1016cd2e8e4532b09\",\"accruedInterest\":0,\"interestFromArrearsAccrued\":0,\"allowOffset\":false,\"arrearsTolerancePeriod\":0,\"accountArrearsSettings\":{\"encodedKey\":\"8a818fcb71362638017144c6cd102da3\",\"toleranceCalculationMethod\":\"ARREARS_TOLERANCE_PERIOD\",\"dateCalculationMethod\":\"ACCOUNT_FIRST_WENT_TO_ARREARS\",\"nonWorkingDaysMethod\":\"EXCLUDED\",\"tolerancePeriod\":0},\"latePaymentsRecalculationMethod\":\"OVERDUE_INSTALLMENTS_INCREASE\",\"balances\":{\"redrawBalance\":0,\"principalDue\":0,\"principalPaid\":0,\"principalBalance\":0,\"interestDue\":0,\"interestPaid\":0,\"interestBalance\":0,\"interestFromArrearsBalance\":0,\"interestFromArrearsDue\":0,\"interestFromArrearsPaid\":0,\"feesDue\":0,\"feesPaid\":0,\"feesBalance\":0,\"penaltyDue\":0,\"penaltyPaid\":0,\"penaltyBalance\":0,\"holdBalance\":0},\"principalPaymentSettings\":{\"encodedKey\":\"8a818fcb71362638017144c6cd102da1\",\"totalDuePayment\":\"TOTAL_BALANCE_PERCENTAGE\",\"includeInterestInFloorAmount\":false,\"includeFeesInFloorAmount\":false,\"percentage\":3.00000000000000000000},\"disbursementDetails\":{\"encodedKey\":\"8a818fcb71362638017144c6cd102da2\",\"fees\":[]},\"prepaymentSettings\":{\"prepaymentRecalculationMethod\":\"NO_RECALCULATION\",\"principalPaidInstallmentStatus\":\"PARTIALLY_PAID\",\"applyInterestOnPrepaymentMethod\":\"AUTOMATIC\"},\"penaltySettings\":{\"loanPenaltyCalculationMethod\":\"NONE\"},\"scheduleSettings\":{\"hasCustomSchedule\":false,\"principalRepaymentInterval\":1,\"gracePeriod\":0,\"gracePeriodType\":\"NONE\",\"repaymentInstallments\":0,\"shortMonthHandlingMethod\":\"LAST_DAY_IN_MONTH\",\"fixedDaysOfMonth\":[1],\"scheduleDueDatesMethod\":\"FIXED_DAYS_OF_MONTH\",\"periodicPayment\":0,\"repaymentScheduleMethod\":\"DYNAMIC\",\"paymentPlan\":[]},\"interestSettings\":{\"interestRateReviewCount\":31,\"interestRateReviewUnit\":\"DAYS\",\"interestRateSource\":\"INDEX_INTEREST_RATE\",\"accrueInterestAfterMaturity\":false,\"interestApplicationMethod\":\"REPAYMENT_DUE_DATE\",\"interestBalanceCalculationMethod\":\"ONLY_PRINCIPAL\",\"interestCalculationMethod\":\"DECLINING_BALANCE\",\"interestChargeFrequency\":\"ANNUALIZED\",\"interestSpread\":0,\"interestRate\":24.9000000000,\"interestType\":\"SIMPLE_INTEREST\",\"accrueLateInterest\":true},\"assets\":[],\"guarantors\":[],\"fundingSources\":[],\"tranches\":[],\"futurePaymentsAcceptance\":\"NO_FUTURE_PAYMENTS\"}\n",
      "API status:\n",
      "200\n",
      "Now the JSON:\n",
      "{\"encodedKey\":\"8a818fcb71362638017144c6cd102da0\",\"id\":\"FAXV867\",\"accountHolderKey\":\"8a818eac71361c2f017144c65e663d81\",\"accountHolderType\":\"CLIENT\",\"creationDate\":\"2020-04-04T10:40:11+0000\",\"lastModifiedDate\":\"2020-04-04T10:40:11+0000\",\"accountState\":\"PENDING_APPROVAL\",\"productTypeKey\":\"8a818f5f6cbe6621016cbf6d66075e54\",\"lineOfCreditKey\":\"8a818fe371407db0017144c665ef0a25\",\"loanName\":\"CC - Purchases\",\"loanAmount\":\"30000\",\"periodicPayment\":\"0\",\"tranches\":[],\"principalDue\":\"0\",\"principalPaid\":\"0\",\"principalBalance\":\"0\",\"redrawBalance\":\"0\",\"interestDue\":\"0\",\"interestPaid\":\"0\",\"interestFromArrearsBalance\":\"0\",\"interestFromArrearsDue\":\"0\",\"interestFromArrearsPaid\":\"0\",\"interestBalance\":\"0\",\"feesDue\":\"0\",\"feesPaid\":\"0\",\"feesBalance\":\"0\",\"penaltyDue\":\"0\",\"penaltyPaid\":\"0\",\"penaltyBalance\":\"0\",\"scheduleDueDatesMethod\":\"FIXED_DAYS_OF_MONTH\",\"prepaymentAcceptance\":\"ACCEPT_PREPAYMENTS\",\"futurePaymentsAcceptance\":\"NO_FUTURE_PAYMENTS\",\"hasCustomSchedule\":false,\"fixedDaysOfMonth\":[1],\"shortMonthHandlingMethod\":\"LAST_DAY_IN_MONTH\",\"repaymentInstallments\":0,\"gracePeriod\":0,\"gracePeriodType\":\"NONE\",\"interestRate\":\"24.9\",\"interestChargeFrequency\":\"ANNUALIZED\",\"interestCalculationMethod\":\"DECLINING_BALANCE\",\"interestType\":\"SIMPLE_INTEREST\",\"interestBalanceCalculationMethod\":\"PRINCIPAL_ONLY\",\"repaymentScheduleMethod\":\"DYNAMIC\",\"paymentMethod\":\"HORIZONTAL\",\"interestApplicationMethod\":\"ON_REPAYMENT\",\"accrueInterestAfterMaturity\":false,\"assignedBranchKey\":\"8a818f156ccf5fb1016cd2e8e4532b09\",\"principalRepaymentInterval\":1,\"interestRateSource\":\"INDEX_INTEREST_RATE\",\"interestRateReviewUnit\":\"DAYS\",\"interestRateReviewCount\":31,\"interestSpread\":\"0\",\"accruedInterest\":\"0\",\"interestFromArrearsAccrued\":\"0\",\"funds\":[],\"guarantees\":[],\"loanPenaltyCalculationMethod\":\"NONE\",\"principalPaymentSettings\":{\"percentage\":\"3\",\"encodedKey\":\"8a818fcb71362638017144c6cd102da1\",\"principalPaymentMethod\":\"TOTAL_BALANCE_PERCENTAGE\",\"includeInterestInFloorAmount\":false,\"includeFeesInFloorAmount\":false},\"disbursementDetails\":{\"encodedKey\":\"8a818fcb71362638017144c6cd102da2\",\"fees\":[]},\"arrearsTolerancePeriod\":0,\"accountArrearsSettings\":{\"tolerancePeriod\":0,\"encodedKey\":\"8a818fcb71362638017144c6cd102da3\",\"toleranceCalculationMethod\":\"ARREARS_TOLERANCE_PERIOD\",\"dateCalculationMethod\":\"DATE_ACCOUNT_FIRST_WENT_TO_ARREARS\",\"nonWorkingDaysMethod\":\"EXCLUDED\"},\"paymentPlan\":[],\"interestRoundingVersion\":\"VERSION_3\",\"prepaymentRecalculationMethod\":\"NO_RECALCULATION\",\"principalPaidInstallmentStatus\":\"PARTIALLY_PAID\",\"latePaymentsRecalculationMethod\":\"INCREASE_OVERDUE_INSTALLMENTS\",\"applyInterestOnPrepaymentMethod\":\"AUTOMATIC\",\"allowOffset\":false,\"accrueLateInterest\":true,\"holdBalance\":\"0\"}\n",
      "{\"encodedKey\":\"8a818fcb71362638017144c6cd102da0\",\"id\":\"FAXV867\",\"accountHolderType\":\"CLIENT\",\"accountHolderKey\":\"8a818eac71361c2f017144c65e663d81\",\"creationDate\":\"2020-04-04T12:40:11+02:00\",\"approvedDate\":\"2020-04-04T12:40:15+02:00\",\"lastModifiedDate\":\"2020-04-04T12:40:15+02:00\",\"accountState\":\"APPROVED\",\"productTypeKey\":\"8a818f5f6cbe6621016cbf6d66075e54\",\"creditArrangementKey\":\"8a818fe371407db0017144c665ef0a25\",\"loanName\":\"CC - Purchases\",\"loanAmount\":30000.0000000000,\"paymentMethod\":\"HORIZONTAL\",\"assignedBranchKey\":\"8a818f156ccf5fb1016cd2e8e4532b09\",\"accruedInterest\":0,\"interestFromArrearsAccrued\":0,\"allowOffset\":false,\"arrearsTolerancePeriod\":0,\"accountArrearsSettings\":{\"encodedKey\":\"8a818fcb71362638017144c6cd102da3\",\"toleranceCalculationMethod\":\"ARREARS_TOLERANCE_PERIOD\",\"dateCalculationMethod\":\"ACCOUNT_FIRST_WENT_TO_ARREARS\",\"nonWorkingDaysMethod\":\"EXCLUDED\",\"tolerancePeriod\":0},\"latePaymentsRecalculationMethod\":\"OVERDUE_INSTALLMENTS_INCREASE\",\"balances\":{\"redrawBalance\":0,\"principalDue\":0,\"principalPaid\":0,\"principalBalance\":0,\"interestDue\":0,\"interestPaid\":0,\"interestBalance\":0,\"interestFromArrearsBalance\":0,\"interestFromArrearsDue\":0,\"interestFromArrearsPaid\":0,\"feesDue\":0,\"feesPaid\":0,\"feesBalance\":0,\"penaltyDue\":0,\"penaltyPaid\":0,\"penaltyBalance\":0,\"holdBalance\":0},\"principalPaymentSettings\":{\"encodedKey\":\"8a818fcb71362638017144c6cd102da1\",\"totalDuePayment\":\"TOTAL_BALANCE_PERCENTAGE\",\"includeInterestInFloorAmount\":false,\"includeFeesInFloorAmount\":false,\"percentage\":3.00000000000000000000},\"disbursementDetails\":{\"encodedKey\":\"8a818fcb71362638017144c6cd102da2\",\"fees\":[]},\"prepaymentSettings\":{\"prepaymentRecalculationMethod\":\"NO_RECALCULATION\",\"principalPaidInstallmentStatus\":\"PARTIALLY_PAID\",\"applyInterestOnPrepaymentMethod\":\"AUTOMATIC\"},\"penaltySettings\":{\"loanPenaltyCalculationMethod\":\"NONE\"},\"scheduleSettings\":{\"hasCustomSchedule\":false,\"principalRepaymentInterval\":1,\"gracePeriod\":0,\"gracePeriodType\":\"NONE\",\"repaymentInstallments\":0,\"shortMonthHandlingMethod\":\"LAST_DAY_IN_MONTH\",\"fixedDaysOfMonth\":[1],\"scheduleDueDatesMethod\":\"FIXED_DAYS_OF_MONTH\",\"periodicPayment\":0,\"repaymentScheduleMethod\":\"DYNAMIC\"},\"interestSettings\":{\"interestRateReviewCount\":31,\"interestRateReviewUnit\":\"DAYS\",\"interestRateSource\":\"INDEX_INTEREST_RATE\",\"accrueInterestAfterMaturity\":false,\"interestApplicationMethod\":\"REPAYMENT_DUE_DATE\",\"interestBalanceCalculationMethod\":\"ONLY_PRINCIPAL\",\"interestCalculationMethod\":\"DECLINING_BALANCE\",\"interestChargeFrequency\":\"ANNUALIZED\",\"interestSpread\":0,\"interestRate\":24.90000000000000000000,\"interestType\":\"SIMPLE_INTEREST\",\"accrueLateInterest\":true},\"futurePaymentsAcceptance\":\"NO_FUTURE_PAYMENTS\"}\n",
      "**********Finished ***********************\n",
      "\n",
      "585420596\n"
     ]
    }
   ],
   "source": [
    "createALL(\"Test\", \"Cust04043\")\n",
    "print(\"**********Finished ***********************\")\n",
    "print(\"\")\n",
    "print(custShortID)"
   ]
  },
  {
   "cell_type": "code",
   "execution_count": null,
   "metadata": {
    "scrolled": true
   },
   "outputs": [],
   "source": [
    "\n",
    "createInstalmentLoan(4000)\n",
    "\n"
   ]
  },
  {
   "cell_type": "code",
   "execution_count": null,
   "metadata": {},
   "outputs": [],
   "source": [
    "disburseLoan(\"NELC968\", 1000)"
   ]
  },
  {
   "cell_type": "code",
   "execution_count": 343,
   "metadata": {},
   "outputs": [
    {
     "name": "stdout",
     "output_type": "stream",
     "text": [
      "519155005\n"
     ]
    }
   ],
   "source": [
    "print(custShortID)"
   ]
  },
  {
   "cell_type": "code",
   "execution_count": null,
   "metadata": {},
   "outputs": [],
   "source": []
  }
 ],
 "metadata": {
  "kernelspec": {
   "display_name": "Python 3",
   "language": "python",
   "name": "python3"
  },
  "language_info": {
   "codemirror_mode": {
    "name": "ipython",
    "version": 3
   },
   "file_extension": ".py",
   "mimetype": "text/x-python",
   "name": "python",
   "nbconvert_exporter": "python",
   "pygments_lexer": "ipython3",
   "version": "3.7.8"
  }
 },
 "nbformat": 4,
 "nbformat_minor": 2
}
