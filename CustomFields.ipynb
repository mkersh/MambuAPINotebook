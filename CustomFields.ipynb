{
 "cells": [
  {
   "cell_type": "markdown",
   "metadata": {},
   "source": [
    "# Custom Field Tests\n",
    "Notebook with examples of how to access custom fields from Mambu APIs"
   ]
  },
  {
   "cell_type": "code",
   "execution_count": 1,
   "metadata": {},
   "outputs": [],
   "source": [
    "%run API.py\n",
    "%run ENV.py\n",
    "from IPython.core.display import HTML\n",
    "setENV(ENV)"
   ]
  },
  {
   "cell_type": "markdown",
   "metadata": {},
   "source": [
    "## Using API 2.0 to read existing values\n",
    "hint: detailsLevel = FULL needed"
   ]
  },
  {
   "cell_type": "code",
   "execution_count": 3,
   "metadata": {},
   "outputs": [
    {
     "name": "stdout",
     "output_type": "stream",
     "text": [
      "API status: 200\n",
      "JSON Response:\n",
      "{\n",
      "    \"_MKExtraCustomer\": {\n",
      "        \"MyCustomerField1\": \"Custom Field Value 123456789\"\n",
      "    },\n",
      "    \"addresses\": [],\n",
      "    \"approvedDate\": \"2019-04-10T21:15:00+02:00\",\n",
      "    \"assignedBranchKey\": \"8a81867d6a01398b016a01a0552b006a\",\n",
      "    \"clientRoleKey\": \"8a818e74677a2e9201677ec2b4c336aa\",\n",
      "    \"creationDate\": \"2019-04-10T21:14:59+02:00\",\n",
      "    \"encodedKey\": \"8a8186ca6a023000016a08acbd7b45af\",\n",
      "    \"firstName\": \"Alex\",\n",
      "    \"groupLoanCycle\": 0,\n",
      "    \"id\": \"443651965\",\n",
      "    \"idDocuments\": [],\n",
      "    \"lastModifiedDate\": \"2019-04-10T21:14:59+02:00\",\n",
      "    \"lastName\": \"Yen\",\n",
      "    \"loanCycle\": 0,\n",
      "    \"notes\": \"\",\n",
      "    \"preferredLanguage\": \"ENGLISH\",\n",
      "    \"state\": \"INACTIVE\"\n",
      "}\n"
     ]
    }
   ],
   "source": [
    "HEADERS = {'Accept': 'application/vnd.mambu.v2+json'}\n",
    "PARAMS = {'detailsLevel': 'FULL'}\n",
    "r = GET('{{env1}}/clients/443651965', headers=HEADERS, params=PARAMS)\n",
    "PRINT(r)"
   ]
  },
  {
   "cell_type": "code",
   "execution_count": 4,
   "metadata": {},
   "outputs": [
    {
     "name": "stdout",
     "output_type": "stream",
     "text": [
      "API status: 200\n",
      "JSON Response:\n",
      "[\n",
      "    {\n",
      "        \"customField\": {\n",
      "            \"amounts\": {},\n",
      "            \"creationDate\": \"2019-04-10T19:13:46+0000\",\n",
      "            \"customFieldSelectionOptions\": [],\n",
      "            \"customFieldSet\": {\n",
      "                \"createdDate\": \"2019-04-10T19:12:54+0000\",\n",
      "                \"encodedKey\": \"8a8186ca6a023000016a031710a90815\",\n",
      "                \"id\": \"_MKExtraCustomer\",\n",
      "                \"indexInList\": 3,\n",
      "                \"lastModifiedDate\": \"2019-04-10T19:12:54+0000\",\n",
      "                \"name\": \"MKExtraCustomer\",\n",
      "                \"notes\": \"\",\n",
      "                \"type\": \"CLIENT_INFO\",\n",
      "                \"usage\": \"SINGLE\"\n",
      "            },\n",
      "            \"dataType\": \"STRING\",\n",
      "            \"description\": \"\",\n",
      "            \"editRights\": {\n",
      "                \"encodedKey\": \"8a8186ca6a023000016a08ab9fb345a7\",\n",
      "                \"isAccessibleByAllUsers\": false,\n",
      "                \"roles\": []\n",
      "            },\n",
      "            \"encodedKey\": \"8a8186ca6a023000016a08ab9fb345a5\",\n",
      "            \"id\": \"MyCustomerField1\",\n",
      "            \"indexInList\": 9,\n",
      "            \"isDefault\": false,\n",
      "            \"isRequired\": false,\n",
      "            \"lastModifiedDate\": \"2019-04-12T06:02:42+0000\",\n",
      "            \"name\": \"MyCustomerField1\",\n",
      "            \"state\": \"NORMAL\",\n",
      "            \"type\": \"CLIENT_INFO\",\n",
      "            \"unique\": false,\n",
      "            \"valueLength\": \"SHORT\",\n",
      "            \"values\": [],\n",
      "            \"viewRights\": {\n",
      "                \"encodedKey\": \"8a8186ca6a023000016a08ab9fb345a6\",\n",
      "                \"isAccessibleByAllUsers\": false,\n",
      "                \"roles\": []\n",
      "            }\n",
      "        },\n",
      "        \"customFieldID\": \"MyCustomerField1\",\n",
      "        \"customFieldKey\": \"8a8186ca6a023000016a08ab9fb345a5\",\n",
      "        \"customFieldSetGroupIndex\": -1,\n",
      "        \"encodedKey\": \"8a8186ca6a023000016a08acbd7b45b0\",\n",
      "        \"indexInList\": 0,\n",
      "        \"parentKey\": \"8a8186ca6a023000016a08acbd7b45af\",\n",
      "        \"value\": \"Custom Field Value 123456789\"\n",
      "    }\n",
      "]\n"
     ]
    }
   ],
   "source": [
    "HEADERS = {}\n",
    "PARAMS = {}\n",
    "r = GET('{{env1}}/clients/443651965/custominformation/MyCustomerField1', headers=HEADERS, params=PARAMS)\n",
    "PRINT(r)"
   ]
  },
  {
   "cell_type": "code",
   "execution_count": null,
   "metadata": {},
   "outputs": [],
   "source": []
  }
 ],
 "metadata": {
  "kernelspec": {
   "display_name": "Python 3",
   "language": "python",
   "name": "python3"
  },
  "language_info": {
   "codemirror_mode": {
    "name": "ipython",
    "version": 3
   },
   "file_extension": ".py",
   "mimetype": "text/x-python",
   "name": "python",
   "nbconvert_exporter": "python",
   "pygments_lexer": "ipython3",
   "version": "3.7.8"
  }
 },
 "nbformat": 4,
 "nbformat_minor": 2
}
