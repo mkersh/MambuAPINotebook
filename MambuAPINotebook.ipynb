{
 "cells": [
  {
   "cell_type": "markdown",
   "metadata": {},
   "source": [
    "<a id=\"sectionx\"></a>\n",
    "# Mambu API - Notebook\n",
    "* [Introduction](#section0)\n",
    "* [Branches](#section1)\n",
    "* [Customer](#section2)\n",
    "* [Product Types](#section3)\n",
    "* [Loan Accounts](#section4)\n",
    "* [Deposit Accounts](#section5)\n",
    "* [General Ledger - Accounting](#section6)\n",
    "* [Users](#section7)\n",
    "* [Tasks](#section8)\n",
    "* [Custom Views](#section81)\n",
    "* [Documents](#section9)\n",
    "* [Fees](#section10)\n",
    "* [Cards](#section11)\n",
    "* [Audit Trail](#section12)\n",
    "* [Custom Field Filtering](#section13)\n",
    "\n",
    "<a id=\"sectionx\"></a>\n",
    "\n",
    "\n",
    "GitHub: https://github.com/MkershMambu/MambuAPINotebook.git\n",
    "\n",
    "Viewer: [https://nbviewer.jupyter.org/github/MkershMambu/MambuAPINotebook/blob/master/MambuAPINotebook.ipynb](https://nbviewer.jupyter.org/github/MkershMambu/MambuAPINotebook/blob/master/MambuAPINotebook.ipynb?flush_cache=true)\n",
    "\n",
    "\n"
   ]
  },
  {
   "cell_type": "markdown",
   "metadata": {},
   "source": [
    "<a id=\"section0\"></a>\n",
    "## Introduction\n",
    "[Mark Kershaw](https://www.linkedin.com/in/mkersh/): This is my Jupyter notebook to test Mambu API's.\n",
    "\n",
    "It is **NOT** official Mambu documentation for APIs. For official documention visit:\n",
    "\n",
    "* https://api.mambu.com/ - For v2.0 APIs\n",
    "   * OR https://&lt;yourdomain&gt;.sandbox.mambu.com/apidocs/\n",
    "* https://support.mambu.com/docs/developer - For v1.0 APIs\n",
    "\n",
    "\n",
    "It is also an evolving document. I will be adding examples of how to do things using the APIs on an incremental basis.\n",
    "\n",
    "### Notes\n",
    "1. In General throughout the examples I will be using API v2.0 where possible and only reverting to API 1.0 when necessary.\n",
    "1. [Instructions on how to install and run your own Python Jupyter environment](https://drive.google.com/open?id=1hYEnwXf4Ndd9IZG7xn6lzOBag0DXwEeVX_T-QavoVWg)\n",
    "1. The JSON API calls in this notebook use helper functions defined in API.py file\n",
    "1. The API calls can reference environment variable e.g {{env1}}. These environment variables are expected to be defined in a local ENV.py file\n",
    "1. To call Mambu API v2.0 you always need to send the \"Accept: 'application/vnd.mambu.v2+json'\" header\n",
    "1. To execeute individual cells in this notebook use SHIFT+Return\n",
    "\n"
   ]
  },
  {
   "cell_type": "code",
   "execution_count": 1,
   "metadata": {},
   "outputs": [],
   "source": [
    "%run API.py\n",
    "%run ENV.py\n",
    "from IPython.core.display import HTML\n",
    "setENV(ENV)"
   ]
  },
  {
   "cell_type": "markdown",
   "metadata": {},
   "source": [
    "<a id=\"section1\"></a>\n",
    "[back](#sectionx)\n",
    "## Branches"
   ]
  },
  {
   "cell_type": "markdown",
   "metadata": {},
   "source": [
    "### List all branches"
   ]
  },
  {
   "cell_type": "code",
   "execution_count": 2,
   "metadata": {},
   "outputs": [
    {
     "name": "stdout",
     "output_type": "stream",
     "text": [
      "API status: 200\n",
      "JSON Response:\n",
      "[\n",
      "    {\n",
      "        \"addresses\": [],\n",
      "        \"branchHolidays\": [],\n",
      "        \"creationDate\": \"2018-12-12T17:35:12+01:00\",\n",
      "        \"emailAddress\": \"\",\n",
      "        \"encodedKey\": \"8a81872d6787e9f30167a344a74e4e1c\",\n",
      "        \"id\": \"1\",\n",
      "        \"lastModifiedDate\": \"2018-12-12T17:35:12+01:00\",\n",
      "        \"name\": \"Head Office\",\n",
      "        \"notes\": \"\",\n",
      "        \"phoneNumber\": \"\",\n",
      "        \"state\": \"ACTIVE\"\n",
      "    },\n",
      "    {\n",
      "        \"addresses\": [],\n",
      "        \"branchHolidays\": [],\n",
      "        \"creationDate\": \"2018-12-12T17:35:50+01:00\",\n",
      "        \"emailAddress\": \"\",\n",
      "        \"encodedKey\": \"8a81872d6787e9f30167a344a74e4e1e\",\n",
      "        \"id\": \"2\",\n",
      "        \"lastModifiedDate\": \"2018-12-12T17:35:50+01:00\",\n",
      "        \"name\": \"Branch1\",\n",
      "        \"notes\": \"\",\n",
      "        \"phoneNumber\": \"\",\n",
      "        \"state\": \"ACTIVE\"\n",
      "    },\n",
      "    {\n",
      "        \"addresses\": [],\n",
      "        \"branchHolidays\": [],\n",
      "        \"creationDate\": \"2018-12-12T17:36:06+01:00\",\n",
      "        \"emailAddress\": \"\",\n",
      "        \"encodedKey\": \"8a81872d6787e9f30167a34680bd4e20\",\n",
      "        \"id\": \"3\",\n",
      "        \"lastModifiedDate\": \"2018-12-12T17:36:06+01:00\",\n",
      "        \"name\": \"Branch2\",\n",
      "        \"notes\": \"\",\n",
      "        \"phoneNumber\": \"\",\n",
      "        \"state\": \"ACTIVE\"\n",
      "    },\n",
      "    {\n",
      "        \"addresses\": [],\n",
      "        \"branchHolidays\": [],\n",
      "        \"creationDate\": \"2018-12-23T08:26:43+01:00\",\n",
      "        \"emailAddress\": \"\",\n",
      "        \"encodedKey\": \"8a81872267d9ee480167d9f46a330009\",\n",
      "        \"id\": \"ADMIN1\",\n",
      "        \"lastModifiedDate\": \"2018-12-23T08:28:28+01:00\",\n",
      "        \"name\": \"Administration\",\n",
      "        \"notes\": \"Pseudo branch used to define common extensions to products<div><br></div><div>Centres within this pseudo branch will relate to product extensions</div>\",\n",
      "        \"phoneNumber\": \"\",\n",
      "        \"state\": \"ACTIVE\"\n",
      "    },\n",
      "    {\n",
      "        \"addresses\": [],\n",
      "        \"branchHolidays\": [],\n",
      "        \"creationDate\": \"2019-01-30T15:15:02+01:00\",\n",
      "        \"emailAddress\": \"\",\n",
      "        \"encodedKey\": \"8a8187cc689e66fc01689f1c452000d8\",\n",
      "        \"id\": \"MPOTest1\",\n",
      "        \"lastModifiedDate\": \"2019-01-30T15:15:02+01:00\",\n",
      "        \"name\": \"MPOTest1\",\n",
      "        \"notes\": \"\",\n",
      "        \"phoneNumber\": \"\",\n",
      "        \"state\": \"ACTIVE\"\n",
      "    },\n",
      "    {\n",
      "        \"addresses\": [],\n",
      "        \"branchHolidays\": [],\n",
      "        \"creationDate\": \"2019-01-31T16:01:04+01:00\",\n",
      "        \"emailAddress\": \"\",\n",
      "        \"encodedKey\": \"8a8187fd68a4569e0168a46ac4ed0038\",\n",
      "        \"id\": \"MPOSBranch2\",\n",
      "        \"lastModifiedDate\": \"2019-01-31T16:01:04+01:00\",\n",
      "        \"name\": \"MPOBranch2\",\n",
      "        \"notes\": \"\",\n",
      "        \"phoneNumber\": \"\",\n",
      "        \"state\": \"ACTIVE\"\n",
      "    },\n",
      "    {\n",
      "        \"addresses\": [],\n",
      "        \"branchHolidays\": [],\n",
      "        \"creationDate\": \"2019-02-26T07:29:59+01:00\",\n",
      "        \"emailAddress\": \"\",\n",
      "        \"encodedKey\": \"8a8186ac692678910169287cf43606af\",\n",
      "        \"id\": \"FUNCTEST\",\n",
      "        \"lastModifiedDate\": \"2019-02-26T07:29:59+01:00\",\n",
      "        \"name\": \"Func Tests\",\n",
      "        \"notes\": \"Test branch to experiment with Mambu functionality\",\n",
      "        \"phoneNumber\": \"\",\n",
      "        \"state\": \"ACTIVE\"\n",
      "    },\n",
      "    {\n",
      "        \"addresses\": [],\n",
      "        \"branchHolidays\": [],\n",
      "        \"creationDate\": \"2019-04-02T08:06:09+02:00\",\n",
      "        \"emailAddress\": \"\",\n",
      "        \"encodedKey\": \"8a81874769d943930169dca6303d22e8\",\n",
      "        \"id\": \"CollateralTests\",\n",
      "        \"lastModifiedDate\": \"2019-04-02T08:06:09+02:00\",\n",
      "        \"name\": \"CollateralTests\",\n",
      "        \"notes\": \"\",\n",
      "        \"phoneNumber\": \"\",\n",
      "        \"state\": \"ACTIVE\"\n",
      "    },\n",
      "    {\n",
      "        \"addresses\": [],\n",
      "        \"branchHolidays\": [],\n",
      "        \"creationDate\": \"2019-04-09T12:24:53+02:00\",\n",
      "        \"emailAddress\": \"\",\n",
      "        \"encodedKey\": \"8a81867d6a01398b016a01a0552b006a\",\n",
      "        \"id\": \"CurrencyTests\",\n",
      "        \"lastModifiedDate\": \"2019-04-09T12:24:53+02:00\",\n",
      "        \"name\": \"CurrencyTests\",\n",
      "        \"notes\": \"\",\n",
      "        \"phoneNumber\": \"\",\n",
      "        \"state\": \"ACTIVE\"\n",
      "    },\n",
      "    {\n",
      "        \"addresses\": [\n",
      "            {\n",
      "                \"encodedKey\": \"8a8186016a73c831016a77fe7fcf2b22\",\n",
      "                \"indexInList\": -1,\n",
      "                \"parentKey\": \"8a8186016a73c831016a77fe7fcf2b21\"\n",
      "            }\n",
      "        ],\n",
      "        \"branchHolidays\": [],\n",
      "        \"creationDate\": \"2019-05-02T12:02:47+02:00\",\n",
      "        \"emailAddress\": \"\",\n",
      "        \"encodedKey\": \"8a8186016a73c831016a77fe7fcf2b21\",\n",
      "        \"id\": \"FDROLLAPP\",\n",
      "        \"lastModifiedDate\": \"2019-05-02T12:02:47+02:00\",\n",
      "        \"name\": \"FD Rollover App\",\n",
      "        \"notes\": \"\",\n",
      "        \"phoneNumber\": \"\",\n",
      "        \"state\": \"ACTIVE\"\n",
      "    },\n",
      "    {\n",
      "        \"addresses\": [\n",
      "            {\n",
      "                \"encodedKey\": \"8a81862a6b6a9f53016b709aa31244df\",\n",
      "                \"indexInList\": -1,\n",
      "                \"parentKey\": \"8a81862a6b6a9f53016b709aa31244de\"\n",
      "            }\n",
      "        ],\n",
      "        \"branchHolidays\": [],\n",
      "        \"creationDate\": \"2019-06-19T18:38:31+02:00\",\n",
      "        \"emailAddress\": \"\",\n",
      "        \"encodedKey\": \"8a81862a6b6a9f53016b709aa31244de\",\n",
      "        \"id\": \"ProdTest1\",\n",
      "        \"lastModifiedDate\": \"2019-06-19T18:38:31+02:00\",\n",
      "        \"name\": \"Product Tests\",\n",
      "        \"notes\": \"\",\n",
      "        \"phoneNumber\": \"\",\n",
      "        \"state\": \"ACTIVE\"\n",
      "    },\n",
      "    {\n",
      "        \"addresses\": [\n",
      "            {\n",
      "                \"encodedKey\": \"8a8186af6e4f6cdd016e4f815cb101f1\",\n",
      "                \"indexInList\": -1,\n",
      "                \"parentKey\": \"8a8186af6e4f6cdd016e4f815cb101f0\"\n",
      "            }\n",
      "        ],\n",
      "        \"branchHolidays\": [],\n",
      "        \"creationDate\": \"2019-11-09T10:32:39+01:00\",\n",
      "        \"emailAddress\": \"\",\n",
      "        \"encodedKey\": \"8a8186af6e4f6cdd016e4f815cb101f0\",\n",
      "        \"id\": \"LargeAccountTest\",\n",
      "        \"lastModifiedDate\": \"2019-11-09T10:32:39+01:00\",\n",
      "        \"name\": \"LargeAccountTest\",\n",
      "        \"notes\": \"\",\n",
      "        \"phoneNumber\": \"\",\n",
      "        \"state\": \"ACTIVE\"\n",
      "    },\n",
      "    {\n",
      "        \"addresses\": [\n",
      "            {\n",
      "                \"encodedKey\": \"8a8186f06e54eda4016e559e66c3050c\",\n",
      "                \"indexInList\": -1,\n",
      "                \"parentKey\": \"8a8186f06e54eda4016e559e66c3050b\"\n",
      "            }\n",
      "        ],\n",
      "        \"branchHolidays\": [],\n",
      "        \"creationDate\": \"2019-11-10T15:02:08+01:00\",\n",
      "        \"emailAddress\": \"\",\n",
      "        \"encodedKey\": \"8a8186f06e54eda4016e559e66c3050b\",\n",
      "        \"id\": \"kyber1\",\n",
      "        \"lastModifiedDate\": \"2019-11-10T15:02:08+01:00\",\n",
      "        \"name\": \"Kyber Interest Calcs\",\n",
      "        \"notes\": \"\",\n",
      "        \"phoneNumber\": \"\",\n",
      "        \"state\": \"ACTIVE\"\n",
      "    },\n",
      "    {\n",
      "        \"addresses\": [\n",
      "            {\n",
      "                \"encodedKey\": \"8a81874d6e5fba7e016e6087556040d0\",\n",
      "                \"indexInList\": -1,\n",
      "                \"parentKey\": \"8a81874d6e5fba7e016e6087556040cf\"\n",
      "            }\n",
      "        ],\n",
      "        \"branchHolidays\": [],\n",
      "        \"creationDate\": \"2019-11-12T17:52:20+01:00\",\n",
      "        \"emailAddress\": \"\",\n",
      "        \"encodedKey\": \"8a81874d6e5fba7e016e6087556040cf\",\n",
      "        \"id\": \"LizTestBranch\",\n",
      "        \"lastModifiedDate\": \"2019-11-12T17:52:20+01:00\",\n",
      "        \"name\": \"LizTestBranch\",\n",
      "        \"notes\": \"\",\n",
      "        \"phoneNumber\": \"\",\n",
      "        \"state\": \"ACTIVE\"\n",
      "    },\n",
      "    {\n",
      "        \"addresses\": [\n",
      "            {\n",
      "                \"encodedKey\": \"8a8187106e751c66016e751c66d70002\",\n",
      "                \"indexInList\": -1,\n",
      "                \"parentKey\": \"8a8187106e751c66016e751c66d70001\"\n",
      "            }\n",
      "        ],\n",
      "        \"branchHolidays\": [],\n",
      "        \"creationDate\": \"2019-11-16T17:48:39+01:00\",\n",
      "        \"emailAddress\": \"\",\n",
      "        \"encodedKey\": \"8a8187106e751c66016e751c66d70001\",\n",
      "        \"id\": \"MarkTest\",\n",
      "        \"lastModifiedDate\": \"2019-11-16T17:48:39+01:00\",\n",
      "        \"name\": \"MarkTest\",\n",
      "        \"notes\": \"<br>\",\n",
      "        \"phoneNumber\": \"\",\n",
      "        \"state\": \"ACTIVE\"\n",
      "    },\n",
      "    {\n",
      "        \"addresses\": [\n",
      "            {\n",
      "                \"encodedKey\": \"8a8187136eaec3f5016eb324a5242dd9\",\n",
      "                \"indexInList\": -1,\n",
      "                \"parentKey\": \"8a8187136eaec3f5016eb324a5242dd8\"\n",
      "            }\n",
      "        ],\n",
      "        \"branchHolidays\": [],\n",
      "        \"creationDate\": \"2019-11-28T18:53:18+01:00\",\n",
      "        \"emailAddress\": \"\",\n",
      "        \"encodedKey\": \"8a8187136eaec3f5016eb324a5242dd8\",\n",
      "        \"id\": \"IntCalcTest\",\n",
      "        \"lastModifiedDate\": \"2019-11-28T18:53:18+01:00\",\n",
      "        \"name\": \"Interest Calc Tests\",\n",
      "        \"notes\": \"\",\n",
      "        \"phoneNumber\": \"\",\n",
      "        \"state\": \"ACTIVE\"\n",
      "    },\n",
      "    {\n",
      "        \"addresses\": [\n",
      "            {\n",
      "                \"encodedKey\": \"8a8187706f3514d1016f384c6b5e0763\",\n",
      "                \"indexInList\": -1,\n",
      "                \"parentKey\": \"8a8187706f3514d1016f384c6b5e0762\"\n",
      "            }\n",
      "        ],\n",
      "        \"branchHolidays\": [],\n",
      "        \"creationDate\": \"2019-12-24T15:25:30+01:00\",\n",
      "        \"emailAddress\": \"\",\n",
      "        \"encodedKey\": \"8a8187706f3514d1016f384c6b5e0762\",\n",
      "        \"id\": \"nCino1\",\n",
      "        \"lastModifiedDate\": \"2019-12-24T15:25:30+01:00\",\n",
      "        \"name\": \"nCino Tests\",\n",
      "        \"notes\": \"\",\n",
      "        \"phoneNumber\": \"\",\n",
      "        \"state\": \"ACTIVE\"\n",
      "    },\n",
      "    {\n",
      "        \"addresses\": [\n",
      "            {\n",
      "                \"encodedKey\": \"8a81869b7057feec01705dde63ba4717\",\n",
      "                \"indexInList\": -1,\n",
      "                \"parentKey\": \"8a81869b7057feec01705dde63ba4716\"\n",
      "            }\n",
      "        ],\n",
      "        \"branchHolidays\": [],\n",
      "        \"creationDate\": \"2020-02-20T14:18:57+01:00\",\n",
      "        \"emailAddress\": \"\",\n",
      "        \"encodedKey\": \"8a81869b7057feec01705dde63ba4716\",\n",
      "        \"id\": \"cctest1\",\n",
      "        \"lastModifiedDate\": \"2020-02-20T14:18:57+01:00\",\n",
      "        \"name\": \"CC Test\",\n",
      "        \"notes\": \"\",\n",
      "        \"phoneNumber\": \"\",\n",
      "        \"state\": \"ACTIVE\"\n",
      "    },\n",
      "    {\n",
      "        \"addresses\": [\n",
      "            {\n",
      "                \"encodedKey\": \"8a8187b573b2da480173b2dc87ac000c\",\n",
      "                \"indexInList\": -1,\n",
      "                \"parentKey\": \"8a8187b573b2da480173b2dc87ac000b\"\n",
      "            }\n",
      "        ],\n",
      "        \"branchHolidays\": [],\n",
      "        \"creationDate\": \"2020-08-03T07:49:08+02:00\",\n",
      "        \"emailAddress\": \"\",\n",
      "        \"encodedKey\": \"8a8187b573b2da480173b2dc87ac000b\",\n",
      "        \"id\": \"CreditArrangementTests\",\n",
      "        \"lastModifiedDate\": \"2020-08-03T07:49:08+02:00\",\n",
      "        \"name\": \"CreditArrangementTests\",\n",
      "        \"notes\": \"\",\n",
      "        \"phoneNumber\": \"\",\n",
      "        \"state\": \"ACTIVE\"\n",
      "    }\n",
      "]\n"
     ]
    }
   ],
   "source": [
    "HEADERS = {'Accept': 'application/vnd.mambu.v2+json'}\n",
    "PARAMS = {'detailsLevel': 'FULL'}\n",
    "r = GET('{{env1}}/branches', headers=HEADERS, params=PARAMS)\n",
    "PRINT(r)"
   ]
  },
  {
   "cell_type": "markdown",
   "metadata": {},
   "source": [
    "<a id=\"section2\"></a>\n",
    "[back](#sectionx)\n",
    "## Customer\n",
    "* [Get List of Customers](#section2a)\n",
    "* [Get Individual Customer](#section2b)\n",
    "* [Create Customer](#section2c)\n",
    "* [Update Customer](#section2d1)\n",
    "* [Patch Customer](#section2d)\n",
    "* [Delete Customer](#section2e)"
   ]
  },
  {
   "cell_type": "markdown",
   "metadata": {},
   "source": [
    "<a id=\"section2a\"></a>\n",
    "[back](#section2)\n",
    "### Get List of Customers"
   ]
  },
  {
   "cell_type": "markdown",
   "metadata": {},
   "source": [
    "#### Get all customers from a Mambu instance"
   ]
  },
  {
   "cell_type": "code",
   "execution_count": null,
   "metadata": {},
   "outputs": [],
   "source": [
    "HEADERS = {'Accept': 'application/vnd.mambu.v2+json'}\n",
    "PARAMS = {'detailsLevel': 'FULL'}\n",
    "r = GET('{{env1}}/clients', headers=HEADERS, params=PARAMS)\n",
    "# PRINT(r)\n",
    "printCustomers(r)"
   ]
  },
  {
   "cell_type": "markdown",
   "metadata": {},
   "source": [
    "#### Get customers using pagination \n",
    "\n",
    "*Get first page of results*"
   ]
  },
  {
   "cell_type": "code",
   "execution_count": null,
   "metadata": {},
   "outputs": [],
   "source": [
    "HEADERS = {'Accept': 'application/vnd.mambu.v2+json'}\n",
    "PARAMS = {'paginationDetails': 'ON', 'limit': 2}\n",
    "r = GET('{{env1}}/clients', headers=HEADERS, params=PARAMS)\n",
    "# PRINT(r)\n",
    "printCustomers(r)"
   ]
  },
  {
   "cell_type": "code",
   "execution_count": null,
   "metadata": {},
   "outputs": [],
   "source": [
    "# Info about the page returned in the response headers\n",
    "print(r.headers)"
   ]
  },
  {
   "cell_type": "markdown",
   "metadata": {},
   "source": [
    "*Get 2nd page of results*"
   ]
  },
  {
   "cell_type": "code",
   "execution_count": null,
   "metadata": {},
   "outputs": [],
   "source": [
    "HEADERS = {'Accept': 'application/vnd.mambu.v2+json'}\n",
    "PARAMS = {'paginationDetails': 'ON', 'limit': 2, 'offset': 2}\n",
    "r = GET('{{env1}}/clients', headers=HEADERS, params=PARAMS)\n",
    "# PRINT(r)\n",
    "printCustomers(r)"
   ]
  },
  {
   "cell_type": "markdown",
   "metadata": {},
   "source": [
    "*Get 3rd page of results*"
   ]
  },
  {
   "cell_type": "code",
   "execution_count": null,
   "metadata": {},
   "outputs": [],
   "source": [
    "HEADERS = {'Accept': 'application/vnd.mambu.v2+json'}\n",
    "# Extract details of where we are upto from the response.headers of the previous result\n",
    "previousResponseHeaders = r.headers\n",
    "pageLimit = int(previousResponseHeaders['Items-Limit'])\n",
    "nextOffset = int(previousResponseHeaders['Items-Offset']) + pageLimit\n",
    "PARAMS = {'paginationDetails': 'ON', 'limit': pageLimit, 'offset': nextOffset}\n",
    "\n",
    "r = GET('{{env1}}/clients', headers=HEADERS, params=PARAMS)\n",
    "# PRINT(r)\n",
    "printCustomers(r)"
   ]
  },
  {
   "cell_type": "markdown",
   "metadata": {},
   "source": [
    "#### Get FULL or BASIC customer details back\n",
    "\n",
    "detailsLevel := ( FULL | BASIC )\n"
   ]
  },
  {
   "cell_type": "code",
   "execution_count": null,
   "metadata": {},
   "outputs": [],
   "source": [
    "HEADERS = {'Accept': 'application/vnd.mambu.v2+json'}\n",
    "PARAMS = {'paginationDetails': 'ON', 'limit': 1, 'detailsLevel': 'FULL'}\n",
    "r = GET('{{env1}}/clients', headers=HEADERS, params=PARAMS)\n",
    "PRINT(r)"
   ]
  },
  {
   "cell_type": "code",
   "execution_count": null,
   "metadata": {},
   "outputs": [],
   "source": [
    "HEADERS = {'Accept': 'application/vnd.mambu.v2+json'}\n",
    "PARAMS = {'paginationDetails': 'ON', 'limit': 1, 'detailsLevel': 'BASIC'}\n",
    "r = GET('{{env1}}/clients', headers=HEADERS, params=PARAMS)\n",
    "PRINT(r)"
   ]
  },
  {
   "cell_type": "markdown",
   "metadata": {},
   "source": [
    "#### Filter customers on state\n",
    "\n",
    "state := (PENDING_APPROVAL | INACTIVE | ACTIVE | EXITED | BLACKLISTED | REJECTED)"
   ]
  },
  {
   "cell_type": "code",
   "execution_count": null,
   "metadata": {},
   "outputs": [],
   "source": [
    "HEADERS = {'Accept': 'application/vnd.mambu.v2+json'}\n",
    "PARAMS = {'paginationDetails': 'ON', 'limit': 20, 'state': 'ACTIVE'}\n",
    "r = GET('{{env1}}/clients', headers=HEADERS, params=PARAMS)\n",
    "# PRINT(r)\n",
    "printCustomers(r)"
   ]
  },
  {
   "cell_type": "markdown",
   "metadata": {},
   "source": [
    "#### Filter on firstName"
   ]
  },
  {
   "cell_type": "code",
   "execution_count": null,
   "metadata": {},
   "outputs": [],
   "source": [
    "HEADERS = {'Accept': 'application/vnd.mambu.v2+json'}\n",
    "PARAMS = {'paginationDetails': 'ON', 'limit': 20, 'firstName': 'Jim'}\n",
    "r = GET('{{env1}}/clients', headers=HEADERS, params=PARAMS)\n",
    "# PRINT(r)\n",
    "printCustomers(r)"
   ]
  },
  {
   "cell_type": "markdown",
   "metadata": {},
   "source": [
    "#### Filter on Branch"
   ]
  },
  {
   "cell_type": "code",
   "execution_count": null,
   "metadata": {},
   "outputs": [],
   "source": [
    "HEADERS = {'Accept': 'application/vnd.mambu.v2+json'}\n",
    "PARAMS = {'paginationDetails': 'ON', 'limit': 20, 'branchId': 'FUNCTEST'}\n",
    "r = GET('{{env1}}/clients', headers=HEADERS, params=PARAMS)\n",
    "# PRINT(r)\n",
    "printCustomers(r)"
   ]
  },
  {
   "cell_type": "markdown",
   "metadata": {},
   "source": [
    "#### Filter on Centre"
   ]
  },
  {
   "cell_type": "code",
   "execution_count": null,
   "metadata": {},
   "outputs": [],
   "source": [
    "HEADERS = {'Accept': 'application/vnd.mambu.v2+json'}\n",
    "PARAMS = {'detailsLevel': 'FULL', 'paginationDetails': 'ON', 'limit': 20, 'centreId': 'FCentre1'}\n",
    "r = GET('{{env1}}/clients', headers=HEADERS, params=PARAMS)\n",
    "# PRINT(r)\n",
    "printCustomers(r)"
   ]
  },
  {
   "cell_type": "markdown",
   "metadata": {},
   "source": [
    "<a id=\"section2b\"></a>\n",
    "[back](#section2)\n",
    "### Get Individual Customer"
   ]
  },
  {
   "cell_type": "code",
   "execution_count": null,
   "metadata": {
    "scrolled": true
   },
   "outputs": [],
   "source": [
    "HEADERS = {'Accept': 'application/vnd.mambu.v2+json'}\n",
    "PARAMS = {'detailsLevel': 'FULL'}\n",
    "r = GET('{{env1}}/clients/443651965', headers=HEADERS, params=PARAMS)\n",
    "PRINT(r)"
   ]
  },
  {
   "cell_type": "code",
   "execution_count": null,
   "metadata": {},
   "outputs": [],
   "source": []
  },
  {
   "cell_type": "markdown",
   "metadata": {},
   "source": [
    "<a id=\"section2c\"></a>\n",
    "[back](#section2)\n",
    "### Create Customer"
   ]
  },
  {
   "cell_type": "code",
   "execution_count": null,
   "metadata": {},
   "outputs": [],
   "source": [
    "%%writefile JSONBODY\n",
    "{\n",
    "\"firstName\": \"Dominic\",\n",
    "\"lastName\": \"Kershaw\",\n",
    "\"preferredLanguage\": \"ENGLISH\",\n",
    "\"addresses\": [\n",
    "    {\n",
    "      \"country\": \"UK\",\n",
    "      \"city\": \"Liverpool\"\n",
    "    }\n",
    "],\n",
    "\"notes\": \"Some Notes on this person\",\n",
    "\"gender\": \"MALE\",\n",
    "  \n",
    "\"assignedBranchKey\": \"8a8186ac692678910169287cf43606af\",\n",
    "\"idDocuments\": [\n",
    "\t{\n",
    "\t\"documentType\": \"Passport\",\n",
    "    \"documentId\": \"0123456789\",\n",
    "    \"issuingAuthority\": \"UK\",\n",
    "    \"validUntil\": \"2020-02-06\",\n",
    "    \"identificationDocumentTemplateKey\": \"8a81879867f40eff0167f45206e8002b\"\n",
    "    }]\n",
    "}"
   ]
  },
  {
   "cell_type": "code",
   "execution_count": null,
   "metadata": {
    "scrolled": true
   },
   "outputs": [],
   "source": [
    "HEADERS = {'Accept': 'application/vnd.mambu.v2+json','Content-Type': 'application/json'}\n",
    "PARAMS = {}\n",
    "r = POST('{{env1}}/clients', headers=HEADERS, params=PARAMS, body=\"JSONBODY\")\n",
    "print (\"API status:\")\n",
    "print(r.status_code)\n",
    "print(\"Now the JSON:\")\n",
    "print(r.text)\n",
    "\n",
    "# Remember the ID of the customer created we will use it below \n",
    "newCustomerID = r.json()['id']"
   ]
  },
  {
   "cell_type": "markdown",
   "metadata": {},
   "source": [
    "<a id=\"section2d1\"></a>\n",
    "[back](#section2)\n",
    "### Update Customer"
   ]
  },
  {
   "cell_type": "code",
   "execution_count": null,
   "metadata": {},
   "outputs": [],
   "source": [
    "%%writefile JSONBODY\n",
    "[\n",
    "  {\n",
    "    \"op\": \"ADD\",\n",
    "    \"path\": \"firstName\",\n",
    "    \"value\": \"Jimxxxxx\"\n",
    "  }\n",
    "]"
   ]
  },
  {
   "cell_type": "code",
   "execution_count": null,
   "metadata": {},
   "outputs": [],
   "source": [
    "\n",
    "newCustomerID = \"145566212\"\n",
    "HEADERS = {'Accept': 'application/vnd.mambu.v2+json','Content-Type': 'application/json'}\n",
    "PARAMS = {}\n",
    "r = PUT('{{env1}}/clients/' + newCustomerID, headers=HEADERS, params=PARAMS, body=\"JSONBODY\")\n",
    "print (\"API status:\")\n",
    "print(r.status_code)\n",
    "print(\"Now the JSON:\")\n",
    "print(r.text)"
   ]
  },
  {
   "cell_type": "markdown",
   "metadata": {},
   "source": [
    "<a id=\"section2d\"></a>\n",
    "[back](#section2)\n",
    "### Patch Customer"
   ]
  },
  {
   "cell_type": "code",
   "execution_count": null,
   "metadata": {},
   "outputs": [],
   "source": [
    "%%writefile JSONBODY\n",
    "[\n",
    "  {\n",
    "    \"op\": \"ADD\",\n",
    "    \"path\": \"firstName\",\n",
    "    \"value\": \"Jimxxxxx\"\n",
    "  }\n",
    "]"
   ]
  },
  {
   "cell_type": "code",
   "execution_count": null,
   "metadata": {},
   "outputs": [],
   "source": [
    "HEADERS = {'Accept': 'application/vnd.mambu.v2+json','Content-Type': 'application/json'}\n",
    "PARAMS = {}\n",
    "r = PATCH('{{env1}}/clients/' + newCustomerID, headers=HEADERS, params=PARAMS, body=\"JSONBODY\")\n",
    "print (\"API status:\")\n",
    "print(r.status_code)\n",
    "print(\"Now the JSON:\")\n",
    "print(r.text)"
   ]
  },
  {
   "cell_type": "code",
   "execution_count": null,
   "metadata": {},
   "outputs": [],
   "source": [
    "HEADERS = {'Accept': 'application/vnd.mambu.v2+json'}\n",
    "PARAMS = {'detailsLevel': 'BASIC'}\n",
    "r = GET('{{env1}}/clients/' + newCustomerID, headers=HEADERS, params=PARAMS)\n",
    "PRINT(r)"
   ]
  },
  {
   "cell_type": "markdown",
   "metadata": {},
   "source": [
    "<a id=\"section2e\"></a>\n",
    "[back](#section2)\n",
    "### Delete Customer"
   ]
  },
  {
   "cell_type": "code",
   "execution_count": null,
   "metadata": {},
   "outputs": [],
   "source": [
    "HEADERS = {'Accept': 'application/vnd.mambu.v2+json'}\n",
    "PARAMS = {}\n",
    "r = DELETE(\"{{env1}}/clients/\" + newCustomerID, headers=HEADERS, params=PARAMS)\n",
    "PRINT(r)"
   ]
  },
  {
   "cell_type": "markdown",
   "metadata": {},
   "source": [
    "<a id=\"section3\"></a>\n",
    "[back](#sectionx)\n",
    "## Product Types\n",
    "* [Get a deposit product type (savings)](#section3a)\n",
    "* [Get a deposit product type (Current)](#section3b)\n",
    "* [Get a loan product type](#section3c)\n",
    "* [Create  a new deposit product](#section3d)\n",
    "* [Delete a Deposit product type](#section3e)\n",
    "* [Create a new Loan Product Type](#section3f)\n",
    "* [Delete a Loan product type](#section3g)\n",
    "* [Accessing Loan Schedule (API v1.0)](#section3h)"
   ]
  },
  {
   "cell_type": "markdown",
   "metadata": {},
   "source": [
    "[back](#section3)\n",
    "<a id=\"section3a\"></a>\n",
    "### Get a deposit product type (savings)\n"
   ]
  },
  {
   "cell_type": "code",
   "execution_count": null,
   "metadata": {},
   "outputs": [],
   "source": [
    "HEADERS = {'Accept': 'application/vnd.mambu.v2+json'}\n",
    "PARAMS = {'detailsLevel': 'FULL'} # NOTE: Only FULL supported\n",
    "r = GET('{{env1}}/depositproducts/SAV2', headers=HEADERS, params=PARAMS)\n",
    "PRINT(r)"
   ]
  },
  {
   "cell_type": "markdown",
   "metadata": {},
   "source": [
    "[back](#section3)\n",
    "<a id=\"section3b\"></a>\n",
    "### Get a deposit product type (Current)"
   ]
  },
  {
   "cell_type": "code",
   "execution_count": null,
   "metadata": {},
   "outputs": [],
   "source": [
    "HEADERS = {'Accept': 'application/vnd.mambu.v2+json'}\n",
    "PARAMS = {'detailsLevel': 'FULL'} # NOTE: Only FULL supported\n",
    "r = GET('{{env1}}/depositproducts/CurAcc2', headers=HEADERS, params=PARAMS)\n",
    "PRINT(r)"
   ]
  },
  {
   "cell_type": "markdown",
   "metadata": {},
   "source": [
    "[back](#section3)\n",
    "<a id=\"section3c\"></a>\n",
    "### Get a loan product type"
   ]
  },
  {
   "cell_type": "code",
   "execution_count": null,
   "metadata": {},
   "outputs": [],
   "source": [
    "HEADERS = {'Accept': 'application/vnd.mambu.v2+json'}\n",
    "PARAMS = {'detailsLevel': 'FULL'} # NOTE: Only FULL supported\n",
    "r = GET('{{env1}}/loanproducts/LD0201', headers=HEADERS, params=PARAMS)\n",
    "PRINT(r)"
   ]
  },
  {
   "cell_type": "markdown",
   "metadata": {},
   "source": [
    "[back](#section3)\n",
    "<a id=\"section3d\"></a>\n",
    "### Create  a new deposit product \n",
    "Best advice here is to GET an existing deposit product and then make adjustments "
   ]
  },
  {
   "cell_type": "code",
   "execution_count": null,
   "metadata": {},
   "outputs": [],
   "source": [
    "%%writefile JSONBODY\n",
    "{\n",
    "  \"notes\": \"New Deposit Product\",\n",
    " \n",
    "  \"availabilitySettings\": {\n",
    "    \"branchSettings\": {\n",
    "      \"forAllBranches\": true\n",
    "    },\n",
    "    \"availableFor\": [\n",
    "      \"INDIVIDUALS\"\n",
    "    ]\n",
    "  },\n",
    "  \n",
    "  \"type\": \"CURRENT_ACCOUNT\",\n",
    "  \"creditArrangementSettings\": {\n",
    "    \"creditArrangementRequirement\": \"OPTIONAL\"\n",
    "  },\n",
    "  \"currencySettings\": {\n",
    "    \"currencies\": [\n",
    "      {\n",
    "        \"code\": \"EUR\"\n",
    "      }\n",
    "    ]\n",
    "  },\n",
    "  \n",
    "  \"newAccountSettings\": {\n",
    "    \"idGeneratorType\": \"INCREMENTAL_NUMBER\",\n",
    "    \"idPattern\": \"@@@@###\"\n",
    "  },\n",
    "  \"interestSettings\": {\n",
    "    \"interestRateSettings\": {\n",
    "      \"interestRate\": {\n",
    "        \"minValue\": 0.1,\n",
    "        \"maxValue\": 5,\n",
    "        \"defaultValue\": 1\n",
    "      },\n",
    "      \"interestRateSource\": \"FIXED_INTEREST_RATE\",\n",
    "      \"interestChargeFrequency\": \"ANNUALIZED\",\n",
    "      \"accrueInterestAfterMaturity\": true,\n",
    "      \"interestRateTerms\": \"FIXED\",\n",
    "      \"interestChargeFrequencyCount\": 1\n",
    "    },\n",
    "    \"collectInterestWhenLocked\": true,\n",
    "    \"interestCalculationBalance\": \"MINIMUM\",\n",
    "    \"interestPaidIntoAccount\": true,\n",
    "    \"daysInYear\": \"ACTUAL_365_FIXED\",\n",
    "    \"interestPaymentSettings\": {\n",
    "     \n",
    "      \"interestPaymentPoint\": \"FIRST_DAY_OF_MONTH\"\n",
    "    }\n",
    "  },\n",
    "  \"accountingSettings\": {\n",
    "    \"accountingMethod\": \"NONE\",\n",
    "    \"interestAccruedAccountingMethod\": \"NONE\"\n",
    "  },\n",
    "  \"name\": \"MKDep03042019\",\n",
    "  \"id\": \"MKDep03042019\",\n",
    "  \"state\": \"ACTIVE\",\n",
    "  \"overdraftSettings\": {\n",
    "    \"allowOverdraft\": false,\n",
    "    \"allowTechnicalOverdraft\": false,\n",
    "    \"maxOverdraftLimit\": 0\n",
    "  },\n",
    "  \"internalControls\": {\n",
    "    \"dormancyPeriodDays\": 0,\n",
    "    \"recommendedDepositAmount\": 0,\n",
    "    \"openingBalance\": {\n",
    "      \"minValue\": 0,\n",
    "      \"maxValue\": 0,\n",
    "      \"defaultValue\": 0\n",
    "    },\n",
    "    \"maxWithdrawalAmount\": 0\n",
    "  }\n",
    "}"
   ]
  },
  {
   "cell_type": "code",
   "execution_count": null,
   "metadata": {},
   "outputs": [],
   "source": [
    "HEADERS = {'Accept': 'application/vnd.mambu.v2+json','Content-Type': 'application/json'}\n",
    "PARAMS = {}\n",
    "r = POST('{{env1}}/depositproducts', headers=HEADERS, params=PARAMS, body=\"JSONBODY\")\n",
    "print (\"API status:\")\n",
    "print(r.status_code)\n",
    "print(\"Now the JSON:\")\n",
    "print(r.text)"
   ]
  },
  {
   "cell_type": "markdown",
   "metadata": {},
   "source": [
    "[back](#section3)\n",
    "<a id=\"section3e\"></a>\n",
    "### Delete a Deposit product type"
   ]
  },
  {
   "cell_type": "code",
   "execution_count": null,
   "metadata": {},
   "outputs": [],
   "source": [
    "HEADERS = {'Accept': 'application/vnd.mambu.v2+json'}\n",
    "PARAMS = {}\n",
    "r = DELETE(\"{{env1}}/depositproducts/MKDep03042019\", headers=HEADERS, params=PARAMS)\n",
    "PRINT(r)"
   ]
  },
  {
   "cell_type": "markdown",
   "metadata": {},
   "source": [
    "[back](#section3)\n",
    "<a id=\"section3f\"></a>\n",
    "### Create a new Loan Product Type\n",
    "Best advice here is to GET an existing deposit product and then make adjustments"
   ]
  },
  {
   "cell_type": "code",
   "execution_count": null,
   "metadata": {},
   "outputs": [],
   "source": [
    "%%writefile JSONBODY\n",
    "{\n",
    "  \n",
    "  \"id\": \"MKLoan03042019\",\n",
    "  \"name\": \"MKLoan03042019\",\n",
    "  \"notes\": \"\",\n",
    "  \"type\": \"TRANCHED_LOAN\",\n",
    "  \"state\": \"ACTIVE\",\n",
    "  \"loanAmountSettings\": {\n",
    "    \"loanAmount\": {\n",
    "      \"minValue\": 5000.0000000000,\n",
    "      \"maxValue\": 1000000.0000000000,\n",
    "      \"defaultValue\": 20000.0000000000\n",
    "    },\n",
    "    \"trancheSettings\": {\n",
    "      \"maxNumberOfTranches\": 100\n",
    "    }\n",
    "  },\n",
    "  \"scheduleSettings\": {\n",
    "    \"repaymentScheduleMethod\": \"DYNAMIC\",\n",
    "    \"scheduleDueDatesMethod\": \"INTERVAL\",\n",
    "    \"defaultRepaymentPeriodCount\": 1,\n",
    "    \"repaymentPeriodUnit\": \"MONTHS\",\n",
    "    \"fixedDaysOfMonth\": [],\n",
    "    \"roundingSettings\": {\n",
    "      \"roundingRepaymentScheduleMethod\": \"ROUND_REMAINDER_INTO_LAST_REPAYMENT\",\n",
    "      \"repaymentCurrencyRounding\": \"NO_ROUNDING\",\n",
    "      \"repaymentElementsRoundingMethod\": \"NO_ROUNDING\"\n",
    "    },\n",
    "    \"numInstallments\": {},\n",
    "    \"firstRepaymentDueDateOffset\": {},\n",
    "    \"repaymentScheduleEditOptions\": [],\n",
    "    \"repaymentReschedulingMethod\": \"NEXT_WORKING_DAY\"\n",
    "  },\n",
    "  \"paymentSettings\": {\n",
    "    \"paymentMethod\": \"HORIZONTAL\",\n",
    "    \"amortizationMethod\": \"STANDARD_PAYMENTS\",\n",
    "    \"prepaymentSettings\": {\n",
    "      \"prepaymentRecalculationMethod\": \"RESCHEDULE_REMAINING_REPAYMENTS\",\n",
    "      \"prepaymentAcceptance\": \"ACCEPT_PREPAYMENTS\",\n",
    "      \"futurePaymentsAcceptance\": \"NO_FUTURE_PAYMENTS\",\n",
    "      \"applyInterestOnPrepaymentMethod\": \"AUTOMATIC\",\n",
    "      \"principalPaidInstallmentStatus\": \"PARTIALLY_PAID\"\n",
    "    },\n",
    "    \"latePaymentsRecalculationMethod\": \"OVERDUE_INSTALLMENTS_INCREASE\",\n",
    "    \"repaymentAllocationOrder\": [\n",
    "      \"FEE\",\n",
    "      \"PENALTY\",\n",
    "      \"INTEREST\",\n",
    "      \"PRINCIPAL\"\n",
    "    ],\n",
    "    \"principalPaymentSettings\": {\n",
    "      \"amount\": {},\n",
    "      \"percentage\": {},\n",
    "      \"defaultPrincipalRepaymentInterval\": 1\n",
    "    }\n",
    "  },\n",
    "  \"gracePeriodSettings\": {\n",
    "    \"gracePeriod\": {},\n",
    "    \"gracePeriodType\": \"NONE\"\n",
    "  },\n",
    "  \"newAccountSettings\": {\n",
    "    \"idGeneratorType\": \"RANDOM_PATTERN\",\n",
    "    \"idPattern\": \"@@@@###\",\n",
    "    \"accountInitialState\": \"PENDING_APPROVAL\"\n",
    "  },\n",
    "  \"interestSettings\": {\n",
    "    \"interestApplicationMethod\": \"REPAYMENT_DUE_DATE\",\n",
    "    \"interestBalanceCalculationMethod\": \"ONLY_PRINCIPAL\",\n",
    "    \"interestCalculationMethod\": \"DECLINING_BALANCE\",\n",
    "    \"daysInYear\": \"E30_360\",\n",
    "    \"scheduleInterestDaysCountMethod\": \"ACTUAL_DAYS_COUNT\",\n",
    "    \"interestType\": \"SIMPLE_INTEREST\",\n",
    "    \"indexRateSettings\": {\n",
    "      \"interestRate\": {\n",
    "        \"minValue\": 2.00000000000000000000,\n",
    "        \"maxValue\": 2.00000000000000000000,\n",
    "        \"defaultValue\": 2.00000000000000000000\n",
    "      },\n",
    "      \"interestRateSource\": \"FIXED_INTEREST_RATE\",\n",
    "      \"interestRateTerms\": \"FIXED\",\n",
    "      \"interestChargeFrequency\": \"ANNUALIZED\",\n",
    "      \"interestChargeFrequencyCount\": 1,\n",
    "      \"encodedKey\": \"8a8187f467e0b11f0167e0bdea870014\",\n",
    "      \"accrueInterestAfterMaturity\": false,\n",
    "      \"interestRateTiers\": []\n",
    "    }\n",
    "  },\n",
    "  \"penaltySettings\": {\n",
    "    \"penaltyRate\": {},\n",
    "    \"loanPenaltyCalculationMethod\": \"NONE\"\n",
    "  },\n",
    "  \"arrearsSettings\": {\n",
    "    \"encodedKey\": \"8a8187f467e0b11f0167e0bdea870015\",\n",
    "    \"toleranceCalculationMethod\": \"ARREARS_TOLERANCE_PERIOD\",\n",
    "    \"dateCalculationMethod\": \"ACCOUNT_FIRST_WENT_TO_ARREARS\",\n",
    "    \"nonWorkingDaysMethod\": \"EXCLUDED\",\n",
    "    \"tolerancePeriod\": {}\n",
    "  },\n",
    "  \"feesSettings\": {\n",
    "    \"allowArbitraryFees\": false,\n",
    "    \"fees\": []\n",
    "  },\n",
    "  \"accountingSettings\": {\n",
    "    \"accountingMethod\": \"NONE\",\n",
    "    \"interestAccruedAccountingMethod\": \"NONE\",\n",
    "    \"accountingRules\": []\n",
    "  },\n",
    "  \"accountLinkSettings\": {\n",
    "    \"enabled\": false,\n",
    "    \"linkedAccountOptions\": [],\n",
    "    \"settlementMethod\": \"FULL_DUE_AMOUNTS\"\n",
    "  },\n",
    "  \"taxSettings\": {\n",
    "    \"taxesOnInterestEnabled\": false,\n",
    "    \"taxesOnFeesEnabled\": false,\n",
    "    \"taxesOnPenaltyEnabled\": false\n",
    "  },\n",
    "  \"internalControls\": {\n",
    "    \"lockSettings\": {}\n",
    "  },\n",
    "  \"securitySettings\": {\n",
    "    \"isGuarantorsEnabled\": false,\n",
    "    \"isCollateralEnabled\": false\n",
    "  },\n",
    "  \"creditArrangementSettings\": {\n",
    "    \"creditArrangementRequirement\": \"OPTIONAL\"\n",
    "  },\n",
    "  \"fundingSettings\": {\n",
    "    \"enabled\": false\n",
    "  },\n",
    "  \"availabilitySettings\": {\n",
    "    \"branchSettings\": {\n",
    "      \"forAllBranches\": true,\n",
    "      \"availableProductBranches\": []\n",
    "    },\n",
    "    \"availableFor\": [\n",
    "      \"INDIVIDUALS\"\n",
    "    ]\n",
    "  },\n",
    "  \"offsetSettings\": {},\n",
    "  \"allowCustomRepaymentAllocation\": false\n",
    "}"
   ]
  },
  {
   "cell_type": "code",
   "execution_count": null,
   "metadata": {},
   "outputs": [],
   "source": [
    "HEADERS = {'Accept': 'application/vnd.mambu.v2+json','Content-Type': 'application/json'}\n",
    "PARAMS = {}\n",
    "r = POST('{{env1}}/loanproducts', headers=HEADERS, params=PARAMS, body=\"JSONBODY\")\n",
    "print (\"API status:\")\n",
    "print(r.status_code)\n",
    "print(\"Now the JSON:\")\n",
    "print(r.text)"
   ]
  },
  {
   "cell_type": "markdown",
   "metadata": {},
   "source": [
    "[back](#section3)\n",
    "<a id=\"section3g\"></a>\n",
    "### Delete a Loan product type"
   ]
  },
  {
   "cell_type": "code",
   "execution_count": null,
   "metadata": {},
   "outputs": [],
   "source": [
    "HEADERS = {'Accept': 'application/vnd.mambu.v2+json'}\n",
    "PARAMS = {}\n",
    "r = DELETE(\"{{env1}}/loanproducts/MKLoan03042019\", headers=HEADERS, params=PARAMS)\n",
    "PRINT(r)"
   ]
  },
  {
   "cell_type": "markdown",
   "metadata": {},
   "source": [
    "[back](#section3)\n",
    "<a id=\"section3h\"></a>\n",
    "### Accessing Loan Schedule\n",
    "\n",
    "NOTES: The parameters you need to pass to access a preview of the schedule depend on the product type. Use the Mambu UI to determine this.\n",
    "\n"
   ]
  },
  {
   "cell_type": "code",
   "execution_count": null,
   "metadata": {},
   "outputs": [],
   "source": [
    "HEADERS = {}\n",
    "PARAMS = {\n",
    "    'loanAmount': 980,\n",
    "    'interestRate': 2,\n",
    "    'repaymentPeriodUnit': 'MONTHS',\n",
    "    'repaymentPeriodCount': 1,\n",
    "    'repaymentInstallments': 12\n",
    "} \n",
    "r = GET('{{env1}}/loanproducts/GenLoanProd/schedule', headers=HEADERS, params=PARAMS)\n",
    "#PRINT(r)\n",
    "print(r.text)\n",
    "\n"
   ]
  },
  {
   "cell_type": "code",
   "execution_count": null,
   "metadata": {},
   "outputs": [],
   "source": [
    "GET /api/loanproducts/AGL/schedule?\n",
    "loanAmount=980&firstRepaymentDate=2015-02-27&anticipatedDisbursement=2015-02-01&\n",
    "interestRate=2&repaymentInstallments=6&gracePeriod=0&\n",
    "repaymentPeriodUnit=WEEKS&repaymentPeriodCount=4&principalRepaymentInterval=1\n"
   ]
  },
  {
   "cell_type": "code",
   "execution_count": null,
   "metadata": {},
   "outputs": [],
   "source": [
    "HEADERS = {'Accept': 'application/vnd.mambu.v2+json'}\n",
    "PARAMS = {'detailsLevel': 'FULL'} # NOTE: Only FULL supported\n",
    "r = GET('{{env1}}/loanproducts/GenLoanProd', headers=HEADERS, params=PARAMS)\n",
    "PRINT(r)"
   ]
  },
  {
   "cell_type": "markdown",
   "metadata": {},
   "source": [
    "<a id=\"section4\"></a>\n",
    "[back](#sectionx)\n",
    "## Loan Accounts\n",
    "* [Get all Loans](#section4a)\n",
    "* [Get Individual Loan](#section4b)\n",
    "* [Create Loan Account - API v2.0](#section4c)\n",
    "* [Create Loan Account - API v1.0](#section4d)\n",
    "* [Get Loan Account Transactions](#section4e)\n",
    "* [Make loan repayment](#section4f)\n",
    "* [Edit Loan Tranches](#section4g)\n",
    "* [Approve Loan Account](#section4h)\n",
    "* [Disburse Loan Account](#section4i)\n"
   ]
  },
  {
   "cell_type": "markdown",
   "metadata": {},
   "source": [
    "<a id=\"section4a\"></a>\n",
    "[back](#section4)\n",
    "### Get all Loans"
   ]
  },
  {
   "cell_type": "code",
   "execution_count": null,
   "metadata": {},
   "outputs": [],
   "source": [
    "HEADERS = {'Accept': 'application/vnd.mambu.v2+json'}\n",
    "# Parameters below set up pagination and only returns max 20\n",
    "PARAMS = {'detailsLevel': 'BASIC', 'paginationDetails': 'ON','limit': 20}\n",
    "r = GET('{{env1}}/loans', headers=HEADERS, params=PARAMS)\n",
    "PRINT(r)"
   ]
  },
  {
   "cell_type": "code",
   "execution_count": null,
   "metadata": {},
   "outputs": [],
   "source": [
    "print(\"Total Number of Loans in this instance:\")\n",
    "r.headers['Items-Total']"
   ]
  },
  {
   "cell_type": "markdown",
   "metadata": {},
   "source": [
    "<a id=\"section4b\"></a>\n",
    "[back](#section4)\n",
    "### Get Individual Loan"
   ]
  },
  {
   "cell_type": "code",
   "execution_count": null,
   "metadata": {},
   "outputs": [],
   "source": [
    "HEADERS = {'Accept': 'application/vnd.mambu.v2+json'}\n",
    "PARAMS = {'detailsLevel': 'FULL'}\n",
    "r = GET('{{env1}}/loans/SQKP990', headers=HEADERS, params=PARAMS)\n",
    "PRINT(r)"
   ]
  },
  {
   "cell_type": "markdown",
   "metadata": {},
   "source": [
    "<a id=\"section4c\"></a>\n",
    "[back](#section4)\n",
    "### Create Loan Account - API v2.0"
   ]
  },
  {
   "cell_type": "code",
   "execution_count": null,
   "metadata": {},
   "outputs": [],
   "source": [
    "%%writefile JSONBODY\n",
    "{\n",
    "  \"loanAmount\": 30000.0,\n",
    "  \"loanName\": \"MKCurTest1\",\n",
    "  \"accountHolderKey\": \"8a8186ac692678910169288509c606bc\",\n",
    "  \"productTypeKey\": \"8a8187366a01d4a1016a023792a500b9\",\n",
    "  \"accountHolderType\": \"CLIENT\",\n",
    "  \"scheduleSettings\": {\n",
    "        \"defaultFirstRepaymentDueDateOffset\": 0,\n",
    "        \"gracePeriod\": 0,\n",
    "        \"gracePeriodType\": \"NONE\",\n",
    "        \"paymentPlan\": [],\n",
    "        \"periodicPayment\": 0.0,\n",
    "        \"principalRepaymentInterval\": 1,\n",
    "        \"repaymentInstallments\": 12,\n",
    "        \"repaymentPeriodCount\": 1,\n",
    "        \"repaymentPeriodUnit\": \"MONTHS\",\n",
    "        \"repaymentScheduleMethod\": \"DYNAMIC\",\n",
    "        \"scheduleDueDatesMethod\": \"INTERVAL\"\n",
    "    },\n",
    "    \"interestSettings\": {\n",
    "        \n",
    "        \"interestRate\": 2.0\n",
    "    }\n",
    "}"
   ]
  },
  {
   "cell_type": "code",
   "execution_count": null,
   "metadata": {},
   "outputs": [],
   "source": [
    "HEADERS = {'Accept': 'application/vnd.mambu.v2+json','Content-Type': 'application/json'}\n",
    "PARAMS = {}\n",
    "r = POST('{{env1}}/loans', headers=HEADERS, params=PARAMS, body=\"JSONBODY\")\n",
    "print (\"API status:\")\n",
    "print(r.status_code)\n",
    "print(\"Now the JSON:\")\n",
    "print(r.text)"
   ]
  },
  {
   "cell_type": "markdown",
   "metadata": {},
   "source": [
    "Next call gets settings for existing loan created from same product-type\n",
    "NOTE: I used this to work out what fiels need to be passed"
   ]
  },
  {
   "cell_type": "code",
   "execution_count": null,
   "metadata": {},
   "outputs": [],
   "source": [
    "\n",
    "HEADERS = {'Accept': 'application/vnd.mambu.v2+json'}\n",
    "PARAMS = {'detailsLevel': 'FULL'}\n",
    "r = GET('{{env1}}/loans/8a8187366a01d4a1016a0238a75400cd', headers=HEADERS, params=PARAMS)\n",
    "PRINT(r)"
   ]
  },
  {
   "cell_type": "markdown",
   "metadata": {},
   "source": [
    "<a id=\"section4d\"></a>\n",
    "[back](#section4)\n",
    "### Create Loan Account - API v1.0"
   ]
  },
  {
   "cell_type": "code",
   "execution_count": null,
   "metadata": {},
   "outputs": [],
   "source": [
    "%%writefile JSONBODY\n",
    "{\n",
    "  \"loanAccount\":{\n",
    "     \"accountHolderKey\": \"8a8186ac692678910169288509c606bc\",\n",
    "     \"productTypeKey\": \"8a8187366a01d4a1016a023792a500b9\",\n",
    "     \"accountHolderType\":\"CLIENT\",\n",
    "     \"loanAmount\":\"50000\",\n",
    "     \"repaymentInstallments\": 12,\n",
    "     \"interestRate\": 2.0\n",
    "   }\n",
    "}\n"
   ]
  },
  {
   "cell_type": "code",
   "execution_count": null,
   "metadata": {},
   "outputs": [],
   "source": [
    "HEADERS = {'Content-Type': 'application/json'}\n",
    "PARAMS = {}\n",
    "r = POST('{{env1}}/loans', headers=HEADERS, params=PARAMS, body=\"JSONBODY\")\n",
    "print (\"API status:\")\n",
    "print(r.status_code)\n",
    "print(\"Now the JSON:\")\n",
    "print(r.text)"
   ]
  },
  {
   "cell_type": "code",
   "execution_count": null,
   "metadata": {},
   "outputs": [],
   "source": [
    "HEADERS = {'Accept': 'application/vnd.mambu.v2+json'}\n",
    "PARAMS = {'detailsLevel': 'FULL'} # NOTE: Only FULL supported\n",
    "r = GET('{{env1}}/loanproducts/8a8187366a01d4a1016a023792a500b9', headers=HEADERS, params=PARAMS)\n",
    "PRINT(r)"
   ]
  },
  {
   "cell_type": "markdown",
   "metadata": {},
   "source": [
    "<a id=\"section4e\"></a>\n",
    "[back](#section4)\n",
    "### Get loan account transactions"
   ]
  },
  {
   "cell_type": "code",
   "execution_count": null,
   "metadata": {},
   "outputs": [],
   "source": [
    "HEADERS = {'Accept': 'application/vnd.mambu.v2+json','Content-Type': 'application/json'}\n",
    "PARAMS = {'detailsLevel': 'FULL'}\n",
    "r = GET('{{env1}}/loans/TVPB390/transactions', headers=HEADERS, params=PARAMS)\n",
    "print (\"API status:\")\n",
    "print(r.status_code)\n",
    "print(\"Now the JSON:\")\n",
    "PRINT(r)"
   ]
  },
  {
   "cell_type": "markdown",
   "metadata": {},
   "source": [
    "<a id=\"section4f\"></a>\n",
    "[back](#section4)\n",
    "### Make Loan Repayment\n",
    "* [Simple Loan Repayment](#section4f1)\n",
    "* [More complex Loan Repayment](#section4f2)\n",
    "* [Loan repayment with Custom Allocation](#section4f3)"
   ]
  },
  {
   "cell_type": "markdown",
   "metadata": {},
   "source": [
    "<a id=\"section4f1\"></a>\n",
    "[back](#section4f)\n",
    "### Simple Loan Repayment"
   ]
  },
  {
   "cell_type": "code",
   "execution_count": null,
   "metadata": {},
   "outputs": [],
   "source": [
    "%%writefile JSONBODY\n",
    "{\n",
    "  \"amount\": 12.01,\n",
    "  \"notes\": \"Test repayment\",\n",
    "  \"externalId\": \"{{UniqueID}}\"\n",
    "}\n"
   ]
  },
  {
   "cell_type": "code",
   "execution_count": null,
   "metadata": {},
   "outputs": [],
   "source": [
    "HEADERS = {'Accept': 'application/vnd.mambu.v2+json','Content-Type': 'application/json'}\n",
    "PARAMS = {}\n",
    "BODYPARTS = {'UniqueID': getUUID()}\n",
    "r = POST('{{env1}}/loans/EORW860/repayment-transactions', headers=HEADERS, params=PARAMS, body=\"JSONBODY\", bodyparts=BODYPARTS)\n",
    "print (\"API status:\")\n",
    "print(r.status_code)\n",
    "print(\"Now the JSON:\")\n",
    "print(r.text)"
   ]
  },
  {
   "cell_type": "markdown",
   "metadata": {},
   "source": [
    "<a id=\"section4f2\"></a>\n",
    "[back](#section4f)\n",
    "### More complex Loan Repayment"
   ]
  },
  {
   "cell_type": "code",
   "execution_count": null,
   "metadata": {},
   "outputs": [],
   "source": [
    "%%writefile JSONBODY\n",
    "{\n",
    "  \"amount\": 12.00,\n",
    "  \"notes\": \"Test repayment\",\n",
    "  \"externalId\": \"{{UniqueID}}\",\n",
    "  \"bookingDate\": \"2019-09-06T13:37:50+01:00\",\n",
    "  \"valueDate\": \"2019-09-06T13:37:50+01:00\"\n",
    "}"
   ]
  },
  {
   "cell_type": "code",
   "execution_count": null,
   "metadata": {},
   "outputs": [],
   "source": [
    "HEADERS = {'Accept': 'application/vnd.mambu.v2+json','Content-Type': 'application/json'}\n",
    "PARAMS = {}\n",
    "BODYPARTS = {'UniqueID': getUUID()}\n",
    "r = POST('{{env1}}/loans/KBVS097/repayment-transactions', headers=HEADERS, params=PARAMS, body=\"JSONBODY\", bodyparts=BODYPARTS)\n",
    "print (\"API status:\")\n",
    "print(r.status_code)\n",
    "print(\"Now the JSON:\")\n",
    "print(r.text)"
   ]
  },
  {
   "cell_type": "markdown",
   "metadata": {},
   "source": [
    "<a id=\"section4f3\"></a>\n",
    "[back](#section4f)\n",
    "### Loan repayment with Custom Allocation"
   ]
  },
  {
   "cell_type": "code",
   "execution_count": null,
   "metadata": {},
   "outputs": [],
   "source": [
    "%%writefile JSONBODY\n",
    "{\n",
    "  \"amount\": 31.00,\n",
    "  \"notes\": \"Test repayment\",\n",
    "  \"customPaymentAmounts\": [\n",
    "    {\n",
    "      \"taxOnAmount\": 0.00,\n",
    "      \"amount\": 31.00,\n",
    "      \"customPaymentAmountType\": \"PRINCIPAL\"\n",
    "    }\n",
    "  ],\n",
    "  \"externalId\": \"{{UniqueID}}\"\n",
    "\n",
    "}"
   ]
  },
  {
   "cell_type": "code",
   "execution_count": null,
   "metadata": {},
   "outputs": [],
   "source": [
    "HEADERS = {'Accept': 'application/vnd.mambu.v2+json','Content-Type': 'application/json'}\n",
    "PARAMS = {}\n",
    "BODYPARTS = {'UniqueID': getUUID()}\n",
    "r = POST('{{env1}}/loans/KBVS097/repayment-transactions', headers=HEADERS, params=PARAMS, body=\"JSONBODY\", bodyparts=BODYPARTS)\n",
    "print (\"API status:\")\n",
    "print(r.status_code)\n",
    "print(\"Now the JSON:\")\n",
    "print(r.text)"
   ]
  },
  {
   "cell_type": "markdown",
   "metadata": {},
   "source": [
    "<a id=\"section4g\"></a>\n",
    "[back](#section4)\n",
    "### Edit Loan Tranches"
   ]
  },
  {
   "cell_type": "code",
   "execution_count": null,
   "metadata": {},
   "outputs": [],
   "source": [
    "%%writefile JSONBODY\n",
    "{\n",
    "   \"tranches\":[\n",
    "      {\n",
    "         \"amount\":\"952016.00\",\n",
    "         \"expectedDisbursementDate\":\"2018-12-01T00:00:00+0000\"\n",
    "      },\n",
    "      {\n",
    "         \"amount\":\"122123.67\",\n",
    "         \"expectedDisbursementDate\":\"2018-12-02T00:00:00+0000\"\n",
    "      },\n",
    "      {\n",
    "         \"amount\":\"122123.67\",\n",
    "         \"expectedDisbursementDate\":\"2019-01-01T00:00:00+0000\"\n",
    "      },\n",
    "      {\n",
    "         \"amount\":\"122123.67\",\n",
    "         \"expectedDisbursementDate\":\"2019-02-01T00:00:00+0000\"\n",
    "      },\n",
    "      {\n",
    "         \"amount\":\"122123.67\",\n",
    "         \"expectedDisbursementDate\":\"2019-03-01T00:00:00+0000\"\n",
    "      },\n",
    "      {\n",
    "         \"amount\":\"122123.67\",\n",
    "         \"expectedDisbursementDate\":\"2019-04-01T00:00:00+0000\"\n",
    "      },\n",
    "      {\n",
    "         \"amount\":\"122123.67\",\n",
    "         \"expectedDisbursementDate\":\"2019-05-01T00:00:00+0000\"\n",
    "      }, \n",
    "      {\n",
    "         \"amount\":\"122123.67\",\n",
    "         \"expectedDisbursementDate\":\"2019-06-01T00:00:00+0000\"\n",
    "      },\n",
    "      {\n",
    "         \"amount\":\"122123.67\",\n",
    "         \"expectedDisbursementDate\":\"2019-07-01T00:00:00+0000\"\n",
    "      },\n",
    "      {\n",
    "         \"amount\":\"122123.67\",\n",
    "         \"expectedDisbursementDate\":\"2019-08-01T00:00:00+0000\"\n",
    "      },\n",
    "      {\n",
    "         \"amount\":\"122123.67\",\n",
    "         \"expectedDisbursementDate\":\"2019-09-01T00:00:00+0000\"\n",
    "      },\n",
    "      {\n",
    "         \"amount\":\"122123.67\",\n",
    "         \"expectedDisbursementDate\":\"2019-10-01T00:00:00+0000\"\n",
    "      },\n",
    "      {\n",
    "         \"amount\":\"122123.63\",\n",
    "         \"expectedDisbursementDate\":\"2019-11-01T00:00:00+0000\"\n",
    "      } \n",
    "   ]\n",
    "}"
   ]
  },
  {
   "cell_type": "code",
   "execution_count": null,
   "metadata": {},
   "outputs": [],
   "source": [
    "HEADERS = {'Content-Type': 'application/json'}\n",
    "PARAMS = {}\n",
    "r = POST('{{env4}}/loans/UHYA536/tranches', headers=HEADERS, params=PARAMS, body=\"JSONBODY\")\n",
    "print (\"API status:\")\n",
    "print(r.status_code)\n",
    "print(\"Now the JSON:\")\n",
    "print(r.text)"
   ]
  },
  {
   "cell_type": "markdown",
   "metadata": {},
   "source": [
    "<a id=\"section4h\"></a>\n",
    "[back](#section4)\n",
    "## Approve Loan Account"
   ]
  },
  {
   "cell_type": "code",
   "execution_count": null,
   "metadata": {},
   "outputs": [],
   "source": [
    "%%writefile JSONBODY\n",
    "{\n",
    "  \"action\": \"APPROVE\",\n",
    "  \"notes\": \"This is a note to attach to the approval\"\n",
    "}\n"
   ]
  },
  {
   "cell_type": "code",
   "execution_count": null,
   "metadata": {},
   "outputs": [],
   "source": [
    "HEADERS = {'Accept': 'application/vnd.mambu.v2+json','Content-Type': 'application/json'}\n",
    "PARAMS = {}\n",
    "BODYPARTS = {'UniqueID': getUUID()}\n",
    "r = POST('{{env4}}/loans/YIUH165:changeState', headers=HEADERS, params=PARAMS, body=\"JSONBODY\", bodyparts=BODYPARTS)\n",
    "print (\"API status:\")\n",
    "print(r.status_code)\n",
    "print(\"Now the JSON:\")\n",
    "print(r.text)"
   ]
  },
  {
   "cell_type": "markdown",
   "metadata": {},
   "source": [
    "<a id=\"section4i\"></a>\n",
    "[back](#section4)\n",
    "## Disburse Loan Account"
   ]
  },
  {
   "cell_type": "code",
   "execution_count": null,
   "metadata": {},
   "outputs": [],
   "source": [
    "%%writefile JSONBODY\n",
    "{\n",
    "  \n",
    "}"
   ]
  },
  {
   "cell_type": "code",
   "execution_count": null,
   "metadata": {},
   "outputs": [],
   "source": [
    "HEADERS = {'Accept': 'application/vnd.mambu.v2+json','Content-Type': 'application/json'}\n",
    "PARAMS = {}\n",
    "BODYPARTS = {'UniqueID': getUUID()}\n",
    "r = POST('{{env4}}/loans/YIUH165/disbursement-transactions', headers=HEADERS, params=PARAMS, body=\"JSONBODY\", bodyparts=BODYPARTS)\n",
    "print (\"API status:\")\n",
    "print(r.status_code)\n",
    "print(\"Now the JSON:\")\n",
    "print(r.text)"
   ]
  },
  {
   "cell_type": "markdown",
   "metadata": {},
   "source": [
    "## Custom allocation for RCA repayment?\n",
    "Next cell tries to pay just principle for an RCA product-type"
   ]
  },
  {
   "cell_type": "code",
   "execution_count": null,
   "metadata": {},
   "outputs": [],
   "source": [
    "HEADERS = {'Accept': 'application/vnd.mambu.v2+json','Content-Type': 'application/json'}\n",
    "PARAMS = {}\n",
    "BODYPARTS = {'UniqueID': getUUID()}\n",
    "r = POST('{{env1}}/loans/DQAL480/repayment-transactions', headers=HEADERS, params=PARAMS, body=\"JSONBODY\", bodyparts=BODYPARTS)\n",
    "print (\"API status:\")\n",
    "print(r.status_code)\n",
    "print(\"Now the JSON:\")\n",
    "print(r.text)"
   ]
  },
  {
   "cell_type": "markdown",
   "metadata": {},
   "source": [
    "<a id=\"section5\"></a>\n",
    "[back](#sectionx)\n",
    "## Deposit Accounts\n",
    "* [Get all Deposit account](#section5a)\n",
    "* [Get individual deposit Account](#section5b)\n",
    "* [Create Current Account (with overdraft)](#section5c)\n",
    "* [Create deposit Account (API v1.0)](#section5d)\n",
    "* [Transfer from a Deposit account](#section5e)\n",
    "* [Update overdraft limit on a deposit account (API v1.0)](#section5f)\n",
    "* [Get Deposit Account Transactions](#section5g)\n"
   ]
  },
  {
   "cell_type": "markdown",
   "metadata": {},
   "source": [
    "<a id=\"section5a\"></a>\n",
    "[back](#section5)\n",
    "### Get all Deposit account"
   ]
  },
  {
   "cell_type": "code",
   "execution_count": null,
   "metadata": {},
   "outputs": [],
   "source": [
    "HEADERS = {'Accept': 'application/vnd.mambu.v2+json'}\n",
    "# Parameters below set up pagination and only returns max 20\n",
    "PARAMS = {'detailsLevel': 'BASIC', 'paginationDetails': 'ON','limit': 20}\n",
    "r = GET('{{env1}}/deposits', headers=HEADERS, params=PARAMS)\n",
    "PRINT(r)"
   ]
  },
  {
   "cell_type": "code",
   "execution_count": null,
   "metadata": {},
   "outputs": [],
   "source": [
    "print(\"Total Number of Deposit Accounts in this instance:\")\n",
    "r.headers['Items-Total']"
   ]
  },
  {
   "cell_type": "markdown",
   "metadata": {},
   "source": [
    "<a id=\"section5b\"></a>\n",
    "[back](#section5)\n",
    "### Get individual deposit Account"
   ]
  },
  {
   "cell_type": "code",
   "execution_count": null,
   "metadata": {
    "scrolled": true
   },
   "outputs": [],
   "source": [
    "HEADERS = {'Accept': 'application/vnd.mambu.v2+json'}\n",
    "PARAMS = {'detailsLevel': 'FULL'}\n",
    "r = GET('{{env1}}/deposits/XDSB665', headers=HEADERS, params=PARAMS)\n",
    "#print(r.text)\n",
    "PRINT(r)"
   ]
  },
  {
   "cell_type": "markdown",
   "metadata": {},
   "source": [
    "<a id=\"section5c\"></a>\n",
    "[back](#section5)\n",
    "### Create Current Account (with overdraft) "
   ]
  },
  {
   "cell_type": "code",
   "execution_count": null,
   "metadata": {},
   "outputs": [],
   "source": [
    "%%writefile JSONBODY\n",
    "{\n",
    "  \"overdraftSettings\": {\n",
    "\t\"allowOverdraft\": true,\n",
    "\t\"overdraftLimit\": 0\n",
    "  },\n",
    "  \"accountType\": \"CURRENT_ACCOUNT\",\n",
    "  \"name\": \"MKCurTest1\",\n",
    "  \"accountHolderKey\": \"8a8186ac692678910169288509c606bc\",\n",
    "  \"productTypeKey\": \"8a8186aa69491c25016949888aeb10d2\",\n",
    "  \"currencyCode\": \"EUR\",\n",
    "  \"accountHolderType\": \"CLIENT\"\n",
    "}\n"
   ]
  },
  {
   "cell_type": "code",
   "execution_count": null,
   "metadata": {},
   "outputs": [],
   "source": [
    "HEADERS = {'Accept': 'application/vnd.mambu.v2+json','Content-Type': 'application/json'}\n",
    "PARAMS = {}\n",
    "r = POST('{{env1}}/deposits', headers=HEADERS, params=PARAMS, body=\"JSONBODY\")\n",
    "print (\"API status:\")\n",
    "print(r.status_code)\n",
    "print(\"Now the JSON:\")\n",
    "print(r.text)"
   ]
  },
  {
   "cell_type": "markdown",
   "metadata": {},
   "source": [
    "<a id=\"section5d\"></a>\n",
    "[back](#section5)\n",
    "### Create deposit Account (API v1.0)"
   ]
  },
  {
   "cell_type": "code",
   "execution_count": null,
   "metadata": {},
   "outputs": [],
   "source": [
    "%%writefile JSONBODY\n",
    "{\n",
    "\t\"savingsAccount\":{\n",
    "      \"accountHolderKey\":\"8a8186ac692678910169288509c606bc\",\n",
    "      \"accountHolderType\":\"CLIENT\",\n",
    "      \"productTypeKey\":\"8a81868e6808ec4501680e43f9dc26e0\",\n",
    "      \"accountType\":\"REGULAR_SAVINGS\",\n",
    "      \"accountState\":\"PENDING_APPROVAL\"\n",
    "\t\t \n",
    "   }\n",
    "}\n"
   ]
  },
  {
   "cell_type": "code",
   "execution_count": null,
   "metadata": {},
   "outputs": [],
   "source": [
    "HEADERS = {'Content-Type': 'application/json'}\n",
    "# To call an API v1.0 API drop the header: 'Accept': 'application/vnd.mambu.v2+json'\n",
    "PARAMS = {}\n",
    "r = POST('{{env1}}/savings/', headers=HEADERS, params=PARAMS, body=\"JSONBODY\")\n",
    "print (\"API status:\")\n",
    "print(r.status_code)\n",
    "print(\"Now the JSON:\")\n",
    "print(r.text)"
   ]
  },
  {
   "cell_type": "markdown",
   "metadata": {},
   "source": [
    "<a id=\"section5e\"></a>\n",
    "[back](#section5)\n",
    "### Transfer from a Deposit account"
   ]
  },
  {
   "cell_type": "code",
   "execution_count": null,
   "metadata": {},
   "outputs": [],
   "source": [
    "%%writefile JSONBODY\n",
    "{\n",
    "  \"externalId\": \"extID241b\",\n",
    "  \"amount\": 897,\n",
    "  \"notes\": \"Transfer Notes\",\n",
    "  \"transferDetails\": {\n",
    "    \"linkedAccountId\": \"ADRO254\",\n",
    "\t\t\"linkedAccountType\": \"DEPOSIT\",\n",
    "    \"linkedAccountKey\": \"8a81868e6808ec4501680e7898bf26e5\"\n",
    "  }\n",
    "}"
   ]
  },
  {
   "cell_type": "code",
   "execution_count": null,
   "metadata": {
    "scrolled": true
   },
   "outputs": [],
   "source": [
    "HEADERS = {'Accept': 'application/vnd.mambu.v2+json','Content-Type': 'application/json'}\n",
    "PARAMS = {}\n",
    "r = POST('{{env1}}/deposits/KIXN632/transfer-transactions', headers=HEADERS, params=PARAMS, body=\"JSONBODY\")\n",
    "print (\"API status:\")\n",
    "print(r.status_code)\n",
    "print(\"Now the JSON:\")\n",
    "print(r.text)"
   ]
  },
  {
   "cell_type": "markdown",
   "metadata": {},
   "source": [
    "<a id=\"section5f\"></a>\n",
    "[back](#section5)\n",
    "### Deposit to a Deposit account (with custom fields)"
   ]
  },
  {
   "cell_type": "code",
   "execution_count": null,
   "metadata": {},
   "outputs": [],
   "source": [
    "%%writefile JSONBODY\n",
    "{\n",
    "  \"externalId\": \"extID241d\",\n",
    "  \"amount\": 222,\n",
    "  \"notes\": \"Deposit Notes\",\n",
    "  \"transactionDetails\": {\n",
    "    \"transactionChannelId\": \"BACS\"\n",
    "  },\n",
    "  \"_DepositTransactionFieldsExtra\": {\n",
    "      \"TestField\": \"This is a test\"\n",
    "  }\n",
    "}"
   ]
  },
  {
   "cell_type": "code",
   "execution_count": null,
   "metadata": {},
   "outputs": [],
   "source": [
    "HEADERS = {'Accept': 'application/vnd.mambu.v2+json','Content-Type': 'application/json'}\n",
    "PARAMS = {}\n",
    "r = POST('{{env1}}/deposits/KIXN632/deposit-transactions', headers=HEADERS, params=PARAMS, body=\"JSONBODY\")\n",
    "print (\"API status:\")\n",
    "print(r.status_code)\n",
    "print(\"Now the JSON:\")\n",
    "print(r.text)"
   ]
  },
  {
   "cell_type": "code",
   "execution_count": null,
   "metadata": {},
   "outputs": [],
   "source": [
    "\n",
    "HEADERS = {'Accept': 'application/vnd.mambu.v2+json'}\n",
    "PARAMS = {'detailsLevel': 'FULL'}\n",
    "r = GET('{{env1}}/customfields/BANK_NUMBER_TRANSACTION_CHANNEL_', headers=HEADERS, params=PARAMS)\n",
    "#print(r.text)\n",
    "PRINT(r)"
   ]
  },
  {
   "cell_type": "markdown",
   "metadata": {},
   "source": [
    "<a id=\"section5f\"></a>\n",
    "[back](#section5)\n",
    "### Update overdraft limit on a deposit account (API v1.0)\n",
    "\n",
    "Struggling to get this working on API v2.0 at-the-moment. Will provide an update for v2.0 when I figure it out."
   ]
  },
  {
   "cell_type": "code",
   "execution_count": null,
   "metadata": {},
   "outputs": [],
   "source": [
    "%%writefile JSONBODY\n",
    "{\n",
    "   \"savingsAccount\":{\n",
    "      \"overdraftLimit\":\"500\"\n",
    "   }\n",
    "}"
   ]
  },
  {
   "cell_type": "code",
   "execution_count": null,
   "metadata": {},
   "outputs": [],
   "source": [
    "HEADERS = {'Content-Type': 'application/json'}\n",
    "PARAMS = {}\n",
    "r = POST('{{env1}}/savings/NXWB628', headers=HEADERS, params=PARAMS, body=\"JSONBODY\")\n",
    "print (\"API status:\")\n",
    "print(r.status_code)\n",
    "print(\"Now the JSON:\")\n",
    "print(r.text)"
   ]
  },
  {
   "cell_type": "markdown",
   "metadata": {},
   "source": [
    "<a id=\"section5g\"></a>\n",
    "[back](#section5)\n",
    "### Get deposit account transactions\n"
   ]
  },
  {
   "cell_type": "code",
   "execution_count": null,
   "metadata": {},
   "outputs": [],
   "source": [
    "HEADERS = {'Accept': 'application/vnd.mambu.v2+json','Content-Type': 'application/json'}\n",
    "PARAMS = {'detailsLevel': 'FULL'}\n",
    "r = GET('{{env1}}/deposits/BUKO329/transactions', headers=HEADERS, params=PARAMS)\n",
    "print (\"API status:\")\n",
    "print(r.status_code)\n",
    "print(\"Now the JSON:\")\n",
    "PRINT(r)"
   ]
  },
  {
   "cell_type": "markdown",
   "metadata": {},
   "source": [
    "<a id=\"section6\"></a>\n",
    "[back](#sectionx)\n",
    "## General Ledger - Accounting (API v1.0 )\n",
    "    \n"
   ]
  },
  {
   "cell_type": "markdown",
   "metadata": {},
   "source": [
    "### Get Journal entries"
   ]
  },
  {
   "cell_type": "code",
   "execution_count": null,
   "metadata": {},
   "outputs": [],
   "source": [
    "HEADERS = {}\n",
    "PARAMS = {'from': '2019-03-01','to':'2019-03-01','limit':30, 'limit':1, 'offset': 0}\n",
    "r = GET('{{env2}}/gljournalentries', headers=HEADERS, params=PARAMS)\n",
    "print(r.text)\n",
    "#PRINT(r) # This will print in a more readable format"
   ]
  },
  {
   "cell_type": "code",
   "execution_count": null,
   "metadata": {},
   "outputs": [],
   "source": [
    "\n",
    "HEADERS = {}\n",
    "PARAMS = {'type':'ASSET'}\n",
    "r = GET('{{env1}}/glaccounts', headers=HEADERS, params=PARAMS)\n",
    "print(len(r.json()))\n",
    "PRINT(r)"
   ]
  },
  {
   "cell_type": "markdown",
   "metadata": {},
   "source": [
    "<a id=\"section7\"></a>\n",
    "[back](#sectionx)\n",
    "## Users\n"
   ]
  },
  {
   "cell_type": "markdown",
   "metadata": {},
   "source": [
    "### Get all users"
   ]
  },
  {
   "cell_type": "code",
   "execution_count": null,
   "metadata": {},
   "outputs": [],
   "source": [
    "HEADERS = {'Accept': 'application/vnd.mambu.v2+json'}\n",
    "# Parameters below set up pagination and only returns max 20\n",
    "PARAMS = {'detailsLevel': 'FULL', 'paginationDetails': 'ON','limit': 20}\n",
    "r = GET('{{env1}}/users', headers=HEADERS, params=PARAMS)\n",
    "print(r.text)"
   ]
  },
  {
   "cell_type": "markdown",
   "metadata": {},
   "source": [
    "    \n",
    "<a id=\"section8\"></a>\n",
    "[back](#sectionx)\n",
    "## Tasks\n",
    "* [Get all Tasks](#section8a)\n",
    "* [Create Task - General](#section8b)\n",
    "* [Create Task - Linked to a client](#section8c)\n"
   ]
  },
  {
   "cell_type": "markdown",
   "metadata": {},
   "source": [
    "<a id=\"section8a\"></a>\n",
    "[back](#section8)\n",
    "### Get all Tasks"
   ]
  },
  {
   "cell_type": "code",
   "execution_count": null,
   "metadata": {},
   "outputs": [],
   "source": [
    "HEADERS = {'Accept': 'application/vnd.mambu.v2+json'}\n",
    "# Parameters below set up pagination and only returns max 20\n",
    "PARAMS = {'detailsLevel': 'FULL', 'paginationDetails': 'ON','limit': 20}\n",
    "r = GET('{{env1}}/tasks', headers=HEADERS, params=PARAMS)\n",
    "print(r.text)"
   ]
  },
  {
   "cell_type": "markdown",
   "metadata": {},
   "source": [
    "<a id=\"section8b\"></a>\n",
    "[back](#section8)\n",
    "### Create Task - General"
   ]
  },
  {
   "cell_type": "code",
   "execution_count": null,
   "metadata": {},
   "outputs": [],
   "source": [
    "%%writefile JSONBODY\n",
    "{\n",
    "  \"dueDate\": \"1987-04-26\",\n",
    "  \"description\": \"Task Created from <b>API</b>\",\n",
    "  \"title\": \"Global Task - Sort yourself out\",\n",
    "  \n",
    "  \"assignedUserKey\": \"8a818e74677a2e9201677ec2ac0a3696\",\n",
    "  \"status\": \"OPEN\"\n",
    "}"
   ]
  },
  {
   "cell_type": "code",
   "execution_count": null,
   "metadata": {},
   "outputs": [],
   "source": [
    "HEADERS = {'Accept': 'application/vnd.mambu.v2+json','Content-Type': 'application/json'}\n",
    "PARAMS = {}\n",
    "r = POST('{{env1}}/tasks', headers=HEADERS, params=PARAMS, body=\"JSONBODY\")\n",
    "print (\"API status:\")\n",
    "print(r.status_code)\n",
    "print(\"Now the JSON:\")\n",
    "print(r.text)"
   ]
  },
  {
   "cell_type": "markdown",
   "metadata": {},
   "source": [
    "<a id=\"section8c\"></a>\n",
    "[back](#section8)\n",
    "### Create Task - Linked to a client"
   ]
  },
  {
   "cell_type": "code",
   "execution_count": null,
   "metadata": {},
   "outputs": [],
   "source": [
    "%%writefile JSONBODY\n",
    "{\n",
    "  \"dueDate\": \"1987-04-26\",\n",
    "  \"description\": \"Task Created from API\",\n",
    "  \"title\": \"API Task\",\n",
    "  \"taskLinkKey\": \"8a8186ac692678910169288509c606bc\",\n",
    "  \"assignedUserKey\": \"8a818e74677a2e9201677ec2ac0a3696\",\n",
    "  \"taskLinkType\": \"CLIENT\",\n",
    "  \"status\": \"OPEN\"\n",
    "}"
   ]
  },
  {
   "cell_type": "code",
   "execution_count": null,
   "metadata": {
    "scrolled": true
   },
   "outputs": [],
   "source": [
    "HEADERS = {'Accept': 'application/vnd.mambu.v2+json','Content-Type': 'application/json'}\n",
    "PARAMS = {}\n",
    "r = POST('{{env1}}/tasks', headers=HEADERS, params=PARAMS, body=\"JSONBODY\")\n",
    "print (\"API status:\")\n",
    "print(r.status_code)\n",
    "print(\"Now the JSON:\")\n",
    "print(r.text)"
   ]
  },
  {
   "cell_type": "markdown",
   "metadata": {},
   "source": [
    "<a id=\"section81\"></a>\n",
    "[back](#sectionx)\n",
    "## Custom Views\n",
    "\n",
    "See [https://support.mambu.com/docs/custom-views-api](https://support.mambu.com/docs/custom-views-api)\n",
    "\n",
    "GET {{env}}/{{resource}}?viewfilter={{customViewKey}}&resultType={{detailsLevel}}&limit=1000\n",
    "\n",
    "where resource = ('clients', 'groups', 'loans', 'savings', 'activities', 'loans/transactions', 'savings/transactions') \n",
    "\n",
    "* [Get all CustomViews (for a user)](#section81a)\n",
    "* [Get a client custom. View](#section81b)\n",
    "* [Get Activities Custom View](#section81c)"
   ]
  },
  {
   "cell_type": "markdown",
   "metadata": {},
   "source": [
    "<a id=\"section81a\"></a>\n",
    "[back](#section81)\n",
    "### Get all CustomViews (for a user)"
   ]
  },
  {
   "cell_type": "code",
   "execution_count": null,
   "metadata": {},
   "outputs": [],
   "source": [
    "HEADERS = {}\n",
    "PARAMS = {}\n",
    "r = GET('{{env1}}/users/apiUser/views', headers=HEADERS, params=PARAMS)\n",
    "print(len(r.json()))\n",
    "# PRINT(r)"
   ]
  },
  {
   "cell_type": "markdown",
   "metadata": {},
   "source": [
    "<a id=\"section81b\"></a>\n",
    "[back](#section81)\n",
    "## Get a client Custom. View "
   ]
  },
  {
   "cell_type": "code",
   "execution_count": null,
   "metadata": {},
   "outputs": [],
   "source": [
    "HEADERS = {}\n",
    "PARAMS = {'detailsLevel':'FULL_DETAILS', 'limit':2, 'viewfilter':'8a81868e6808ec4501681508bcd530df'}\n",
    "r = GET('{{env1}}/clients', headers=HEADERS, params=PARAMS)\n",
    "PRINT(r)"
   ]
  },
  {
   "cell_type": "code",
   "execution_count": null,
   "metadata": {},
   "outputs": [],
   "source": [
    "HEADERS = {}\n",
    "PARAMS = {'detailsLevel':'FULL_DETAILS', 'limit':2, 'viewfilter':'8a818684701c9a660170339c93f93004'}\n",
    "r = GET('{{env1}}/savings', headers=HEADERS, params=PARAMS)\n",
    "PRINT(r)"
   ]
  },
  {
   "cell_type": "markdown",
   "metadata": {},
   "source": [
    "<a id=\"section81c\"></a>\n",
    "[back](#section81)\n",
    "## Get Activities Custom View"
   ]
  },
  {
   "cell_type": "code",
   "execution_count": null,
   "metadata": {},
   "outputs": [],
   "source": [
    "HEADERS = {}\n",
    "PARAMS = {'detailsLevel':'FULL_DETAILS', 'limit':2, 'viewfilter':'8a8187786a21e99b016a270f964e224f'}\n",
    "r = GET('{{env1}}/activities', headers=HEADERS, params=PARAMS)\n",
    "PRINT(r)"
   ]
  },
  {
   "cell_type": "markdown",
   "metadata": {},
   "source": [
    "    \n",
    "<a id=\"section9\"></a>\n",
    "[back](#sectionx)\n",
    "## Documents\n",
    "* [Get Customer Documents (API v1.0)](#section9a)\n",
    "* [Add Customer Document](#section9b)\n",
    "* [Get image (and its base64 encoding)](#section9c)\n",
    "* [Generate Document from Template](#section9d)\n"
   ]
  },
  {
   "cell_type": "markdown",
   "metadata": {},
   "source": [
    "<a id=\"section9a\"></a>\n",
    "[back](#section9)\n",
    "### Get Customer Documents (API v1.0)"
   ]
  },
  {
   "cell_type": "code",
   "execution_count": null,
   "metadata": {},
   "outputs": [],
   "source": [
    "HEADERS = {}\n",
    "PARAMS = {'offset':0, 'limit':5}\n",
    "r = GET('{{env1}}/clients/121693087/documents', headers=HEADERS, params=PARAMS)\n",
    "print(r.text)"
   ]
  },
  {
   "cell_type": "markdown",
   "metadata": {},
   "source": [
    "<a id=\"section9b\"></a>\n",
    "[back](#section9)\n",
    "### Add Customer Document"
   ]
  },
  {
   "cell_type": "code",
   "execution_count": null,
   "metadata": {},
   "outputs": [],
   "source": [
    "HEADERS = {'Content-Type': 'application/json'}\n",
    "PARAMS = {}\n",
    "# DOC1.json is stored in a separate file\n",
    "r = POST('{{env1}}/documents', headers=HEADERS, params=PARAMS, body=\"DOC1.json\")\n",
    "print (\"API status:\")\n",
    "print(r.status_code)\n",
    "print(\"Now the JSON:\")\n",
    "print(r.text)"
   ]
  },
  {
   "cell_type": "markdown",
   "metadata": {},
   "source": [
    "<a id=\"section9c\"></a>\n",
    "[back](#section9)\n",
    "### Get image (and its base64 encoding)"
   ]
  },
  {
   "cell_type": "code",
   "execution_count": null,
   "metadata": {},
   "outputs": [],
   "source": [
    "HEADERS = {}\n",
    "PARAMS = {'offset':0, 'limit':5}\n",
    "r = GET('{{env1}}/images/8a81872869349860016934f018710a5d', headers=HEADERS, params=PARAMS)\n",
    "print(r.text)"
   ]
  },
  {
   "cell_type": "markdown",
   "metadata": {},
   "source": [
    "<a id=\"section9d\"></a>\n",
    "[back](#section9)\n",
    "### Generate Document from Template"
   ]
  },
  {
   "cell_type": "code",
   "execution_count": null,
   "metadata": {},
   "outputs": [],
   "source": [
    "HEADERS = {}\n",
    "PARAMS = {'startDate':'2018-01-01','endDate':'2019-04-17'}\n",
    "r = GET('{{env1}}/savings/XDSB665/templates/8a81864f6a2aa2fc016a2ac3530a0006', headers=HEADERS, params=PARAMS)\n",
    "print(r.json())\n",
    "writeFile(r.json(),\"docTest.html\")"
   ]
  },
  {
   "cell_type": "markdown",
   "metadata": {},
   "source": [
    "    \n",
    "<a id=\"section10\"></a>\n",
    "[back](#sectionx)\n",
    "## Fees\n",
    "* [Apply a Manual Fee to deposit account](#section10a)\n",
    "* [Apply an Arbitrary Fee to deposit account](#section10b)"
   ]
  },
  {
   "cell_type": "markdown",
   "metadata": {},
   "source": [
    "<a id=\"section10a\"></a>\n",
    "[back](#section10)\n",
    "### Apply a Manual Fee to deposit account"
   ]
  },
  {
   "cell_type": "code",
   "execution_count": null,
   "metadata": {},
   "outputs": [],
   "source": [
    "# This is the account that we are going to apply a fee to\n",
    "HEADERS = {'Accept': 'application/vnd.mambu.v2+json'}\n",
    "# Parameters below set up pagination and only returns max 20\n",
    "PARAMS = {'detailsLevel': 'FULL'}\n",
    "r = GET('{{env1}}/deposits/WPNW605', headers=HEADERS, params=PARAMS)\n",
    "print(r.text)"
   ]
  },
  {
   "cell_type": "code",
   "execution_count": null,
   "metadata": {},
   "outputs": [],
   "source": [
    "%%writefile JSONBODY\n",
    "{\n",
    "  \"amount\": 2000,\n",
    "  \"notes\": \"Testing Fee1\",\n",
    "  \"predefinedFeeKey\": \"8a8186aa69491c2501694993850d1311\"\n",
    "}"
   ]
  },
  {
   "cell_type": "code",
   "execution_count": null,
   "metadata": {},
   "outputs": [],
   "source": [
    "HEADERS = {'Accept': 'application/vnd.mambu.v2+json','Content-Type': 'application/json'}\n",
    "PARAMS = {}\n",
    "r = POST('{{env1}}/deposits/WPNW605/fee-transactions', headers=HEADERS, params=PARAMS, body=\"JSONBODY\")\n",
    "print (\"API status:\")\n",
    "print(r.status_code)\n",
    "print(\"Now the JSON:\")\n",
    "print(r.text)"
   ]
  },
  {
   "cell_type": "markdown",
   "metadata": {},
   "source": [
    "<a id=\"section10b\"></a>\n",
    "[back](#section10)\n",
    "### Apply an Arbitrary Fee to deposit account"
   ]
  },
  {
   "cell_type": "code",
   "execution_count": null,
   "metadata": {},
   "outputs": [],
   "source": [
    "%%writefile JSONBODY\n",
    "{\n",
    "  \"externalId\": \"key777b\",\n",
    "\t\"amount\": 55,\n",
    "  \"notes\": \"Testing Fee1\"\n",
    "}"
   ]
  },
  {
   "cell_type": "code",
   "execution_count": null,
   "metadata": {},
   "outputs": [],
   "source": [
    "HEADERS = {'Accept': 'application/vnd.mambu.v2+json','Content-Type': 'application/json'}\n",
    "PARAMS = {}\n",
    "r = POST('{{env1}}/deposits/WPNW605/fee-transactions', headers=HEADERS, params=PARAMS, body=\"JSONBODY\")\n",
    "print (\"API status:\")\n",
    "print(r.status_code)\n",
    "print(\"Now the JSON:\")\n",
    "print(r.text)"
   ]
  },
  {
   "cell_type": "markdown",
   "metadata": {},
   "source": [
    "<a id=\"section11\"></a>\n",
    "[back](#sectionx)\n",
    "## Cards\n",
    "* [Get all cards linked to Account](#section11a0)\n",
    "* [Link Card to Account](#section11a)\n",
    "* [Card Authorisation Hold](#section11b)\n",
    "* [Card Settlement Transaction](#section11c)"
   ]
  },
  {
   "cell_type": "markdown",
   "metadata": {},
   "source": [
    "<a id=\"section11a0\"></a>\n",
    "[back](#section11)\n",
    "### Get all cards linked to Account"
   ]
  },
  {
   "cell_type": "code",
   "execution_count": 3,
   "metadata": {},
   "outputs": [
    {
     "name": "stdout",
     "output_type": "stream",
     "text": [
      "API status:\n",
      "200\n",
      "Now the JSON:\n",
      "API status: 200\n",
      "JSON Response:\n",
      "[\n",
      "    {\n",
      "        \"referenceToken\": \"cardToken1\"\n",
      "    },\n",
      "    {\n",
      "        \"referenceToken\": \"cardToken2\"\n",
      "    },\n",
      "    {\n",
      "        \"referenceToken\": \"cardToken3\"\n",
      "    }\n",
      "]\n"
     ]
    }
   ],
   "source": [
    "HEADERS = {'Accept': 'application/vnd.mambu.v2+json','Content-Type': 'application/json'}\n",
    "PARAMS = {}\n",
    "r = GET('{{env1}}/deposits/BUKO329/cards', headers=HEADERS, params=PARAMS)\n",
    "print (\"API status:\")\n",
    "print(r.status_code)\n",
    "print(\"Now the JSON:\")\n",
    "PRINT(r)"
   ]
  },
  {
   "cell_type": "markdown",
   "metadata": {},
   "source": [
    "<a id=\"section11a\"></a>\n",
    "[back](#section11)\n",
    "### Link Card to Account\n",
    "* You can link many cardToken(s) to a single account\n",
    "* A given cardToken can only be linked to a single account"
   ]
  },
  {
   "cell_type": "code",
   "execution_count": 2,
   "metadata": {},
   "outputs": [
    {
     "name": "stdout",
     "output_type": "stream",
     "text": [
      "Overwriting JSONBODY\n"
     ]
    }
   ],
   "source": [
    "%%writefile JSONBODY\n",
    "{\n",
    "  \"referenceToken\": \"cardToken1\"\n",
    "}"
   ]
  },
  {
   "cell_type": "code",
   "execution_count": null,
   "metadata": {},
   "outputs": [],
   "source": [
    "HEADERS = {'Accept': 'application/vnd.mambu.v2+json','Content-Type': 'application/json'}\n",
    "PARAMS = {}\n",
    "r = POST('{{env1}}/deposits/BUKO329/cards', headers=HEADERS, params=PARAMS, body=\"JSONBODY\")\n",
    "print (\"API status:\")\n",
    "print(r.status_code)\n",
    "print(\"Now the JSON:\")\n",
    "print(r.text)"
   ]
  },
  {
   "cell_type": "markdown",
   "metadata": {},
   "source": [
    "<a id=\"section11b\"></a>\n",
    "[back](#section11)\n",
    "### Card Authorisation Hold\n",
    "* [Get all authorisation holds](#section11b1)\n",
    "* [Remove authorisation holds](#section11b2)"
   ]
  },
  {
   "cell_type": "markdown",
   "metadata": {},
   "source": [
    "advice := (true|false)\n",
    "\n",
    "Advice attribute determines whether a balance check will be performed or not on the Mambu side.\n",
    "advice==false : To perform the check "
   ]
  },
  {
   "cell_type": "code",
   "execution_count": null,
   "metadata": {},
   "outputs": [],
   "source": [
    "%%writefile JSONBODY\n",
    "{\n",
    "  \"externalReferenceId\": \"cardExtRef7\",\n",
    "  \"amount\": 500,\n",
    "  \"advice\": false,\n",
    "  \"cardAcceptor\": {\n",
    "    \"zip\": \"zipCode\",\n",
    "    \"country\": \"CountryStr\",\n",
    "    \"city\": \"CityStr\",\n",
    "    \"name\": \"Merchant Name\",\n",
    "    \"state\": \"State\",\n",
    "    \"mcc\": 77\n",
    "  },\n",
    "  \"userTransactionTime\": \"11:10:15\",\n",
    "  \"currencyCode\": \"EUR\"\n",
    "}"
   ]
  },
  {
   "cell_type": "code",
   "execution_count": null,
   "metadata": {},
   "outputs": [],
   "source": [
    "HEADERS = {'Accept': 'application/vnd.mambu.v2+json','Content-Type': 'application/json'}\n",
    "PARAMS = {}\n",
    "r = POST('{{env1}}/cards/cardToken1/authorizationholds', headers=HEADERS, params=PARAMS, body=\"JSONBODY\")\n",
    "print (\"API status:\")\n",
    "print(r.status_code)\n",
    "print(\"Now the JSON:\")\n",
    "print(r.text)"
   ]
  },
  {
   "cell_type": "markdown",
   "metadata": {},
   "source": [
    "<a id=\"section11b1\"></a>\n",
    "[back](#section11b)\n",
    "#### Get all authorisation holds"
   ]
  },
  {
   "cell_type": "code",
   "execution_count": 3,
   "metadata": {},
   "outputs": [
    {
     "name": "stdout",
     "output_type": "stream",
     "text": [
      "API status:\n",
      "200\n",
      "Now the JSON:\n",
      "API status: 200\n",
      "JSON Response:\n",
      "[\n",
      "    {\n",
      "        \"advice\": false,\n",
      "        \"amount\": 12.33,\n",
      "        \"cardAcceptor\": {\n",
      "            \"city\": \"CityStr\",\n",
      "            \"country\": \"CountryStr\",\n",
      "            \"mcc\": 77,\n",
      "            \"name\": \"Merchant Name\",\n",
      "            \"state\": \"State\",\n",
      "            \"zip\": \"zipCode\"\n",
      "        },\n",
      "        \"cardToken\": \"token1\",\n",
      "        \"creditDebitIndicator\": \"DBIT\",\n",
      "        \"currencyCode\": \"EUR\",\n",
      "        \"encodedKey\": \"8a81865d75a261fd0175a2a627c30087\",\n",
      "        \"externalReferenceId\": \"0711_1\",\n",
      "        \"status\": \"PENDING\",\n",
      "        \"userTransactionTime\": \"11:10:15\"\n",
      "    },\n",
      "    {\n",
      "        \"advice\": false,\n",
      "        \"amount\": 500.0,\n",
      "        \"cardAcceptor\": {\n",
      "            \"city\": \"CityStr\",\n",
      "            \"country\": \"CountryStr\",\n",
      "            \"mcc\": 77,\n",
      "            \"name\": \"Merchant Name\",\n",
      "            \"state\": \"State\",\n",
      "            \"zip\": \"zipCode\"\n",
      "        },\n",
      "        \"cardToken\": \"cardToken1\",\n",
      "        \"creditDebitIndicator\": \"DBIT\",\n",
      "        \"currencyCode\": \"EUR\",\n",
      "        \"encodedKey\": \"8a8187086c06c2e2016c0a37dfc44954\",\n",
      "        \"externalReferenceId\": \"cardExtRef7\",\n",
      "        \"status\": \"EXPIRED\",\n",
      "        \"userTransactionTime\": \"11:10:15\"\n",
      "    },\n",
      "    {\n",
      "        \"advice\": false,\n",
      "        \"amount\": 2000.0,\n",
      "        \"cardAcceptor\": {\n",
      "            \"city\": \"CityStr\",\n",
      "            \"country\": \"CountryStr\",\n",
      "            \"mcc\": 77,\n",
      "            \"name\": \"Merchant Name\",\n",
      "            \"state\": \"State\",\n",
      "            \"zip\": \"zipCode\"\n",
      "        },\n",
      "        \"cardToken\": \"cardToken1\",\n",
      "        \"creditDebitIndicator\": \"DBIT\",\n",
      "        \"currencyCode\": \"EUR\",\n",
      "        \"encodedKey\": \"8a8186e46a30517e016a306a78162675\",\n",
      "        \"externalReferenceId\": \"cardExtRef6\",\n",
      "        \"status\": \"SETTLED\",\n",
      "        \"userTransactionTime\": \"11:10:15\"\n",
      "    },\n",
      "    {\n",
      "        \"advice\": false,\n",
      "        \"amount\": 2000.0,\n",
      "        \"cardAcceptor\": {\n",
      "            \"city\": \"CityStr\",\n",
      "            \"country\": \"CountryStr\",\n",
      "            \"mcc\": 77,\n",
      "            \"name\": \"Merchant Name\",\n",
      "            \"state\": \"State\",\n",
      "            \"zip\": \"zipCode\"\n",
      "        },\n",
      "        \"cardToken\": \"cardToken1\",\n",
      "        \"creditDebitIndicator\": \"DBIT\",\n",
      "        \"currencyCode\": \"EUR\",\n",
      "        \"encodedKey\": \"8a81861c6a306288016a3066dbd006ae\",\n",
      "        \"externalReferenceId\": \"cardExtRef5\",\n",
      "        \"status\": \"REVERSED\",\n",
      "        \"userTransactionTime\": \"11:10:15\"\n",
      "    },\n",
      "    {\n",
      "        \"advice\": true,\n",
      "        \"amount\": 20.0,\n",
      "        \"cardAcceptor\": {\n",
      "            \"city\": \"CityStr\",\n",
      "            \"country\": \"CountryStr\",\n",
      "            \"mcc\": 77,\n",
      "            \"name\": \"Merchant Name\",\n",
      "            \"state\": \"State\",\n",
      "            \"zip\": \"zipCode\"\n",
      "        },\n",
      "        \"cardToken\": \"cardToken1\",\n",
      "        \"creditDebitIndicator\": \"DBIT\",\n",
      "        \"currencyCode\": \"EUR\",\n",
      "        \"encodedKey\": \"8a8187bb6a3007c8016a3007c8a80000\",\n",
      "        \"externalReferenceId\": \"cardExtRef4\",\n",
      "        \"status\": \"REVERSED\",\n",
      "        \"userTransactionTime\": \"11:10:15\"\n",
      "    },\n",
      "    {\n",
      "        \"advice\": false,\n",
      "        \"amount\": 1975.78,\n",
      "        \"cardAcceptor\": {\n",
      "            \"city\": \"CityStr\",\n",
      "            \"country\": \"CountryStr\",\n",
      "            \"mcc\": 77,\n",
      "            \"name\": \"Merchant Name\",\n",
      "            \"state\": \"State\",\n",
      "            \"zip\": \"zipCode\"\n",
      "        },\n",
      "        \"cardToken\": \"cardToken1\",\n",
      "        \"creditDebitIndicator\": \"DBIT\",\n",
      "        \"currencyCode\": \"EUR\",\n",
      "        \"encodedKey\": \"8a81864e6a2f4c55016a2fed68510097\",\n",
      "        \"externalReferenceId\": \"cardExtRef3\",\n",
      "        \"status\": \"REVERSED\",\n",
      "        \"userTransactionTime\": \"11:10:15\"\n",
      "    },\n",
      "    {\n",
      "        \"advice\": false,\n",
      "        \"amount\": 12.11,\n",
      "        \"cardAcceptor\": {\n",
      "            \"city\": \"CityStr\",\n",
      "            \"country\": \"CountryStr\",\n",
      "            \"mcc\": 77,\n",
      "            \"name\": \"Merchant Name\",\n",
      "            \"state\": \"State\",\n",
      "            \"zip\": \"zipCode\"\n",
      "        },\n",
      "        \"cardToken\": \"cardToken1\",\n",
      "        \"creditDebitIndicator\": \"DBIT\",\n",
      "        \"currencyCode\": \"EUR\",\n",
      "        \"encodedKey\": \"8a8186526a2fc09b016a2feb0f21005e\",\n",
      "        \"externalReferenceId\": \"cardExtRef2\",\n",
      "        \"status\": \"REVERSED\",\n",
      "        \"userTransactionTime\": \"11:10:15\"\n",
      "    },\n",
      "    {\n",
      "        \"advice\": false,\n",
      "        \"amount\": 12.11,\n",
      "        \"cardAcceptor\": {\n",
      "            \"city\": \"CityStr\",\n",
      "            \"country\": \"CountryStr\",\n",
      "            \"mcc\": 77,\n",
      "            \"name\": \"Merchant Name\",\n",
      "            \"state\": \"State\",\n",
      "            \"zip\": \"zipCode\"\n",
      "        },\n",
      "        \"cardToken\": \"cardToken1\",\n",
      "        \"creditDebitIndicator\": \"DBIT\",\n",
      "        \"currencyCode\": \"EUR\",\n",
      "        \"encodedKey\": \"8a8186526a2fc09b016a2feb0f21005c\",\n",
      "        \"externalReferenceId\": \"cardExtRef1\",\n",
      "        \"status\": \"REVERSED\",\n",
      "        \"userTransactionTime\": \"11:10:15\"\n",
      "    }\n",
      "]\n"
     ]
    }
   ],
   "source": [
    "HEADERS = {'Accept': 'application/vnd.mambu.v2+json','Content-Type': 'application/json'}\n",
    "PARAMS = {}\n",
    "r = GET('{{env1}}/deposits/BUKO329/authorizationholds', headers=HEADERS, params=PARAMS)\n",
    "print (\"API status:\")\n",
    "print(r.status_code)\n",
    "print(\"Now the JSON:\")\n",
    "PRINT(r)"
   ]
  },
  {
   "cell_type": "markdown",
   "metadata": {},
   "source": [
    "<a id=\"section11b2\"></a>\n",
    "[back](#section11b)\n",
    "#### Remove holds from an account\n",
    "After DELETE of holds GET /deposits/{accountID}/authorizationholds shows with \"status\": \"REVERSED\""
   ]
  },
  {
   "cell_type": "code",
   "execution_count": null,
   "metadata": {},
   "outputs": [],
   "source": [
    "def removeAllHolds():\n",
    "    HEADERS = {'Accept': 'application/vnd.mambu.v2+json','Content-Type': 'application/json'}\n",
    "    PARAMS = {}\n",
    "   \n",
    "    r = GET('{{env1}}/deposits/BUKO329/authorizationholds', headers=HEADERS, params=PARAMS)\n",
    "    \n",
    "    for hold in r.json():\n",
    "        print(hold['externalReferenceId'])\n",
    "        url = \"{{env1}}\" + \"/cards/cardToken1/authorizationholds/{refID}\".format(refID=hold['externalReferenceId'])\n",
    "        r = DELETE(url, headers=HEADERS, params=PARAMS)\n",
    "        PRINT(r)\n",
    "     "
   ]
  },
  {
   "cell_type": "code",
   "execution_count": null,
   "metadata": {},
   "outputs": [],
   "source": [
    "removeAllHolds()"
   ]
  },
  {
   "cell_type": "markdown",
   "metadata": {},
   "source": [
    "<a id=\"section11c\"></a>\n",
    "[back](#section11)\n",
    "### Card Settlement Transaction\n",
    "NOTE: \n",
    "* To match with a previous hold pass the hold RefID as externalAuthorizationReferenceId\n",
    "* You do not need to pass externalAuthorizationReferenceId in.\n",
    "  * ATM transactions will come straight through to settle\n",
    "\n",
    "See Also:\n",
    "* [Get Deposit Account Transactions](#section5g)"
   ]
  },
  {
   "cell_type": "code",
   "execution_count": null,
   "metadata": {},
   "outputs": [],
   "source": [
    "%%writefile JSONBODY\n",
    "{\n",
    "  \"externalReferenceId\": \"cardExtRef6aSettle222222\",\n",
    "  \"transactionChannelId\": \"8a818e74677a2e9201677ec2b4c336a6\",\n",
    "  \"amount\": 555,\n",
    "  \"advice\": false,\n",
    "  \"cardAcceptor\": {\n",
    "    \"zip\": \"zipCode\",\n",
    "    \"country\": \"CountryStr\",\n",
    "    \"city\": \"CityStr\",\n",
    "    \"name\": \"Merchant Name\",\n",
    "    \"state\": \"State\",\n",
    "    \"mcc\": 77\n",
    "  },\n",
    "  \"userTransactionTime\": \"11:10:15\",\n",
    "  \"currencyCode\": \"USD\"\n",
    "}"
   ]
  },
  {
   "cell_type": "code",
   "execution_count": null,
   "metadata": {},
   "outputs": [],
   "source": [
    "# \"externalAuthorizationReferenceId\": \"cardExtRef6a\",\n",
    "HEADERS = {'Accept': 'application/vnd.mambu.v2+json','Content-Type': 'application/json'}\n",
    "PARAMS = {}\n",
    "r = POST('{{env1}}/cards/cardToken1/financialtransactions', headers=HEADERS, params=PARAMS, body=\"JSONBODY\")\n",
    "print (\"API status:\")\n",
    "print(r.status_code)\n",
    "print(\"Now the JSON:\")\n",
    "print(r.text)"
   ]
  },
  {
   "cell_type": "markdown",
   "metadata": {},
   "source": [
    "<a id=\"section12\"></a>\n",
    "[back](#sectionx)\n",
    "## Audit Trail\n"
   ]
  },
  {
   "cell_type": "code",
   "execution_count": null,
   "metadata": {},
   "outputs": [],
   "source": [
    "HEADERS = {}\n",
    "PARAMS = {}\n",
    "r = GET('{{env1}}/events?from=0&size=10&event_source[eq]=API', headers=HEADERS, params=PARAMS)\n",
    "PRINT(r)"
   ]
  },
  {
   "cell_type": "code",
   "execution_count": null,
   "metadata": {},
   "outputs": [],
   "source": [
    "HEADERS = {'Accept': 'application/vnd.mambu.v2+json','Content-Type': 'application/json'}\n",
    "PARAMS = {}\n",
    "r = GET('{{env1}}/api/v1/events?from=0&size=10&event_source[eq]=API&request_payload[contains]=amount', headers=HEADERS, params=PARAMS)\n",
    "PRINT(r)"
   ]
  },
  {
   "cell_type": "markdown",
   "metadata": {},
   "source": [
    "<a id=\"section13\"></a>\n",
    "[back](#sectionx)\n",
    "## Custom Field Filtering"
   ]
  },
  {
   "cell_type": "code",
   "execution_count": null,
   "metadata": {},
   "outputs": [],
   "source": [
    "%%writefile JSONBODY\n",
    "{\n",
    "   “filterConstraints”:[\n",
    "      {\n",
    "         “filterSelection”:“8a818e4a70440b82017044f23af66615”,\n",
    "         “filterElement”:“EQUALS”,\n",
    "         “value”:“TRUE”,\n",
    "         “dataFieldType”:“CUSTOM”\n",
    "      }\n",
    "   ]\n",
    "}"
   ]
  },
  {
   "cell_type": "code",
   "execution_count": null,
   "metadata": {},
   "outputs": [],
   "source": [
    "HEADERS = {'Content-Type': 'application/json'}\n",
    "PARAMS = {}\n",
    "r = POST('{{env4}}/clients/search?fullDetails=true', headers=HEADERS, params=PARAMS, body=\"JSONBODY\")\n",
    "print (\"API status:\")\n",
    "print(r.status_code)\n",
    "print(\"Now the JSON:\")\n",
    "print(r.text)"
   ]
  },
  {
   "cell_type": "markdown",
   "metadata": {},
   "source": [
    "## Sandbox Area"
   ]
  },
  {
   "cell_type": "code",
   "execution_count": null,
   "metadata": {},
   "outputs": [],
   "source": [
    "%%writefile JSONBODY\n",
    "{\n",
    "\"firstName\": \"test\",\n",
    "\"lastName\": \"customer X\",\n",
    "\"preferredLanguage\": \"ENGLISH\",\n",
    "\"addresses\": [\n",
    "    {\n",
    "      \"country\": \"UK\",\n",
    "      \"city\": \"Liverpool\"\n",
    "    }\n",
    "],\n",
    "\"notes\": \"Some Notes on this person\",\n",
    "\"assignedBranchKey\": \"8a193db771bfd66a0171d05a3f9a47bd\"\n",
    "\n",
    "}"
   ]
  },
  {
   "cell_type": "code",
   "execution_count": null,
   "metadata": {},
   "outputs": [],
   "source": [
    "HEADERS = {'Accept': 'application/vnd.mambu.v2+json','Content-Type': 'application/json'}\n",
    "PARAMS = {}\n",
    "r = POST('{{env6}}/clients', headers=HEADERS, params=PARAMS, body=\"JSONBODY\")\n",
    "PRINT(r)\n"
   ]
  },
  {
   "cell_type": "code",
   "execution_count": null,
   "metadata": {},
   "outputs": [],
   "source": []
  }
 ],
 "metadata": {
  "kernelspec": {
   "display_name": "Python 3",
   "language": "python",
   "name": "python3"
  },
  "language_info": {
   "codemirror_mode": {
    "name": "ipython",
    "version": 3
   },
   "file_extension": ".py",
   "mimetype": "text/x-python",
   "name": "python",
   "nbconvert_exporter": "python",
   "pygments_lexer": "ipython3",
   "version": "3.7.8"
  }
 },
 "nbformat": 4,
 "nbformat_minor": 2
}
